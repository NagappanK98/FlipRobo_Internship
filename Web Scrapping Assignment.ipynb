{
 "cells": [
  {
   "cell_type": "markdown",
   "metadata": {},
   "source": [
    "# 1 Write a python program to display all the header tags from https://en.wikipedia.org/wiki/Main_Page\n"
   ]
  },
  {
   "cell_type": "code",
   "execution_count": 1,
   "metadata": {},
   "outputs": [],
   "source": [
    "from bs4 import BeautifulSoup\n",
    "import requests"
   ]
  },
  {
   "cell_type": "code",
   "execution_count": 3,
   "metadata": {},
   "outputs": [
    {
     "data": {
      "text/plain": [
       "<Response [200]>"
      ]
     },
     "execution_count": 3,
     "metadata": {},
     "output_type": "execute_result"
    }
   ],
   "source": [
    "X = requests.get(\"https://en.wikipedia.org/wiki/Main_Page\")\n",
    "X"
   ]
  },
  {
   "cell_type": "code",
   "execution_count": 4,
   "metadata": {},
   "outputs": [
    {
     "data": {
      "text/plain": [
       "b'<!DOCTYPE html>\\n<html class=\"client-nojs\" lang=\"en\" dir=\"ltr\">\\n<head>\\n<meta charset=\"UTF-8\"/>\\n<title>Wikipedia, the free encyclopedia</title>\\n<script>document.documentElement.className=\"client-js\";RLCONF={\"wgBreakFrames\":!1,\"wgSeparatorTransformTable\":[\"\",\"\"],\"wgDigitTransformTable\":[\"\",\"\"],\"wgDefaultDateFormat\":\"dmy\",\"wgMonthNames\":[\"\",\"January\",\"February\",\"March\",\"April\",\"May\",\"June\",\"July\",\"August\",\"September\",\"October\",\"November\",\"December\"],\"wgRequestId\":\"e826c12f-53d3-4777-8213-51db0c03119e\",\"wgCSPNonce\":!1,\"wgCanonicalNamespace\":\"\",\"wgCanonicalSpecialPageName\":!1,\"wgNamespaceNumber\":0,\"wgPageName\":\"Main_Page\",\"wgTitle\":\"Main Page\",\"wgCurRevisionId\":1004593520,\"wgRevisionId\":1004593520,\"wgArticleId\":15580374,\"wgIsArticle\":!0,\"wgIsRedirect\":!1,\"wgAction\":\"view\",\"wgUserName\":null,\"wgUserGroups\":[\"*\"],\"wgCategories\":[],\"wgPageContentLanguage\":\"en\",\"wgPageContentModel\":\"wikitext\",\"wgRelevantPageName\":\"Main_Page\",\"wgRelevantArticleId\":15580374,\"wgIsProbablyEditable\":!1,\"wgRelevantPageIsProbablyEditable\":!1,\"wgRestrictionEdit\":[\"sysop\"],\"wgRestrictionMove\":[\"sysop\"],\"wgIsMainPage\":!0,\"wgMediaViewerOnClick\":!0\\n,\"wgMediaViewerEnabledByDefault\":!0,\"wgPopupsReferencePreviews\":!1,\"wgPopupsReferencePreviewsBeta\":!0,\"wgPopupsConflictsWithNavPopupGadget\":!1,\"wgPopupsConflictsWithRefTooltipsGadget\":!0,\"wgVisualEditor\":{\"pageLanguageCode\":\"en\",\"pageLanguageDir\":\"ltr\",\"pageVariantFallbacks\":\"en\"},\"wgMFDisplayWikibaseDescriptions\":{\"search\":!0,\"nearby\":!0,\"watchlist\":!0,\"tagline\":!1},\"wgWMESchemaEditAttemptStepOversample\":!1,\"wgULSCurrentAutonym\":\"English\",\"wgNoticeProject\":\"wikipedia\",\"wgCentralAuthMobileDomain\":!1,\"wgEditSubmitButtonLabelPublish\":!0,\"wgULSPosition\":\"interlanguage\",\"wgWikibaseItemId\":\"Q5296\"};RLSTATE={\"ext.globalCssJs.user.styles\":\"ready\",\"site.styles\":\"ready\",\"noscript\":\"ready\",\"user.styles\":\"ready\",\"ext.globalCssJs.user\":\"ready\",\"user\":\"ready\",\"user.options\":\"loading\",\"skins.vector.styles.legacy\":\"ready\",\"ext.visualEditor.desktopArticleTarget.noscript\":\"ready\",\"ext.uls.interlanguage\":\"ready\",\"ext.wikimediaBadges\":\"ready\"};RLPAGEMODULES=[\"site\",\\n\"mediawiki.page.ready\",\"skins.vector.legacy.js\",\"ext.gadget.ReferenceTooltips\",\"ext.gadget.charinsert\",\"ext.gadget.extra-toolbar-buttons\",\"ext.gadget.refToolbar\",\"ext.gadget.switcher\",\"ext.centralauth.centralautologin\",\"mmv.head\",\"mmv.bootstrap.autostart\",\"ext.popups\",\"ext.visualEditor.desktopArticleTarget.init\",\"ext.visualEditor.targetLoader\",\"ext.eventLogging\",\"ext.wikimediaEvents\",\"ext.navigationTiming\",\"ext.uls.interface\",\"ext.cx.eventlogging.campaigns\",\"ext.centralNotice.geoIP\",\"ext.centralNotice.startUp\"];</script>\\n<script>(RLQ=window.RLQ||[]).push(function(){mw.loader.implement(\"user.options@1hzgi\",function($,jQuery,require,module){/*@nomin*/mw.user.tokens.set({\"patrolToken\":\"+\\\\\\\\\",\"watchToken\":\"+\\\\\\\\\",\"csrfToken\":\"+\\\\\\\\\"});\\n});});</script>\\n<link rel=\"stylesheet\" href=\"/w/load.php?lang=en&amp;modules=ext.uls.interlanguage%7Cext.visualEditor.desktopArticleTarget.noscript%7Cext.wikimediaBadges%7Cskins.vector.styles.legacy&amp;only=styles&amp;skin=vector\"/>\\n<script async=\"\" src=\"/w/load.php?lang=en&amp;modules=startup&amp;only=scripts&amp;raw=1&amp;skin=vector\"></script>\\n<meta name=\"ResourceLoaderDynamicStyles\" content=\"\"/>\\n<link rel=\"stylesheet\" href=\"/w/load.php?lang=en&amp;modules=site.styles&amp;only=styles&amp;skin=vector\"/>\\n<meta name=\"generator\" content=\"MediaWiki 1.36.0-wmf.35\"/>\\n<meta name=\"referrer\" content=\"origin\"/>\\n<meta name=\"referrer\" content=\"origin-when-crossorigin\"/>\\n<meta name=\"referrer\" content=\"origin-when-cross-origin\"/>\\n<meta property=\"og:image\" content=\"https://upload.wikimedia.org/wikipedia/commons/thumb/1/17/HMS_Princess_Royal_LOC_18244u.jpg/1200px-HMS_Princess_Royal_LOC_18244u.jpg\"/>\\n<meta property=\"og:title\" content=\"Wikipedia, the free encyclopedia\"/>\\n<meta property=\"og:type\" content=\"website\"/>\\n<link rel=\"preconnect\" href=\"//upload.wikimedia.org\"/>\\n<link rel=\"alternate\" media=\"only screen and (max-width: 720px)\" href=\"//en.m.wikipedia.org/wiki/Main_Page\"/>\\n<link rel=\"alternate\" type=\"application/atom+xml\" title=\"Wikipedia picture of the day feed\" href=\"/w/api.php?action=featuredfeed&amp;feed=potd&amp;feedformat=atom\"/>\\n<link rel=\"alternate\" type=\"application/atom+xml\" title=\"Wikipedia featured articles feed\" href=\"/w/api.php?action=featuredfeed&amp;feed=featured&amp;feedformat=atom\"/>\\n<link rel=\"alternate\" type=\"application/atom+xml\" title=\"Wikipedia &quot;On this day...&quot; feed\" href=\"/w/api.php?action=featuredfeed&amp;feed=onthisday&amp;feedformat=atom\"/>\\n<link rel=\"apple-touch-icon\" href=\"/static/apple-touch/wikipedia.png\"/>\\n<link rel=\"shortcut icon\" href=\"/static/favicon/wikipedia.ico\"/>\\n<link rel=\"search\" type=\"application/opensearchdescription+xml\" href=\"/w/opensearch_desc.php\" title=\"Wikipedia (en)\"/>\\n<link rel=\"EditURI\" type=\"application/rsd+xml\" href=\"//en.wikipedia.org/w/api.php?action=rsd\"/>\\n<link rel=\"license\" href=\"//creativecommons.org/licenses/by-sa/3.0/\"/>\\n<link rel=\"canonical\" href=\"https://en.wikipedia.org/wiki/Main_Page\"/>\\n<link rel=\"dns-prefetch\" href=\"//login.wikimedia.org\"/>\\n<link rel=\"dns-prefetch\" href=\"//meta.wikimedia.org\" />\\n</head>\\n<body class=\"mediawiki ltr sitedir-ltr mw-hide-empty-elt ns-0 ns-subject page-Main_Page rootpage-Main_Page skin-vector action-view skin-vector-legacy\"><div id=\"mw-page-base\" class=\"noprint\"></div>\\n<div id=\"mw-head-base\" class=\"noprint\"></div>\\n<div id=\"content\" class=\"mw-body\" role=\"main\">\\n\\t<a id=\"top\"></a>\\n\\t<div id=\"siteNotice\" class=\"mw-body-content\"><!-- CentralNotice --></div>\\n\\t<div class=\"mw-indicators mw-body-content\">\\n\\t</div>\\n\\t<h1 id=\"firstHeading\" class=\"firstHeading\" >Main Page</h1>\\n\\t<div id=\"bodyContent\" class=\"mw-body-content\">\\n\\t\\t<div id=\"siteSub\" class=\"noprint\">From Wikipedia, the free encyclopedia</div>\\n\\t\\t<div id=\"contentSub\"></div>\\n\\t\\t<div id=\"contentSub2\"></div>\\n\\t\\t\\n\\t\\t<div id=\"jump-to-nav\"></div>\\n\\t\\t<a class=\"mw-jump-link\" href=\"#mw-head\">Jump to navigation</a>\\n\\t\\t<a class=\"mw-jump-link\" href=\"#searchInput\">Jump to search</a>\\n\\t\\t<div id=\"mw-content-text\" lang=\"en\" dir=\"ltr\" class=\"mw-content-ltr\"><div class=\"mw-parser-output\"><style data-mw-deduplicate=\"TemplateStyles:r1004580458\">.mw-parser-output #mp-topbanner{position:relative;box-sizing:border-box;min-width:47em;border-color:#ddd;background-color:#f9f9f9;white-space:nowrap}.mw-parser-output .mp-bordered,.mw-parser-output .mp-h2,body.skin-timeless .mw-parser-output .mp-h2{border-width:1px;border-style:solid}.mw-parser-output #mp-topbanner,.mw-parser-output .mp-h2,.mw-parser-output #mp-left{color:#000}.mw-parser-output #mp-welcomecount{margin:0.4em;width:22em;text-align:center}.mw-parser-output #mp-welcome{font-size:162%;padding:0.1em}.mw-parser-output #mp-free{font-size:95%}.mw-parser-output #articlecount{font-size:85%}.mw-parser-output #mp-portals{position:absolute;right:-1em;top:50%;margin-top:-2.4em;width:38%;min-width:25em;font-size:95%}.mw-parser-output #mp-portals li{position:absolute;left:0;top:0}.mw-parser-output #mp-portals .portal-hmid{left:33%}.mw-parser-output #mp-portals .portal-hright{left:66%}.mw-parser-output #mp-portals .portal-vmid{top:1.6em}.mw-parser-output #mp-portals .portal-vbot{top:3.2em}.mw-parser-output #mp-portals li:last-child{font-weight:bold}.mw-parser-output #mp-banner{margin-top:4px;padding:0.5em;background-color:#fffaf5;border-color:#f2e0ce}.mw-parser-output .mp-h2,body.skin-timeless .mw-parser-output .mp-h2{margin:0.5em;padding:0.2em 0.4em;font-size:120%;font-weight:bold;font-family:inherit}.mw-parser-output h2.mp-h2::after{border:none}.mw-parser-output .mp-later{font-size:85%;font-weight:normal}.mw-parser-output #mp-upper{width:100%;margin-top:4px;margin-bottom:0;border-spacing:0;border-collapse:separate}.mw-parser-output #mp-upper .mid-table{border-color:transparent}.mw-parser-output #mp-left{width:55%;border-color:#cef2e0;background:#f5fffa}.mw-parser-output #mp-right{width:45%;border-color:#cedff2;background:#f5faff}.mw-parser-output #mp-left,.mw-parser-output #mp-right{padding:0;vertical-align:top}.mw-parser-output #mp-left .mp-h2{background:#cef2e0;border-color:#a3bfb1}.mw-parser-output #mp-right .mp-h2{background:#cedff2;border-color:#a3b0bf}.mw-parser-output #mp-tfa,.mw-parser-output #mp-dyk,.mw-parser-output #mp-itn,.mw-parser-output #mp-otd,.mw-parser-output #mp-other-lower>div{padding:0.1em 0.6em}.mw-parser-output #mp-dyk-h2,.mw-parser-output #mp-otd-h2{clear:both}.mw-parser-output #mp-middle{margin-top:4px;border-color:#f2cedd;background:#fff5fa}.mw-parser-output #mp-middle,.mw-parser-output #mp-lower,.mw-parser-output #mp-other-lower{overflow:auto}.mw-parser-output #mp-tfl-h2{background:#f2cedd;border-color:#bfa3af}.mw-parser-output #mp-tfl{padding:0.3em 0.7em}.mw-parser-output #mp-lower{margin-top:4px;border-color:#ddcef2;background:#faf5ff}.mw-parser-output #mp-tfp-h2{background:#ddcef2;border-color:#afa3bf}.mw-parser-output #mp-tfp{margin:0.1em 0.4em 0.6em}.mw-parser-output #mp-other-lower{padding:0;border-color:#e2e2e2;margin-top:4px}.mw-parser-output #mp-dyk,.mw-parser-output #mp-otd,.mw-parser-output #mp-other-lower{padding-bottom:0.5em}.mw-parser-output #mp-other-lower .mp-h2{background:#eee;border-color:#ddd;color:#222}@media(max-width:875px){body.skin--responsive .mw-parser-output #mp-welcomecount{width:auto}body.skin--responsive .mw-parser-output #mp-topbanner{min-width:0;white-space:normal}body.skin--responsive .mw-parser-output #mp-portals{position:static;width:auto;min-width:0;text-align:center;border-top:1px solid #ddd;padding:0.4em 0;margin:0 0.4em}body.skin--responsive .mw-parser-output #mp-portals li{position:static;display:inline;padding:0 5px;white-space:nowrap}body.skin--responsive .mw-parser-output table,body.skin--responsive .mw-parser-output tr,body.skin--responsive .mw-parser-output td,body.skin--responsive .mw-parser-output tbody{display:block!important;width:100%!important;box-sizing:border-box}body.skin--responsive .mw-parser-output #mp-tfp tr:first-child td:first-child a{text-align:center;display:table;margin:0 auto}}</style>\\n<div id=\"mp-topbanner\" class=\"mp-bordered\">\\n<div id=\"mp-welcomecount\">\\n<div id=\"mp-welcome\">Welcome to <a href=\"/wiki/Wikipedia\" title=\"Wikipedia\">Wikipedia</a>,</div>\\n<div id=\"mp-free\">the <a href=\"/wiki/Free_content\" title=\"Free content\">free</a> <a href=\"/wiki/Encyclopedia\" title=\"Encyclopedia\">encyclopedia</a> that <a href=\"/wiki/Help:Introduction_to_Wikipedia\" title=\"Help:Introduction to Wikipedia\">anyone can edit</a>.</div>\\n<div id=\"articlecount\"><a href=\"/wiki/Special:Statistics\" title=\"Special:Statistics\">6,273,905</a> articles in <a href=\"/wiki/English_language\" title=\"English language\">English</a></div>\\n</div>\\n<ul id=\"mp-portals\">\\n<li><a href=\"/wiki/Portal:The_arts\" title=\"Portal:The arts\">The arts</a></li>\\n<li class=\"portal-vmid\"><a href=\"/wiki/Portal:Biography\" title=\"Portal:Biography\">Biography</a></li>\\n<li class=\"portal-vbot\"><a href=\"/wiki/Portal:Geography\" title=\"Portal:Geography\">Geography</a></li>\\n<li class=\"portal-hmid\"><a href=\"/wiki/Portal:History\" title=\"Portal:History\">History</a></li>\\n<li class=\"portal-hmid portal-vmid\"><a href=\"/wiki/Portal:Mathematics\" title=\"Portal:Mathematics\">Mathematics</a></li>\\n<li class=\"portal-hmid portal-vbot\"><a href=\"/wiki/Portal:Science\" title=\"Portal:Science\">Science</a></li>\\n<li class=\"portal-hright\"><a href=\"/wiki/Portal:Society\" title=\"Portal:Society\">Society</a></li>\\n<li class=\"portal-hright portal-vmid\"><a href=\"/wiki/Portal:Technology\" title=\"Portal:Technology\">Technology</a></li>\\n<li class=\"portal-hright portal-vbot\"><a href=\"/wiki/Wikipedia:Contents/Portals\" title=\"Wikipedia:Contents/Portals\">All portals</a></li>\\n</ul>\\n</div>\\n<table role=\"presentation\" id=\"mp-upper\">\\n<tbody><tr>\\n<td id=\"mp-left\" class=\"MainPageBG mp-bordered\">\\n<h2 id=\"mp-tfa-h2\" class=\"mp-h2\"><span id=\"From_today.27s_featured_article\"></span><span class=\"mw-headline\" id=\"From_today\\'s_featured_article\">From today\\'s featured article</span></h2>\\n<div id=\"mp-tfa\"><div id=\"mp-tfa-img\" style=\"float: left; margin: 0.5em 0.9em 0.4em 0em;\">\\n<div class=\"thumbinner mp-thumb\" style=\"background: transparent; border: none; padding: 0; max-width: 196px;\">\\n<a href=\"/wiki/File:HMS_Princess_Royal_LOC_18244u.jpg\" class=\"image\" title=\"HMS Princess Royal\"><img alt=\"HMS Princess Royal\" src=\"//upload.wikimedia.org/wikipedia/commons/thumb/1/17/HMS_Princess_Royal_LOC_18244u.jpg/196px-HMS_Princess_Royal_LOC_18244u.jpg\" decoding=\"async\" width=\"196\" height=\"100\" srcset=\"//upload.wikimedia.org/wikipedia/commons/thumb/1/17/HMS_Princess_Royal_LOC_18244u.jpg/294px-HMS_Princess_Royal_LOC_18244u.jpg 1.5x, //upload.wikimedia.org/wikipedia/commons/thumb/1/17/HMS_Princess_Royal_LOC_18244u.jpg/392px-HMS_Princess_Royal_LOC_18244u.jpg 2x\" data-file-width=\"5340\" data-file-height=\"2723\" /></a></div>\\n</div>\\n<p><b><a href=\"/wiki/HMS_Princess_Royal_(1911)\" title=\"HMS Princess Royal (1911)\">HMS&#160;<i>Princess Royal</i></a></b> was built for the British <a href=\"/wiki/Royal_Navy\" title=\"Royal Navy\">Royal Navy</a> before the <a href=\"/wiki/World_War_I\" title=\"World War I\">First World War</a> in response to the <a href=\"/wiki/Moltke-class_battlecruiser\" title=\"Moltke-class battlecruiser\"><i>Moltke</i>-class</a> battlecruisers of the <a href=\"/wiki/Imperial_German_Navy\" title=\"Imperial German Navy\">Imperial German Navy</a> and significantly improved on the speed, armament, and armour of earlier <a href=\"/wiki/Battlecruiser\" title=\"Battlecruiser\">battlecruisers</a>. <a href=\"/wiki/Keel_laying\" title=\"Keel laying\">Laid down</a> in 1912 and <a href=\"/wiki/Ship_commissioning\" title=\"Ship commissioning\">commissioned</a> in 1913, <i>Princess Royal</i> served in the <a href=\"/wiki/Battle_of_Heligoland_Bight_(1914)\" title=\"Battle of Heligoland Bight (1914)\">Battle of Heligoland Bight</a> a month after the war began. During the <a href=\"/wiki/Battle_of_Dogger_Bank_(1915)\" title=\"Battle of Dogger Bank (1915)\">Battle of Dogger Bank</a>, <i>Princess Royal</i> scored few hits, although one crippled the German <a href=\"/wiki/Armored_cruiser\" title=\"Armored cruiser\">armoured cruiser</a> <a href=\"/wiki/SMS_Bl%C3%BCcher\" title=\"SMS Bl\\xc3\\xbccher\"><i>Bl\\xc3\\xbccher</i></a>. Shortly afterward, she became the <a href=\"/wiki/Flagship\" title=\"Flagship\">flagship</a> of the 1st Battlecruiser <a href=\"/wiki/Squadron_(naval)\" title=\"Squadron (naval)\">Squadron</a>, under the command of Rear-Admiral <a href=\"/wiki/Osmond_Brock\" title=\"Osmond Brock\">Osmond Brock</a>. <i>Princess Royal</i> was moderately damaged during the <a href=\"/wiki/Battle_of_Jutland\" title=\"Battle of Jutland\">Battle of Jutland</a> and required a month and a half of repairs. Apart from providing distant support during the <a href=\"/wiki/Second_Battle_of_Heligoland_Bight\" title=\"Second Battle of Heligoland Bight\">Second Battle of Heligoland Bight</a> in 1917, the ship spent the rest of the war on uneventful patrols of the <a href=\"/wiki/North_Sea\" title=\"North Sea\">North Sea</a>. She was sold for <a href=\"/wiki/Ship_breaking\" title=\"Ship breaking\">breaking up</a> as <a href=\"/wiki/Scrap\" title=\"Scrap\">scrap</a> in 1922. <i>(<b><a href=\"/wiki/HMS_Princess_Royal_(1911)\" title=\"HMS Princess Royal (1911)\">This&#160;article</a></b> is part of a <a href=\"/wiki/Wikipedia:Featured_topics\" title=\"Wikipedia:Featured topics\">featured topic</a>: <b><a href=\"/wiki/Wikipedia:Featured_topics/Battlecruisers_of_the_world\" title=\"Wikipedia:Featured topics/Battlecruisers of the world\">Battlecruisers of the world</a></b>.)</i>\\n</p>\\n<div class=\"tfa-recent\" style=\"text-align: right;\">\\nRecently featured: <div class=\"hlist hlist-separated inline\">\\n<ul><li><a href=\"/wiki/Sirius\" title=\"Sirius\">Sirius</a></li>\\n<li><a href=\"/wiki/Duke_and_Duchess_of_Windsor%27s_1937_tour_of_Germany\" title=\"Duke and Duchess of Windsor&#39;s 1937 tour of Germany\">Duke and Duchess of Windsor\\'s 1937 tour of Germany</a></li>\\n<li><a href=\"/wiki/University_of_Washington_station\" title=\"University of Washington station\">University of Washington station</a></li></ul>\\n</div></div>\\n<div class=\"tfa-footer hlist hlist-separated noprint\" style=\"text-align: right;\">\\n<ul><li><b><a href=\"/wiki/Wikipedia:Today%27s_featured_article/March_2021\" title=\"Wikipedia:Today&#39;s featured article/March 2021\">Archive</a></b></li>\\n<li><b><a href=\"https://lists.wikimedia.org/mailman/listinfo/daily-article-l\" class=\"extiw\" title=\"mail:daily-article-l\">By email</a></b></li>\\n<li><b><a href=\"/wiki/Wikipedia:Featured_articles\" title=\"Wikipedia:Featured articles\">More featured articles</a></b></li></ul>\\n</div></div>\\n<h2 id=\"mp-dyk-h2\" class=\"mp-h2\"><span class=\"mw-headline\" id=\"Did_you_know_...\">Did you know&#160;...</span></h2>\\n<div id=\"mp-dyk\">\\n<div class=\"dyk-img\" style=\"float: right; margin-left: 0.5em;\">\\n<div class=\"thumbinner mp-thumb\" style=\"background: transparent; border: none; padding: 0; max-width: 127px;\">\\n<a href=\"/wiki/File:SammyByrdGoudeycard.jpg\" class=\"image\" title=\"Sammy Byrd\"><img alt=\"Sammy Byrd\" src=\"//upload.wikimedia.org/wikipedia/commons/thumb/9/9a/SammyByrdGoudeycard.jpg/127px-SammyByrdGoudeycard.jpg\" decoding=\"async\" width=\"127\" height=\"155\" srcset=\"//upload.wikimedia.org/wikipedia/commons/thumb/9/9a/SammyByrdGoudeycard.jpg/191px-SammyByrdGoudeycard.jpg 1.5x, //upload.wikimedia.org/wikipedia/commons/thumb/9/9a/SammyByrdGoudeycard.jpg/254px-SammyByrdGoudeycard.jpg 2x\" data-file-width=\"317\" data-file-height=\"386\" /></a><div class=\"thumbcaption\" style=\"padding: 0.25em 0; word-wrap: break-word;\">Sammy Byrd</div></div>\\n</div>\\n<ul><li>... that <b><a href=\"/wiki/Sammy_Byrd\" title=\"Sammy Byrd\">Sammy Byrd</a></b> <i>(pictured)</i> is the only person to play in both a <a href=\"/wiki/World_Series\" title=\"World Series\">World Series</a> and a <a href=\"/wiki/Masters_Tournament\" title=\"Masters Tournament\">Masters Tournament</a>?</li>\\n<li>... that the music styles in the <b><a href=\"/wiki/MewithoutYou_discography\" title=\"MewithoutYou discography\">discography of mewithoutYou</a></b> range from screamed post-hardcore vocals to acoustic campfire songs?</li>\\n<li>... that <b><a href=\"/wiki/Eliza_Pottie\" title=\"Eliza Pottie\">Eliza Pottie</a></b> was one of a small group of women who founded the first <a href=\"/wiki/YWCA\" title=\"YWCA\">Young Women\\'s Christian Association</a> branch in Sydney?</li>\\n<li>... that at the <b><a href=\"/wiki/2021_Welsh_Open_(snooker)\" title=\"2021 Welsh Open (snooker)\">2021 Welsh Open</a></b>, <a href=\"/wiki/Jordan_Brown_(snooker_player)\" title=\"Jordan Brown (snooker player)\">Jordan Brown</a> was the lowest-ranked snooker player to win a <a href=\"/wiki/Snooker_world_rankings\" title=\"Snooker world rankings\">ranking event</a> since 1993?</li>\\n<li>... that <b><a href=\"/wiki/Andrew_Logan_(surgeon)\" title=\"Andrew Logan (surgeon)\">Andrew Logan</a></b> assisted at the first <a href=\"/wiki/Pneumonectomy\" title=\"Pneumonectomy\">pneumonectomy</a> in the UK and performed the country\\'s first <a href=\"/wiki/Lung_transplantation\" title=\"Lung transplantation\">lung transplant</a>?</li>\\n<li>... that the 1938 film <i><b><a href=\"/wiki/Gangster%27s_Boy\" title=\"Gangster&#39;s Boy\">Gangster\\'s Boy</a></b></i> starred silent-film actress <a href=\"/wiki/Betty_Blythe\" title=\"Betty Blythe\">Betty Blythe</a>, who took on roles that she liked despite a source saying that she was \"more or less retired\"?</li>\\n<li>... that the baritone <b><a href=\"/wiki/Benjamin_Appl\" title=\"Benjamin Appl\">Benjamin Appl</a></b>, the last private student of <a href=\"/wiki/Dietrich_Fischer-Dieskau\" title=\"Dietrich Fischer-Dieskau\">Dietrich Fischer-Dieskau</a>, was named <i><a href=\"/wiki/Gramophone_(magazine)\" title=\"Gramophone (magazine)\">Gramophone</a></i><span class=\"nowrap\" style=\"padding-left:0.1em;\">&#39;s</span> Young Artist of 2016?</li>\\n<li>... that when commenting on her decision to depict <a href=\"/wiki/Achilles\" title=\"Achilles\">Achilles</a> and <a href=\"/wiki/Patroclus\" title=\"Patroclus\">Patroclus</a> as lovers in her novel <i><b><a href=\"/wiki/The_Song_of_Achilles\" title=\"The Song of Achilles\">The Song of Achilles</a></b></i>, author <a href=\"/wiki/Madeline_Miller\" title=\"Madeline Miller\">Madeline Miller</a> remarked: \"I stole it from <a href=\"/wiki/Plato\" title=\"Plato\">Plato</a>\"?</li></ul>\\n<div class=\"dyk-footer hlist noprint\" style=\"margin-top: 0.5em; text-align: right;\">\\n<ul><li><b><a href=\"/wiki/Wikipedia:Recent_additions\" title=\"Wikipedia:Recent additions\">Archive</a></b></li>\\n<li><b><a href=\"/wiki/Help:Your_first_article\" title=\"Help:Your first article\">Start a new article</a></b></li>\\n<li><b><a href=\"/wiki/Template_talk:Did_you_know\" title=\"Template talk:Did you know\">Nominate an article</a></b></li></ul>\\n</div>\\n</div>\\n</td>\\n<td class=\"mp-bordered mid-table\">\\n</td>\\n<td id=\"mp-right\" class=\"MainPageBG mp-bordered\">\\n<h2 id=\"mp-itn-h2\" class=\"mp-h2\"><span class=\"mw-headline\" id=\"In_the_news\">In the news</span></h2>\\n<div id=\"mp-itn\"><div role=\"figure\" class=\"itn-img\" style=\"float: right; margin-left: 0.5em; margin-top: 0.2em;\">\\n<div class=\"thumbinner mp-thumb\" style=\"background: transparent; border: none; padding: 0; max-width: 129px;\">\\n<a href=\"/wiki/File:Samia_Suluhu_Hassan_in_May_2017.jpg\" class=\"image\" title=\"Samia Suluhu in 2017\"><img alt=\"Samia Suluhu in 2017\" src=\"//upload.wikimedia.org/wikipedia/commons/thumb/7/70/Samia_Suluhu_Hassan_in_May_2017.jpg/129px-Samia_Suluhu_Hassan_in_May_2017.jpg\" decoding=\"async\" width=\"129\" height=\"152\" srcset=\"//upload.wikimedia.org/wikipedia/commons/thumb/7/70/Samia_Suluhu_Hassan_in_May_2017.jpg/194px-Samia_Suluhu_Hassan_in_May_2017.jpg 1.5x, //upload.wikimedia.org/wikipedia/commons/thumb/7/70/Samia_Suluhu_Hassan_in_May_2017.jpg/258px-Samia_Suluhu_Hassan_in_May_2017.jpg 2x\" data-file-width=\"1492\" data-file-height=\"1763\" /></a><div class=\"thumbcaption\" style=\"padding: 0.25em 0; word-wrap: break-word; text-align: left;\">Samia Suluhu</div></div>\\n</div>\\n<ul><li><b><a href=\"/wiki/Samia_Suluhu\" title=\"Samia Suluhu\">Samia Suluhu</a></b> <i>(pictured)</i> becomes the first female <a href=\"/wiki/President_of_Tanzania\" title=\"President of Tanzania\">president of Tanzania</a>, following the death of <b><a href=\"/wiki/John_Magufuli\" title=\"John Magufuli\">John Magufuli</a></b> at the age of 61.</li>\\n<li>Mathematicians <b><a href=\"/wiki/Avi_Wigderson\" title=\"Avi Wigderson\">Avi Wigderson</a></b> and <b><a href=\"/wiki/L%C3%A1szl%C3%B3_Lov%C3%A1sz\" title=\"L\\xc3\\xa1szl\\xc3\\xb3 Lov\\xc3\\xa1sz\">L\\xc3\\xa1szl\\xc3\\xb3 Lov\\xc3\\xa1sz</a></b> share the <a href=\"/wiki/Abel_Prize\" title=\"Abel Prize\">Abel Prize</a> for their work in <a href=\"/wiki/Computational_complexity_theory\" title=\"Computational complexity theory\">complexity theory</a> and <a href=\"/wiki/Graph_theory\" title=\"Graph theory\">graph theory</a>.</li>\\n<li>In <a href=\"/wiki/Sailing_(sport)\" title=\"Sailing (sport)\">sailing</a>, <b><a href=\"/wiki/2021_America%27s_Cup\" title=\"2021 America&#39;s Cup\">the America\\'s Cup</a></b> concludes with <a href=\"/wiki/Team_New_Zealand\" title=\"Team New Zealand\">Team New Zealand</a> beating Italy\\'s <a href=\"/wiki/Luna_Rossa_Challenge\" title=\"Luna Rossa Challenge\">Luna Rossa Challenge</a>.</li>\\n<li>In the United States, <b><a href=\"/wiki/2021_Atlanta_spa_shootings\" title=\"2021 Atlanta spa shootings\">a series of mass shootings</a></b> at three <a href=\"/wiki/Massage_parlor\" title=\"Massage parlor\">massage parlors</a> in <a href=\"/wiki/Atlanta\" title=\"Atlanta\">Atlanta</a> leaves eight dead, including six women of Asian descent.</li></ul>\\n<div class=\"itn-footer\" style=\"margin-top: 0.5em;\">\\n<div><b><a href=\"/wiki/Portal:Current_events\" title=\"Portal:Current events\">Ongoing</a></b>: <div class=\"hlist hlist-separated inline\">\\n<ul><li><a href=\"/wiki/COVID-19_pandemic\" title=\"COVID-19 pandemic\">COVID-19 pandemic</a></li>\\n<li><a href=\"/wiki/2021_Myanmar_protests\" title=\"2021 Myanmar protests\">Myanmar protests</a></li></ul></div></div>\\n<div><b><a href=\"/wiki/Deaths_in_2021\" title=\"Deaths in 2021\">Recent deaths</a></b>&#58; <div class=\"hlist hlist-separated inline\">\\n<ul><li><a href=\"/wiki/Elsa_Peretti\" title=\"Elsa Peretti\">Elsa Peretti</a></li>\\n<li><a href=\"/wiki/Courtney_Blackman\" title=\"Courtney Blackman\">Courtney Blackman</a></li>\\n<li><a href=\"/wiki/Ed_Armbrister\" title=\"Ed Armbrister\">Ed Armbrister</a></li>\\n<li><a href=\"/wiki/Peter_Lorimer\" title=\"Peter Lorimer\">Peter Lorimer</a></li>\\n<li><a href=\"/wiki/Clark_M._Blatteis\" title=\"Clark M. Blatteis\">Clark M. Blatteis</a></li>\\n<li><a href=\"/wiki/Glynn_Lunney\" title=\"Glynn Lunney\">Glynn Lunney</a></li></ul></div></div></div>\\n<div class=\"itn-footer hlist hlist-separated noprint\" style=\"text-align: right;\">\\n<ul><li><b><a href=\"/wiki/Wikipedia:In_the_news/Candidates\" title=\"Wikipedia:In the news/Candidates\">Nominate an article</a></b></li></ul></div></div>\\n<h2 id=\"mp-otd-h2\" class=\"mp-h2\"><span class=\"mw-headline\" id=\"On_this_day\">On this day</span></h2>\\n<div id=\"mp-otd\">\\n<p><b><a href=\"/wiki/March_22\" title=\"March 22\">March 22</a></b>: <b><a href=\"/wiki/World_Water_Day\" title=\"World Water Day\">World Water Day</a></b>\\n</p>\\n<div style=\"float:right;margin-left:0.5em;\" id=\"mp-otd-img\">\\n<div class=\"thumbinner mp-thumb\" style=\"background: transparent; border: none; padding: 0; max-width: 117px;\">\\n<a href=\"/wiki/File:NCG-WilliamHolden.jpg\" class=\"image\" title=\"William Woods Holden\"><img alt=\"William Woods Holden\" src=\"//upload.wikimedia.org/wikipedia/commons/thumb/8/86/NCG-WilliamHolden.jpg/117px-NCG-WilliamHolden.jpg\" decoding=\"async\" width=\"117\" height=\"168\" srcset=\"//upload.wikimedia.org/wikipedia/commons/thumb/8/86/NCG-WilliamHolden.jpg/176px-NCG-WilliamHolden.jpg 1.5x, //upload.wikimedia.org/wikipedia/commons/thumb/8/86/NCG-WilliamHolden.jpg/234px-NCG-WilliamHolden.jpg 2x\" data-file-width=\"287\" data-file-height=\"411\" /></a><div class=\"thumbcaption\" style=\"padding: 0.25em 0; word-wrap: break-word;\">William Woods Holden</div></div>\\n</div>\\n<ul><li><a href=\"/wiki/AD_106\" title=\"AD 106\">106</a> \\xe2\\x80\\x93 The <b><a href=\"/wiki/Bostran_era\" title=\"Bostran era\">Bostran era</a></b>, the official era of the <a href=\"/wiki/Roman_province\" title=\"Roman province\">Roman province</a> of <a href=\"/wiki/Arabia_Petraea\" title=\"Arabia Petraea\">Arabia Petraea</a>, began.</li>\\n<li><a href=\"/wiki/1638\" title=\"1638\">1638</a> \\xe2\\x80\\x93 <b><a href=\"/wiki/Anne_Hutchinson\" title=\"Anne Hutchinson\">Anne Hutchinson</a></b> was expelled from the <a href=\"/wiki/Massachusetts_Bay_Colony\" title=\"Massachusetts Bay Colony\">Massachusetts Bay Colony</a> for her participation in the <a href=\"/wiki/Antinomian_Controversy\" title=\"Antinomian Controversy\">Antinomian Controversy</a>.</li>\\n<li><a href=\"/wiki/1765\" title=\"1765\">1765</a> \\xe2\\x80\\x93 The <a href=\"/wiki/Parliament_of_Great_Britain\" title=\"Parliament of Great Britain\">Parliament of Great Britain</a> passed the <b><a href=\"/wiki/Stamp_Act_1765\" title=\"Stamp Act 1765\">Stamp Act</a></b>, requiring that many printed materials in the <a href=\"/wiki/Thirteen_Colonies\" title=\"Thirteen Colonies\">Thirteen Colonies</a> in <a href=\"/wiki/British_America\" title=\"British America\">British America</a> carry a <a href=\"/wiki/Revenue_stamp\" title=\"Revenue stamp\">tax stamp</a>.</li>\\n<li><a href=\"/wiki/1871\" title=\"1871\">1871</a> \\xe2\\x80\\x93 <b><a href=\"/wiki/William_Woods_Holden\" title=\"William Woods Holden\">William Woods Holden</a></b> <i>(pictured)</i>, <a href=\"/wiki/Governor_of_North_Carolina\" title=\"Governor of North Carolina\">Governor of North Carolina</a>, became the first U.S. state governor to be removed from office through <a href=\"/wiki/Impeachment\" title=\"Impeachment\">impeachment</a>.</li>\\n<li><a href=\"/wiki/2004\" title=\"2004\">2004</a> \\xe2\\x80\\x93 Palestinian <a href=\"/wiki/Imam\" title=\"Imam\">imam</a> Sheikh <b><a href=\"/wiki/Ahmed_Yassin\" title=\"Ahmed Yassin\">Ahmed Yassin</a></b>, a founder and the spiritual leader of <a href=\"/wiki/Hamas\" title=\"Hamas\">Hamas</a>, was killed by an Israeli missile as he left early morning prayers.</li></ul>\\n<div class=\"hlist hlist-separated\" style=\"margin-top: 0.5em;\"><ul><li><b><a href=\"/wiki/Anthony_van_Dyck\" title=\"Anthony van Dyck\">Anthony van Dyck</a></b>  (<abbr title=\"born\">b.</abbr>&#160;1599)</li><li><b><a href=\"/wiki/Caroline_Norton\" title=\"Caroline Norton\">Caroline Norton</a></b>  (<abbr title=\"born\">b.</abbr>&#160;1808)</li><li><b><a href=\"/wiki/Kenz%C5%8D_Tange\" title=\"Kenz\\xc5\\x8d Tange\">Kenz\\xc5\\x8d Tange</a></b>  (<abbr title=\"died\">d.</abbr>&#160;2005)</li></ul></div>\\n<div style=\"margin-top: 0.5em;\">\\nMore anniversaries: <div class=\"hlist hlist-separated inline nowraplinks\">\\n<ul><li><a href=\"/wiki/March_21\" title=\"March 21\">March 21</a></li>\\n<li><b><a href=\"/wiki/March_22\" title=\"March 22\">March 22</a></b></li>\\n<li><a href=\"/wiki/March_23\" title=\"March 23\">March 23</a></li></ul>\\n</div></div>\\n<div class=\"otd-footer hlist hlist-separated noprint\" style=\"text-align: right;\">\\n<ul><li><b><a href=\"/wiki/Wikipedia:Selected_anniversaries/March\" title=\"Wikipedia:Selected anniversaries/March\">Archive</a></b></li>\\n<li><b><a href=\"https://lists.wikimedia.org/mailman/listinfo/daily-article-l\" class=\"extiw\" title=\"mail:daily-article-l\">By email</a></b></li>\\n<li><b><a href=\"/wiki/List_of_days_of_the_year\" title=\"List of days of the year\">List of days of the year</a></b></li></ul>\\n</div>\\n</div>\\n</td></tr></tbody></table>\\n<div id=\"mp-middle\" class=\"MainPageBG mp-bordered\">\\n<div id=\"mp-center\">\\n<h2 id=\"mp-tfl-h2\" class=\"mp-h2\"><span id=\"From_today.27s_featured_list\"></span><span class=\"mw-headline\" id=\"From_today\\'s_featured_list\">From today\\'s featured list</span></h2>\\n<div id=\"mp-tfl\"><div id=\"mp-tfl-img\" style=\"float:right;margin:0.5em 0 0.4em 0.9em;\"><div class=\"thumbinner mp-thumb\" style=\"background: transparent; border: none; padding: 0; max-width: 120px;\">\\n<a href=\"/wiki/File:Mary_Pickford_1916_2.jpg\" class=\"image\" title=\"Mary Pickford\"><img alt=\"Mary Pickford\" src=\"//upload.wikimedia.org/wikipedia/commons/thumb/3/34/Mary_Pickford_1916_2.jpg/120px-Mary_Pickford_1916_2.jpg\" decoding=\"async\" width=\"120\" height=\"164\" srcset=\"//upload.wikimedia.org/wikipedia/commons/thumb/3/34/Mary_Pickford_1916_2.jpg/180px-Mary_Pickford_1916_2.jpg 1.5x, //upload.wikimedia.org/wikipedia/commons/thumb/3/34/Mary_Pickford_1916_2.jpg/240px-Mary_Pickford_1916_2.jpg 2x\" data-file-width=\"691\" data-file-height=\"947\" /></a><div class=\"thumbcaption\" style=\"padding: 0.25em 0; word-wrap: break-word;\">Mary Pickford</div></div>\\n</div>\\n<p>Canadian-American motion-picture actress <a href=\"/wiki/Mary_Pickford\" title=\"Mary Pickford\">Mary Pickford</a> started <b><a href=\"/wiki/Mary_Pickford_filmography\" title=\"Mary Pickford filmography\">her film career</a></b> in the United States in 1909, having began acting on stage in 1900. During the <a href=\"/wiki/Silent_film\" title=\"Silent film\">silent-film</a> era, she became one of the first great celebrities of the cinema and a <a href=\"/wiki/Pop_icon\" title=\"Pop icon\">popular icon</a> known to the public as \"America\\'s Sweetheart\". Initially with the <a href=\"/wiki/Biograph_Company\" title=\"Biograph Company\">Biograph Company</a>, she moved to the <a href=\"/wiki/Independent_Moving_Pictures\" title=\"Independent Moving Pictures\">Independent Motion Picture Company</a> in 1911, then briefly to the Majestic Film Company later that same year, followed by a return to Biograph in 1912. After appearing in over 150 short films during her years with these studios, she began working in features with <a href=\"/wiki/Adolph_Zukor\" title=\"Adolph Zukor\">Zukor</a>\\'s <a href=\"/wiki/Famous_Players_Film_Company\" title=\"Famous Players Film Company\">Famous Players Film Company</a>, a studio that eventually became part of <a href=\"/wiki/Paramount_Pictures\" title=\"Paramount Pictures\">Paramount Pictures</a>. By 1916, Pickford\\'s popularity had reached the point that she was awarded a contract making her a partner with Zukor and allowing her to produce her own films. Following the release of <i><a href=\"/wiki/Secrets_(1933_film)\" title=\"Secrets (1933 film)\">Secrets</a></i> (1933), Pickford retired from acting in motion pictures, but remained active as a producer for several years afterwards. (<b><a href=\"/wiki/Mary_Pickford_filmography\" title=\"Mary Pickford filmography\">Full&#160;list...</a></b>)\\n</p>\\n<div class=\"tfl-recent\" style=\"text-align: right;\">\\nRecently featured: <div class=\"hlist hlist-separated inline\">\\n<ul><li><a href=\"/wiki/DNA_and_RNA_codon_tables\" title=\"DNA and RNA codon tables\">DNA and RNA codon tables</a></li>\\n<li><a href=\"/wiki/List_of_songs_recorded_by_Billie_Eilish\" title=\"List of songs recorded by Billie Eilish\">Songs recorded by Billie Eilish</a></li>\\n<li><a href=\"/wiki/List_of_stupas_in_Nepal\" title=\"List of stupas in Nepal\">Stupas in Nepal</a></li></ul>\\n</div></div>\\n<div class=\"tfl-footer hlist hlist-separated noprint\" style=\"text-align: right;\">\\n<ul><li><b><a href=\"/wiki/Wikipedia:Today%27s_featured_list/March_2021\" title=\"Wikipedia:Today&#39;s featured list/March 2021\">Archive</a></b></li>\\n<li><b><a href=\"/wiki/Wikipedia:Featured_lists\" title=\"Wikipedia:Featured lists\">More featured lists</a></b></li></ul>\\n</div></div>\\n</div>\\n</div>\\n<div id=\"mp-lower\" class=\"MainPageBG mp-bordered\">\\n<div id=\"mp-bottom\">\\n<h2 id=\"mp-tfp-h2\" class=\"mp-h2\"><span id=\"Today.27s_featured_picture\"></span><span class=\"mw-headline\" id=\"Today\\'s_featured_picture\">Today\\'s featured picture</span></h2>\\n<div id=\"mp-tfp\">\\n<table role=\"presentation\" style=\"margin:0 3px 3px; width:100%; box-sizing:border-box; text-align:left; background-color:transparent; border-collapse:collapse;\">\\n<tbody><tr>\\n<td style=\"padding:0 0.9em 0 0; width:280px;\"><a href=\"/wiki/File:Ab%C5%AB_l-Hasan_Ban%C4%ABsadr_IMG_2044_edit.jpg\" class=\"image\" title=\"Abolhassan Banisadr\"><img alt=\"Abolhassan Banisadr\" src=\"//upload.wikimedia.org/wikipedia/commons/thumb/f/f2/Ab%C5%AB_l-Hasan_Ban%C4%ABsadr_IMG_2044_edit.jpg/280px-Ab%C5%AB_l-Hasan_Ban%C4%ABsadr_IMG_2044_edit.jpg\" decoding=\"async\" width=\"280\" height=\"408\" srcset=\"//upload.wikimedia.org/wikipedia/commons/thumb/f/f2/Ab%C5%AB_l-Hasan_Ban%C4%ABsadr_IMG_2044_edit.jpg/420px-Ab%C5%AB_l-Hasan_Ban%C4%ABsadr_IMG_2044_edit.jpg 1.5x, //upload.wikimedia.org/wikipedia/commons/thumb/f/f2/Ab%C5%AB_l-Hasan_Ban%C4%ABsadr_IMG_2044_edit.jpg/560px-Ab%C5%AB_l-Hasan_Ban%C4%ABsadr_IMG_2044_edit.jpg 2x\" data-file-width=\"2294\" data-file-height=\"3339\" /></a>\\n</td>\\n<td style=\"padding:0 6px 0 0\">\\n<p><b><a href=\"/wiki/Abolhassan_Banisadr\" title=\"Abolhassan Banisadr\">Abolhassan Banisadr</a></b> (born 22&#160;March&#160;1933) is an Iranian politician. He was the first <a href=\"/wiki/President_of_Iran\" title=\"President of Iran\">president of Iran</a> after the 1979 <a href=\"/wiki/Iranian_Revolution\" title=\"Iranian Revolution\">Iranian Revolution</a> abolished the <a href=\"/wiki/Pahlavi_dynasty\" title=\"Pahlavi dynasty\">Pahlavi dynasty</a>, serving from 4&#160;February&#160;1980 until his impeachment by the <a href=\"/wiki/Islamic_Consultative_Assembly\" title=\"Islamic Consultative Assembly\">Islamic Consultative Assembly</a>, the Iranian parliament, on 20&#160;June&#160;1981. Prior to his presidency, he was the <a href=\"/wiki/Ministry_of_Foreign_Affairs_(Iran)\" title=\"Ministry of Foreign Affairs (Iran)\">Minister of Foreign Affairs</a> in <a href=\"/wiki/Interim_Government_of_Iran\" title=\"Interim Government of Iran\">the interim government</a>. Following Banisadr\\'s exile in 1981, he has resided for many years in France, where he co-founded the <a href=\"/wiki/National_Council_of_Resistance_of_Iran\" title=\"National Council of Resistance of Iran\">National Council of Resistance of Iran</a>.\\n</p>\\n<p style=\"text-align:left;\"><small>Photograph credit: <a href=\"/wiki/User:Christoph_Braun\" title=\"User:Christoph Braun\">Christoph Braun</a></small></p>\\n<div class=\"potd-recent\" style=\"text-align:right;\">\\nRecently featured: <div class=\"hlist hlist-separated inline\">\\n<ul><li><a href=\"/wiki/Template:POTD/2021-03-21\" title=\"Template:POTD/2021-03-21\"><i>Vision of St.&#160;John on Patmos</i></a></li>\\n<li><a href=\"/wiki/Template:POTD/2021-03-20\" title=\"Template:POTD/2021-03-20\">Emily Carr</a></li>\\n<li><a href=\"/wiki/Template:POTD/2021-03-19\" title=\"Template:POTD/2021-03-19\">Francis B. Spinola</a></li></ul>\\n</div></div>\\n<div class=\"potd-footer hlist hlist-separated noprint\" style=\"text-align:right;\">\\n<ul><li><b><a href=\"/wiki/Wikipedia:Picture_of_the_day/Archive\" title=\"Wikipedia:Picture of the day/Archive\">Archive</a></b></li>\\n<li><b><a href=\"/wiki/Wikipedia:Featured_pictures\" title=\"Wikipedia:Featured pictures\">More featured pictures</a></b></li></ul>\\n</div>\\n</td></tr></tbody></table></div>\\n</div>\\n</div>\\n<div id=\"mp-other-lower\" class=\"mp-bordered\">\\n<h2 id=\"mp-other\" class=\"mp-h2\"><span class=\"mw-headline\" id=\"Other_areas_of_Wikipedia\">Other areas of Wikipedia</span></h2>\\n<div id=\"mp-other-content\">\\n<ul><li><b><a href=\"/wiki/Wikipedia:Community_portal\" title=\"Wikipedia:Community portal\">Community portal</a></b> \\xe2\\x80\\x93 Bulletin board, projects, resources and activities covering a wide range of Wikipedia areas.</li>\\n<li><b><a href=\"/wiki/Wikipedia:Help_desk\" title=\"Wikipedia:Help desk\">Help desk</a></b> \\xe2\\x80\\x93 Ask questions about using Wikipedia.</li>\\n<li><b><a href=\"/wiki/Wikipedia:Local_Embassy\" title=\"Wikipedia:Local Embassy\">Local embassy</a></b> \\xe2\\x80\\x93 For Wikipedia-related communication in languages other than English.</li>\\n<li><b><a href=\"/wiki/Wikipedia:Reference_desk\" title=\"Wikipedia:Reference desk\">Reference desk</a></b> \\xe2\\x80\\x93 Serving as virtual librarians, Wikipedia volunteers tackle your questions on a wide range of subjects.</li>\\n<li><b><a href=\"/wiki/Wikipedia:News\" title=\"Wikipedia:News\">Site news</a></b> \\xe2\\x80\\x93 Announcements, updates, articles and press releases on Wikipedia and the Wikimedia Foundation.</li>\\n<li><b><a href=\"/wiki/Wikipedia:Village_pump\" title=\"Wikipedia:Village pump\">Village pump</a></b> \\xe2\\x80\\x93 For discussions about Wikipedia itself, including areas for technical issues and policies.</li></ul>\\n</div>\\n<h2 id=\"mp-sister\" class=\"mp-h2\"><span id=\"Wikipedia.27s_sister_projects\"></span><span class=\"mw-headline\" id=\"Wikipedia\\'s_sister_projects\">Wikipedia\\'s sister projects</span></h2>\\n<div id=\"mp-sister-content\"><style data-mw-deduplicate=\"TemplateStyles:r1007624485\">.mw-parser-output #sister-projects-list{display:flex;flex-wrap:wrap}.mw-parser-output #sister-projects-list li{display:inline-block}.mw-parser-output #sister-projects-list li span{font-weight:bold}.mw-parser-output #sister-projects-list li>div{display:inline-block;vertical-align:middle;padding:6px 4px}.mw-parser-output #sister-projects-list li>div:first-child{text-align:center}@media(min-width:360px){.mw-parser-output #sister-projects-list li{width:33%;min-width:20em;white-space:nowrap;flex:1 0 25%}.mw-parser-output #sister-projects-list li>div:first-child{min-width:50px}}</style>\\n<p>Wikipedia is hosted by the <a href=\"/wiki/Wikimedia_Foundation\" title=\"Wikimedia Foundation\">Wikimedia Foundation</a>, a non-profit organization that also hosts a range of other <a href=\"https://wikimediafoundation.org/our-work/wikimedia-projects/\" class=\"extiw\" title=\"foundationsite:our-work/wikimedia-projects/\">projects</a>:\\n</p>\\n<div class=\"plainlist\">\\n<ul id=\"sister-projects-list\">\\n<li>\\n  <div><a href=\"https://commons.wikimedia.org/wiki/\" title=\"Commons\"><img alt=\"\" src=\"//upload.wikimedia.org/wikipedia/en/thumb/4/4a/Commons-logo.svg/31px-Commons-logo.svg.png\" decoding=\"async\" width=\"31\" height=\"42\" srcset=\"//upload.wikimedia.org/wikipedia/en/thumb/4/4a/Commons-logo.svg/47px-Commons-logo.svg.png 1.5x, //upload.wikimedia.org/wikipedia/en/thumb/4/4a/Commons-logo.svg/62px-Commons-logo.svg.png 2x\" data-file-width=\"1024\" data-file-height=\"1376\" /></a></div>\\n  <div><span><a href=\"https://commons.wikimedia.org/wiki/\" class=\"extiw\" title=\"c:\">Commons</a></span><br />Free media repository</div>\\n</li>\\n<li>\\n  <div><a href=\"https://www.mediawiki.org/wiki/\" title=\"MediaWiki\"><img alt=\"\" src=\"//upload.wikimedia.org/wikipedia/commons/thumb/3/3d/Mediawiki-logo.png/35px-Mediawiki-logo.png\" decoding=\"async\" width=\"35\" height=\"26\" srcset=\"//upload.wikimedia.org/wikipedia/commons/thumb/3/3d/Mediawiki-logo.png/53px-Mediawiki-logo.png 1.5x, //upload.wikimedia.org/wikipedia/commons/thumb/3/3d/Mediawiki-logo.png/70px-Mediawiki-logo.png 2x\" data-file-width=\"135\" data-file-height=\"102\" /></a></div>\\n  <div><span><a href=\"https://www.mediawiki.org/wiki/\" class=\"extiw\" title=\"mw:\">MediaWiki</a></span><br />Wiki software development</div>\\n</li>\\n<li>\\n  <div><a href=\"https://meta.wikimedia.org/wiki/\" title=\"Meta-Wiki\"><img alt=\"\" src=\"//upload.wikimedia.org/wikipedia/commons/thumb/7/75/Wikimedia_Community_Logo.svg/35px-Wikimedia_Community_Logo.svg.png\" decoding=\"async\" width=\"35\" height=\"35\" srcset=\"//upload.wikimedia.org/wikipedia/commons/thumb/7/75/Wikimedia_Community_Logo.svg/53px-Wikimedia_Community_Logo.svg.png 1.5x, //upload.wikimedia.org/wikipedia/commons/thumb/7/75/Wikimedia_Community_Logo.svg/70px-Wikimedia_Community_Logo.svg.png 2x\" data-file-width=\"900\" data-file-height=\"900\" /></a></div>\\n  <div><span><a href=\"https://meta.wikimedia.org/wiki/\" class=\"extiw\" title=\"m:\">Meta-Wiki</a></span><br />Wikimedia project coordination</div>\\n</li>\\n<li>\\n  <div><a href=\"https://en.wikibooks.org/wiki/\" title=\"Wikibooks\"><img alt=\"\" src=\"//upload.wikimedia.org/wikipedia/commons/thumb/f/fa/Wikibooks-logo.svg/35px-Wikibooks-logo.svg.png\" decoding=\"async\" width=\"35\" height=\"35\" srcset=\"//upload.wikimedia.org/wikipedia/commons/thumb/f/fa/Wikibooks-logo.svg/53px-Wikibooks-logo.svg.png 1.5x, //upload.wikimedia.org/wikipedia/commons/thumb/f/fa/Wikibooks-logo.svg/70px-Wikibooks-logo.svg.png 2x\" data-file-width=\"300\" data-file-height=\"300\" /></a></div>\\n  <div><span><a href=\"https://en.wikibooks.org/wiki/\" class=\"extiw\" title=\"b:\">Wikibooks</a></span><br />Free textbooks and manuals</div>\\n</li>\\n<li>\\n  <div><a href=\"https://www.wikidata.org/wiki/\" title=\"Wikidata\"><img alt=\"\" src=\"//upload.wikimedia.org/wikipedia/commons/thumb/f/ff/Wikidata-logo.svg/47px-Wikidata-logo.svg.png\" decoding=\"async\" width=\"47\" height=\"26\" srcset=\"//upload.wikimedia.org/wikipedia/commons/thumb/f/ff/Wikidata-logo.svg/71px-Wikidata-logo.svg.png 1.5x, //upload.wikimedia.org/wikipedia/commons/thumb/f/ff/Wikidata-logo.svg/94px-Wikidata-logo.svg.png 2x\" data-file-width=\"1050\" data-file-height=\"590\" /></a></div>\\n  <div><span><a href=\"https://www.wikidata.org/wiki/\" class=\"extiw\" title=\"d:\">Wikidata</a></span><br />Free knowledge base</div>\\n</li>\\n<li>\\n  <div><a href=\"https://en.wikinews.org/wiki/\" title=\"Wikinews\"><img alt=\"\" src=\"//upload.wikimedia.org/wikipedia/commons/thumb/2/24/Wikinews-logo.svg/51px-Wikinews-logo.svg.png\" decoding=\"async\" width=\"51\" height=\"28\" srcset=\"//upload.wikimedia.org/wikipedia/commons/thumb/2/24/Wikinews-logo.svg/77px-Wikinews-logo.svg.png 1.5x, //upload.wikimedia.org/wikipedia/commons/thumb/2/24/Wikinews-logo.svg/102px-Wikinews-logo.svg.png 2x\" data-file-width=\"759\" data-file-height=\"415\" /></a></div>\\n  <div><span><a href=\"https://en.wikinews.org/wiki/\" class=\"extiw\" title=\"n:\">Wikinews</a></span><br />Free-content news</div>\\n</li>\\n<li>\\n  <div><a href=\"https://en.wikiquote.org/wiki/\" title=\"Wikiquote\"><img alt=\"\" src=\"//upload.wikimedia.org/wikipedia/commons/thumb/f/fa/Wikiquote-logo.svg/35px-Wikiquote-logo.svg.png\" decoding=\"async\" width=\"35\" height=\"41\" srcset=\"//upload.wikimedia.org/wikipedia/commons/thumb/f/fa/Wikiquote-logo.svg/53px-Wikiquote-logo.svg.png 1.5x, //upload.wikimedia.org/wikipedia/commons/thumb/f/fa/Wikiquote-logo.svg/70px-Wikiquote-logo.svg.png 2x\" data-file-width=\"300\" data-file-height=\"355\" /></a></div>\\n  <div><span><a href=\"https://en.wikiquote.org/wiki/\" class=\"extiw\" title=\"q:\">Wikiquote</a></span><br />Collection of quotations</div>\\n</li>\\n<li>\\n  <div><a href=\"https://en.wikisource.org/wiki/\" title=\"Wikisource\"><img alt=\"\" src=\"//upload.wikimedia.org/wikipedia/commons/thumb/4/4c/Wikisource-logo.svg/35px-Wikisource-logo.svg.png\" decoding=\"async\" width=\"35\" height=\"37\" srcset=\"//upload.wikimedia.org/wikipedia/commons/thumb/4/4c/Wikisource-logo.svg/53px-Wikisource-logo.svg.png 1.5x, //upload.wikimedia.org/wikipedia/commons/thumb/4/4c/Wikisource-logo.svg/70px-Wikisource-logo.svg.png 2x\" data-file-width=\"410\" data-file-height=\"430\" /></a></div>\\n  <div><span><a href=\"https://en.wikisource.org/wiki/\" class=\"extiw\" title=\"s:\">Wikisource</a></span><br />Free-content library</div>\\n</li>\\n<li>\\n  <div><a href=\"https://species.wikimedia.org/wiki/\" title=\"Wikispecies\"><img alt=\"\" src=\"//upload.wikimedia.org/wikipedia/commons/thumb/d/df/Wikispecies-logo.svg/35px-Wikispecies-logo.svg.png\" decoding=\"async\" width=\"35\" height=\"41\" srcset=\"//upload.wikimedia.org/wikipedia/commons/thumb/d/df/Wikispecies-logo.svg/53px-Wikispecies-logo.svg.png 1.5x, //upload.wikimedia.org/wikipedia/commons/thumb/d/df/Wikispecies-logo.svg/70px-Wikispecies-logo.svg.png 2x\" data-file-width=\"941\" data-file-height=\"1103\" /></a></div>\\n  <div><span><a href=\"https://species.wikimedia.org/wiki/\" class=\"extiw\" title=\"species:\">Wikispecies</a></span><br />Directory of species</div>\\n</li>\\n<li>\\n  <div><a href=\"https://en.wikiversity.org/wiki/\" title=\"Wikiversity\"><img alt=\"\" src=\"//upload.wikimedia.org/wikipedia/commons/thumb/0/0b/Wikiversity_logo_2017.svg/41px-Wikiversity_logo_2017.svg.png\" decoding=\"async\" width=\"41\" height=\"34\" srcset=\"//upload.wikimedia.org/wikipedia/commons/thumb/0/0b/Wikiversity_logo_2017.svg/62px-Wikiversity_logo_2017.svg.png 1.5x, //upload.wikimedia.org/wikipedia/commons/thumb/0/0b/Wikiversity_logo_2017.svg/82px-Wikiversity_logo_2017.svg.png 2x\" data-file-width=\"626\" data-file-height=\"512\" /></a></div>\\n  <div><span><a href=\"https://en.wikiversity.org/wiki/\" class=\"extiw\" title=\"v:\">Wikiversity</a></span><br />Free learning tools</div>\\n</li>\\n<li>\\n  <div><a href=\"https://en.wikivoyage.org/wiki/\" title=\"Wikivoyage\"><img alt=\"\" src=\"//upload.wikimedia.org/wikipedia/commons/thumb/d/dd/Wikivoyage-Logo-v3-icon.svg/35px-Wikivoyage-Logo-v3-icon.svg.png\" decoding=\"async\" width=\"35\" height=\"35\" srcset=\"//upload.wikimedia.org/wikipedia/commons/thumb/d/dd/Wikivoyage-Logo-v3-icon.svg/53px-Wikivoyage-Logo-v3-icon.svg.png 1.5x, //upload.wikimedia.org/wikipedia/commons/thumb/d/dd/Wikivoyage-Logo-v3-icon.svg/70px-Wikivoyage-Logo-v3-icon.svg.png 2x\" data-file-width=\"193\" data-file-height=\"193\" /></a></div>\\n  <div><span><a href=\"https://en.wikivoyage.org/wiki/\" class=\"extiw\" title=\"voy:\">Wikivoyage</a></span><br />Free travel guide</div>\\n</li>\\n<li>\\n  <div><a href=\"https://en.wiktionary.org/wiki/\" title=\"Wiktionary\"><img alt=\"\" src=\"//upload.wikimedia.org/wikipedia/en/thumb/0/06/Wiktionary-logo-v2.svg/35px-Wiktionary-logo-v2.svg.png\" decoding=\"async\" width=\"35\" height=\"35\" srcset=\"//upload.wikimedia.org/wikipedia/en/thumb/0/06/Wiktionary-logo-v2.svg/53px-Wiktionary-logo-v2.svg.png 1.5x, //upload.wikimedia.org/wikipedia/en/thumb/0/06/Wiktionary-logo-v2.svg/70px-Wiktionary-logo-v2.svg.png 2x\" data-file-width=\"391\" data-file-height=\"391\" /></a></div>\\n  <div><span><a href=\"https://en.wiktionary.org/wiki/\" class=\"extiw\" title=\"wikt:\">Wiktionary</a></span><br />Dictionary and thesaurus</div>\\n</li>\\n</ul>\\n</div></div>\\n<h2 id=\"mp-lang\" class=\"mp-h2\"><span class=\"mw-headline\" id=\"Wikipedia_languages\">Wikipedia languages</span></h2>\\n<div><style data-mw-deduplicate=\"TemplateStyles:r997272951\">.mw-parser-output .wikipedia-languages-complete{font-weight:bold}.mw-parser-output .wikipedia-languages ul{margin-left:0}.mw-parser-output .wikipedia-languages ul a{white-space:nowrap}.mw-parser-output .wikipedia-languages>ul{list-style:none;text-align:center;clear:both}.mw-parser-output .wikipedia-languages-count-container{width:90%;display:flex;justify-content:center;padding-top:1em;margin:0 auto}.mw-parser-output .wikipedia-languages-prettybars{width:100%;height:1px;margin:0.5em 0;background-color:#c8ccd1;flex-shrink:1;align-self:center}.mw-parser-output .wikipedia-languages-count{padding:0 1em;white-space:nowrap}</style>\\n<div class=\"wikipedia-languages nourlexpansion\">\\n<p>This Wikipedia is written in <a href=\"/wiki/English_language\" title=\"English language\">English</a>. Many <a href=\"https://meta.wikimedia.org/wiki/List_of_Wikipedias\" class=\"extiw\" title=\"meta:List of Wikipedias\">other Wikipedias are available</a>; some of the largest are listed below.\\n</p>\\n<ul class=\"plainlinks\">\\n<li>\\n  <div class=\"wikipedia-languages-count-container\">\\n    <div class=\"wikipedia-languages-prettybars\"></div>\\n    <div role=\"heading\" class=\"wikipedia-languages-count\">1,000,000+ articles</div>\\n    <div class=\"wikipedia-languages-prettybars\"></div>\\n  </div>\\n  <ul class=\"wikipedia-languages-langs hlist hlist-separated inline\">\\n    <li><a class=\"external text\" href=\"https://ar.wikipedia.org/wiki/\"><span class=\"autonym\" title=\"Arabic (ar:)\" lang=\"ar\">\\xd8\\xa7\\xd9\\x84\\xd8\\xb9\\xd8\\xb1\\xd8\\xa8\\xd9\\x8a\\xd8\\xa9</span></a></li>\\n    <li><a class=\"external text\" href=\"https://de.wikipedia.org/wiki/\"><span class=\"autonym\" title=\"German (de:)\" lang=\"de\">Deutsch</span></a></li>\\n    <li><a class=\"external text\" href=\"https://es.wikipedia.org/wiki/\"><span class=\"autonym\" title=\"Spanish (es:)\" lang=\"es\">Espa\\xc3\\xb1ol</span></a></li>\\n    <li><a class=\"external text\" href=\"https://fr.wikipedia.org/wiki/\"><span class=\"autonym\" title=\"French (fr:)\" lang=\"fr\">Fran\\xc3\\xa7ais</span></a></li>\\n    <li><a class=\"external text\" href=\"https://it.wikipedia.org/wiki/\"><span class=\"autonym\" title=\"Italian (it:)\" lang=\"it\">Italiano</span></a></li>\\n    <li><a class=\"external text\" href=\"https://nl.wikipedia.org/wiki/\"><span class=\"autonym\" title=\"Dutch (nl:)\" lang=\"nl\">Nederlands</span></a></li>\\n    <li><a class=\"external text\" href=\"https://ja.wikipedia.org/wiki/\"><span class=\"autonym\" title=\"Japanese (ja:)\" lang=\"ja\">\\xe6\\x97\\xa5\\xe6\\x9c\\xac\\xe8\\xaa\\x9e</span></a></li>\\n    <li><a class=\"external text\" href=\"https://pl.wikipedia.org/wiki/\"><span class=\"autonym\" title=\"Polish (pl:)\" lang=\"pl\">Polski</span></a></li>\\n    <li><a class=\"external text\" href=\"https://pt.wikipedia.org/wiki/\"><span class=\"autonym\" title=\"Portuguese (pt:)\" lang=\"pt\">Portugu\\xc3\\xaas</span></a></li>\\n    <li><a class=\"external text\" href=\"https://ru.wikipedia.org/wiki/\"><span class=\"autonym\" title=\"Russian (ru:)\" lang=\"ru\">\\xd0\\xa0\\xd1\\x83\\xd1\\x81\\xd1\\x81\\xd0\\xba\\xd0\\xb8\\xd0\\xb9</span></a></li>\\n    <li><a class=\"external text\" href=\"https://sv.wikipedia.org/wiki/\"><span class=\"autonym\" title=\"Swedish (sv:)\" lang=\"sv\">Svenska</span></a></li>\\n    <li><a class=\"external text\" href=\"https://uk.wikipedia.org/wiki/\"><span class=\"autonym\" title=\"Ukrainian (uk:)\" lang=\"uk\">\\xd0\\xa3\\xd0\\xba\\xd1\\x80\\xd0\\xb0\\xd1\\x97\\xd0\\xbd\\xd1\\x81\\xd1\\x8c\\xd0\\xba\\xd0\\xb0</span></a></li>\\n    <li><a class=\"external text\" href=\"https://vi.wikipedia.org/wiki/\"><span class=\"autonym\" title=\"Vietnamese (vi:)\" lang=\"vi\">Ti\\xe1\\xba\\xbfng Vi\\xe1\\xbb\\x87t</span></a></li>\\n    <li><a class=\"external text\" href=\"https://zh.wikipedia.org/wiki/\"><span class=\"autonym\" title=\"Chinese (zh:)\" lang=\"zh\">\\xe4\\xb8\\xad\\xe6\\x96\\x87</span></a></li>\\n  </ul>\\n</li>\\n<li>\\n  <div class=\"wikipedia-languages-count-container\">\\n    <div class=\"wikipedia-languages-prettybars\"></div>\\n    <div role=\"heading\" class=\"wikipedia-languages-count\">250,000+ articles</div>\\n    <div class=\"wikipedia-languages-prettybars\"></div>\\n  </div>\\n  <ul class=\"wikipedia-languages-langs hlist hlist-separated inline\">\\n    <li><a class=\"external text\" href=\"https://id.wikipedia.org/wiki/\"><span class=\"autonym\" title=\"Indonesian (id:)\" lang=\"id\">Bahasa Indonesia</span></a></li>\\n    <li><a class=\"external text\" href=\"https://ms.wikipedia.org/wiki/\"><span class=\"autonym\" title=\"Malay (ms:)\" lang=\"ms\">Bahasa Melayu</span></a></li>\\n    <li><a class=\"external text\" href=\"https://zh-min-nan.wikipedia.org/wiki/\"><span class=\"autonym\" title=\"Min Nan Chinese (nan:)\" lang=\"nan\">B\\xc3\\xa2n-l\\xc3\\xa2m-g\\xc3\\xba</span></a></li>\\n    <li><a class=\"external text\" href=\"https://bg.wikipedia.org/wiki/\"><span class=\"autonym\" title=\"Bulgarian (bg:)\" lang=\"bg\">\\xd0\\x91\\xd1\\x8a\\xd0\\xbb\\xd0\\xb3\\xd0\\xb0\\xd1\\x80\\xd1\\x81\\xd0\\xba\\xd0\\xb8</span></a></li>\\n    <li><a class=\"external text\" href=\"https://ca.wikipedia.org/wiki/\"><span class=\"autonym\" title=\"Catalan (ca:)\" lang=\"ca\">Catal\\xc3\\xa0</span></a></li>\\n    <li><a class=\"external text\" href=\"https://cs.wikipedia.org/wiki/\"><span class=\"autonym\" title=\"Czech (cs:)\" lang=\"cs\">\\xc4\\x8ce\\xc5\\xa1tina</span></a></li>\\n    <li><a class=\"external text\" href=\"https://da.wikipedia.org/wiki/\"><span class=\"autonym\" title=\"Danish (da:)\" lang=\"da\">Dansk</span></a></li>\\n    <li><a class=\"external text\" href=\"https://eo.wikipedia.org/wiki/\"><span class=\"autonym\" title=\"Esperanto (eo:)\" lang=\"eo\">Esperanto</span></a></li>\\n    <li><a class=\"external text\" href=\"https://eu.wikipedia.org/wiki/\"><span class=\"autonym\" title=\"Basque (eu:)\" lang=\"eu\">Euskara</span></a></li>\\n    <li><a class=\"external text\" href=\"https://fa.wikipedia.org/wiki/\"><span class=\"autonym\" title=\"Persian (fa:)\" lang=\"fa\">\\xd9\\x81\\xd8\\xa7\\xd8\\xb1\\xd8\\xb3\\xdb\\x8c</span></a>&#8206;</li>\\n    <li><a class=\"external text\" href=\"https://he.wikipedia.org/wiki/\"><span class=\"autonym\" title=\"Hebrew (he:)\" lang=\"he\">\\xd7\\xa2\\xd7\\x91\\xd7\\xa8\\xd7\\x99\\xd7\\xaa</span></a></li>\\n    <li><a class=\"external text\" href=\"https://ko.wikipedia.org/wiki/\"><span class=\"autonym\" title=\"Korean (ko:)\" lang=\"ko\">\\xed\\x95\\x9c\\xea\\xb5\\xad\\xec\\x96\\xb4</span></a></li>\\n    <li><a class=\"external text\" href=\"https://hu.wikipedia.org/wiki/\"><span class=\"autonym\" title=\"Hungarian (hu:)\" lang=\"hu\">Magyar</span></a></li>\\n    <li><a class=\"external text\" href=\"https://no.wikipedia.org/wiki/\"><span class=\"autonym\" title=\"Norwegian (no:)\" lang=\"no\">Norsk Bokm\\xc3\\xa5l</span></a></li>\\n    <li><a class=\"external text\" href=\"https://ro.wikipedia.org/wiki/\"><span class=\"autonym\" title=\"Romanian (ro:)\" lang=\"ro\">Rom\\xc3\\xa2n\\xc4\\x83</span></a></li>\\n    <li><a class=\"external text\" href=\"https://sr.wikipedia.org/wiki/\"><span class=\"autonym\" title=\"Serbian (sr:)\" lang=\"sr\">Srpski</span></a></li>\\n    <li><a class=\"external text\" href=\"https://sh.wikipedia.org/wiki/\"><span class=\"autonym\" title=\"Serbo-Croatian (sh:)\" lang=\"sh\">Srpskohrvatski</span></a></li>\\n    <li><a class=\"external text\" href=\"https://fi.wikipedia.org/wiki/\"><span class=\"autonym\" title=\"Finnish (fi:)\" lang=\"fi\">Suomi</span></a></li>\\n    <li><a class=\"external text\" href=\"https://tr.wikipedia.org/wiki/\"><span class=\"autonym\" title=\"Turkish (tr:)\" lang=\"tr\">T\\xc3\\xbcrk\\xc3\\xa7e</span></a></li>\\n  </ul>\\n</li>\\n<li>\\n  <div class=\"wikipedia-languages-count-container\">\\n    <div class=\"wikipedia-languages-prettybars\"></div>\\n    <div role=\"heading\" class=\"wikipedia-languages-count\">50,000+ articles</div>\\n    <div class=\"wikipedia-languages-prettybars\"></div>\\n  </div>\\n  <ul class=\"wikipedia-languages-langs hlist hlist-separated inline\">\\n    <li><a class=\"external text\" href=\"https://ast.wikipedia.org/wiki/\"><span class=\"autonym\" title=\"Asturian (ast:)\" lang=\"ast\">Asturianu</span></a></li>\\n    <li><a class=\"external text\" href=\"https://bs.wikipedia.org/wiki/\"><span class=\"autonym\" title=\"Bosnian (bs:)\" lang=\"bs\">Bosanski</span></a></li>\\n    <li><a class=\"external text\" href=\"https://et.wikipedia.org/wiki/\"><span class=\"autonym\" title=\"Estonian (et:)\" lang=\"et\">Eesti</span></a></li>\\n    <li><a class=\"external text\" href=\"https://el.wikipedia.org/wiki/\"><span class=\"autonym\" title=\"Greek (el:)\" lang=\"el\">\\xce\\x95\\xce\\xbb\\xce\\xbb\\xce\\xb7\\xce\\xbd\\xce\\xb9\\xce\\xba\\xce\\xac</span></a></li>\\n    <li><a class=\"external text\" href=\"https://simple.wikipedia.org/wiki/\"><span class=\"autonym\" title=\"Simple English (simple:)\" lang=\"simple\">Simple English</span></a></li>\\n    <li><a class=\"external text\" href=\"https://gl.wikipedia.org/wiki/\"><span class=\"autonym\" title=\"Galician (gl:)\" lang=\"gl\">Galego</span></a></li>\\n    <li><a class=\"external text\" href=\"https://hr.wikipedia.org/wiki/\"><span class=\"autonym\" title=\"Croatian (hr:)\" lang=\"hr\">Hrvatski</span></a></li>\\n    <li><a class=\"external text\" href=\"https://lv.wikipedia.org/wiki/\"><span class=\"autonym\" title=\"Latvian (lv:)\" lang=\"lv\">Latvie\\xc5\\xa1u</span></a></li>\\n    <li><a class=\"external text\" href=\"https://lt.wikipedia.org/wiki/\"><span class=\"autonym\" title=\"Lithuanian (lt:)\" lang=\"lt\">Lietuvi\\xc5\\xb3</span></a></li>\\n    <li><a class=\"external text\" href=\"https://ml.wikipedia.org/wiki/\"><span class=\"autonym\" title=\"Malayalam (ml:)\" lang=\"ml\">\\xe0\\xb4\\xae\\xe0\\xb4\\xb2\\xe0\\xb4\\xaf\\xe0\\xb4\\xbe\\xe0\\xb4\\xb3\\xe0\\xb4\\x82</span></a></li>\\n    <li><a class=\"external text\" href=\"https://mk.wikipedia.org/wiki/\"><span class=\"autonym\" title=\"Macedonian (mk:)\" lang=\"mk\">\\xd0\\x9c\\xd0\\xb0\\xd0\\xba\\xd0\\xb5\\xd0\\xb4\\xd0\\xbe\\xd0\\xbd\\xd1\\x81\\xd0\\xba\\xd0\\xb8</span></a></li>\\n    <li><a class=\"external text\" href=\"https://nn.wikipedia.org/wiki/\"><span class=\"autonym\" title=\"Norwegian Nynorsk (nn:)\" lang=\"nn\">Norsk nynorsk</span></a></li>\\n    <li><a class=\"external text\" href=\"https://sk.wikipedia.org/wiki/\"><span class=\"autonym\" title=\"Slovak (sk:)\" lang=\"sk\">Sloven\\xc4\\x8dina</span></a></li>\\n    <li><a class=\"external text\" href=\"https://sl.wikipedia.org/wiki/\"><span class=\"autonym\" title=\"Slovenian (sl:)\" lang=\"sl\">Sloven\\xc5\\xa1\\xc4\\x8dina</span></a></li>\\n    <li><a class=\"external text\" href=\"https://th.wikipedia.org/wiki/\"><span class=\"autonym\" title=\"Thai (th:)\" lang=\"th\">\\xe0\\xb9\\x84\\xe0\\xb8\\x97\\xe0\\xb8\\xa2</span></a></li>\\n  </ul>\\n</li>\\n</ul>\\n</div></div>\\n</div>\\n<!-- \\nNewPP limit report\\nParsed by mw1310\\nCached time: 20210322023334\\nCache expiry: 3600\\nDynamic content: true\\nComplications: []\\nCPU time usage: 0.484 seconds\\nReal time usage: 0.653 seconds\\nPreprocessor visited node count: 4265/1000000\\nPost\\xe2\\x80\\x90expand include size: 122419/2097152 bytes\\nTemplate argument size: 7848/2097152 bytes\\nHighest expansion depth: 21/40\\nExpensive parser function count: 17/500\\nUnstrip recursion depth: 0/20\\nUnstrip post\\xe2\\x80\\x90expand size: 5370/5000000 bytes\\nLua time usage: 0.088/10.000 seconds\\nLua memory usage: 2668939/52428800 bytes\\nNumber of Wikibase entities loaded: 0/400\\n-->\\n<!--\\nTransclusion expansion time report (%,ms,calls,template)\\n100.00%  444.491      1 -total\\n 33.42%  148.570      9 Template:Main_page_image\\n 27.20%  120.881      1 Wikipedia:Main_Page/Tomorrow\\n 23.95%  106.466      1 Wikipedia:Today\\'s_featured_article/March_22,_2021\\n 20.11%   89.383      9 Template:Str_number/trim\\n 18.20%   80.891     27 Template:If_empty\\n 15.06%   66.942      2 Template:Main_page_image/TFA\\n 11.16%   49.595      2 Template:Wikipedia_languages\\n 10.88%   48.377      1 Wikipedia:Selected_anniversaries/March_22\\n  9.48%   42.136      1 Template:Did_you_know/Queue/5\\n-->\\n\\n<!-- Saved in parser cache with key enwiki:pcache:idhash:15580374-0!canonical and timestamp 20210322023334 and revision id 1004593520. Serialized with JSON.\\n -->\\n</div><noscript><img src=\"//en.wikipedia.org/wiki/Special:CentralAutoLogin/start?type=1x1\" alt=\"\" title=\"\" width=\"1\" height=\"1\" style=\"border: none; position: absolute;\" /></noscript>\\n<div class=\"printfooter\">Retrieved from \"<a dir=\"ltr\" href=\"https://en.wikipedia.org/w/index.php?title=Main_Page&amp;oldid=1004593520\">https://en.wikipedia.org/w/index.php?title=Main_Page&amp;oldid=1004593520</a>\"</div></div>\\n\\t\\t<div id=\"catlinks\" class=\"catlinks catlinks-allhidden\" data-mw=\"interface\"></div>\\n\\t</div>\\n</div>\\n<div id=\\'mw-data-after-content\\'>\\n\\t<div class=\"read-more-container\"></div>\\n</div>\\n\\n<div id=\"mw-navigation\">\\n\\t<h2>Navigation menu</h2>\\n\\t<div id=\"mw-head\">\\n\\t\\t<!-- Please do not use role attribute as CSS selector, it is deprecated. -->\\n<nav id=\"p-personal\" class=\"mw-portlet mw-portlet-personal vector-menu\" aria-labelledby=\"p-personal-label\" role=\"navigation\" \\n\\t >\\n\\t<h3 id=\"p-personal-label\" class=\"vector-menu-heading\">\\n\\t\\t<span>Personal tools</span>\\n\\t</h3>\\n\\t<div class=\"vector-menu-content\">\\n\\t\\t<ul class=\"vector-menu-content-list\"><li id=\"pt-anonuserpage\">Not logged in</li><li id=\"pt-anontalk\"><a href=\"/wiki/Special:MyTalk\" title=\"Discussion about edits from this IP address [n]\" accesskey=\"n\">Talk</a></li><li id=\"pt-anoncontribs\"><a href=\"/wiki/Special:MyContributions\" title=\"A list of edits made from this IP address [y]\" accesskey=\"y\">Contributions</a></li><li id=\"pt-createaccount\"><a href=\"/w/index.php?title=Special:CreateAccount&amp;returnto=Main+Page\" title=\"You are encouraged to create an account and log in; however, it is not mandatory\">Create account</a></li><li id=\"pt-login\"><a href=\"/w/index.php?title=Special:UserLogin&amp;returnto=Main+Page\" title=\"You&#039;re encouraged to log in; however, it&#039;s not mandatory. [o]\" accesskey=\"o\">Log in</a></li></ul>\\n\\t\\t\\n\\t</div>\\n</nav>\\n\\n\\t\\t<div id=\"left-navigation\">\\n\\t\\t\\t<!-- Please do not use role attribute as CSS selector, it is deprecated. -->\\n<nav id=\"p-namespaces\" class=\"mw-portlet mw-portlet-namespaces vector-menu vector-menu-tabs\" aria-labelledby=\"p-namespaces-label\" role=\"navigation\" \\n\\t >\\n\\t<h3 id=\"p-namespaces-label\" class=\"vector-menu-heading\">\\n\\t\\t<span>Namespaces</span>\\n\\t</h3>\\n\\t<div class=\"vector-menu-content\">\\n\\t\\t<ul class=\"vector-menu-content-list\"><li id=\"ca-nstab-main\" class=\"selected\"><a href=\"/wiki/Main_Page\" title=\"View the content page [c]\" accesskey=\"c\">Main Page</a></li><li id=\"ca-talk\"><a href=\"/wiki/Talk:Main_Page\" rel=\"discussion\" title=\"Discuss improvements to the content page [t]\" accesskey=\"t\">Talk</a></li></ul>\\n\\t\\t\\n\\t</div>\\n</nav>\\n\\n\\t\\t\\t<!-- Please do not use role attribute as CSS selector, it is deprecated. -->\\n<nav id=\"p-variants\" class=\"mw-portlet mw-portlet-variants emptyPortlet vector-menu vector-menu-dropdown\" aria-labelledby=\"p-variants-label\" role=\"navigation\" \\n\\t >\\n\\t<input type=\"checkbox\" class=\"vector-menu-checkbox\" aria-labelledby=\"p-variants-label\" />\\n\\t<h3 id=\"p-variants-label\" class=\"vector-menu-heading\">\\n\\t\\t<span>Variants</span>\\n\\t</h3>\\n\\t<div class=\"vector-menu-content\">\\n\\t\\t<ul class=\"vector-menu-content-list\"></ul>\\n\\t\\t\\n\\t</div>\\n</nav>\\n\\n\\t\\t</div>\\n\\t\\t<div id=\"right-navigation\">\\n\\t\\t\\t<!-- Please do not use role attribute as CSS selector, it is deprecated. -->\\n<nav id=\"p-views\" class=\"mw-portlet mw-portlet-views vector-menu vector-menu-tabs\" aria-labelledby=\"p-views-label\" role=\"navigation\" \\n\\t >\\n\\t<h3 id=\"p-views-label\" class=\"vector-menu-heading\">\\n\\t\\t<span>Views</span>\\n\\t</h3>\\n\\t<div class=\"vector-menu-content\">\\n\\t\\t<ul class=\"vector-menu-content-list\"><li id=\"ca-view\" class=\"selected\"><a href=\"/wiki/Main_Page\">Read</a></li><li id=\"ca-viewsource\"><a href=\"/w/index.php?title=Main_Page&amp;action=edit\" title=\"This page is protected.&#10;You can view its source [e]\" accesskey=\"e\">View source</a></li><li id=\"ca-history\"><a href=\"/w/index.php?title=Main_Page&amp;action=history\" title=\"Past revisions of this page [h]\" accesskey=\"h\">View history</a></li></ul>\\n\\t\\t\\n\\t</div>\\n</nav>\\n\\n\\t\\t\\t<!-- Please do not use role attribute as CSS selector, it is deprecated. -->\\n<nav id=\"p-cactions\" class=\"mw-portlet mw-portlet-cactions emptyPortlet vector-menu vector-menu-dropdown\" aria-labelledby=\"p-cactions-label\" role=\"navigation\" \\n\\t >\\n\\t<input type=\"checkbox\" class=\"vector-menu-checkbox\" aria-labelledby=\"p-cactions-label\" />\\n\\t<h3 id=\"p-cactions-label\" class=\"vector-menu-heading\">\\n\\t\\t<span>More</span>\\n\\t</h3>\\n\\t<div class=\"vector-menu-content\">\\n\\t\\t<ul class=\"vector-menu-content-list\"></ul>\\n\\t\\t\\n\\t</div>\\n</nav>\\n\\n\\t\\t\\t<div id=\"p-search\" role=\"search\" >\\n\\t<h3 >\\n\\t\\t<label for=\"searchInput\">Search</label>\\n\\t</h3>\\n\\t<form action=\"/w/index.php\" id=\"searchform\">\\n\\t\\t<div id=\"simpleSearch\" data-search-loc=\"header-navigation\">\\n\\t\\t\\t<input type=\"search\" name=\"search\" placeholder=\"Search Wikipedia\" autocapitalize=\"sentences\" title=\"Search Wikipedia [f]\" accesskey=\"f\" id=\"searchInput\"/>\\n\\t\\t\\t<input type=\"hidden\" name=\"title\" value=\"Special:Search\"/>\\n\\t\\t\\t<input type=\"submit\" name=\"fulltext\" value=\"Search\" title=\"Search Wikipedia for this text\" id=\"mw-searchButton\" class=\"searchButton mw-fallbackSearchButton\"/>\\n\\t\\t\\t<input type=\"submit\" name=\"go\" value=\"Go\" title=\"Go to a page with this exact name if it exists\" id=\"searchButton\" class=\"searchButton\"/>\\n\\t\\t</div>\\n\\t</form>\\n</div>\\n\\n\\t\\t</div>\\n\\t</div>\\n\\t\\n<div id=\"mw-panel\">\\n\\t<div id=\"p-logo\" role=\"banner\">\\n\\t\\t<a class=\"mw-wiki-logo\" href=\"/wiki/Main_Page\"\\n\\t\\t\\ttitle=\"Visit the main page\"></a>\\n\\t</div>\\n\\t<!-- Please do not use role attribute as CSS selector, it is deprecated. -->\\n<nav id=\"p-navigation\" class=\"mw-portlet mw-portlet-navigation vector-menu vector-menu-portal portal\" aria-labelledby=\"p-navigation-label\" role=\"navigation\" \\n\\t >\\n\\t<h3 id=\"p-navigation-label\" class=\"vector-menu-heading\">\\n\\t\\t<span>Navigation</span>\\n\\t</h3>\\n\\t<div class=\"vector-menu-content\">\\n\\t\\t<ul class=\"vector-menu-content-list\"><li id=\"n-mainpage-description\"><a href=\"/wiki/Main_Page\" title=\"Visit the main page [z]\" accesskey=\"z\">Main page</a></li><li id=\"n-contents\"><a href=\"/wiki/Wikipedia:Contents\" title=\"Guides to browsing Wikipedia\">Contents</a></li><li id=\"n-currentevents\"><a href=\"/wiki/Portal:Current_events\" title=\"Articles related to current events\">Current events</a></li><li id=\"n-randompage\"><a href=\"/wiki/Special:Random\" title=\"Visit a randomly selected article [x]\" accesskey=\"x\">Random article</a></li><li id=\"n-aboutsite\"><a href=\"/wiki/Wikipedia:About\" title=\"Learn about Wikipedia and how it works\">About Wikipedia</a></li><li id=\"n-contactpage\"><a href=\"//en.wikipedia.org/wiki/Wikipedia:Contact_us\" title=\"How to contact Wikipedia\">Contact us</a></li><li id=\"n-sitesupport\"><a href=\"https://donate.wikimedia.org/wiki/Special:FundraiserRedirector?utm_source=donate&amp;utm_medium=sidebar&amp;utm_campaign=C13_en.wikipedia.org&amp;uselang=en\" title=\"Support us by donating to the Wikimedia Foundation\">Donate</a></li></ul>\\n\\t\\t\\n\\t</div>\\n</nav>\\n\\n\\t<!-- Please do not use role attribute as CSS selector, it is deprecated. -->\\n<nav id=\"p-interaction\" class=\"mw-portlet mw-portlet-interaction vector-menu vector-menu-portal portal\" aria-labelledby=\"p-interaction-label\" role=\"navigation\" \\n\\t >\\n\\t<h3 id=\"p-interaction-label\" class=\"vector-menu-heading\">\\n\\t\\t<span>Contribute</span>\\n\\t</h3>\\n\\t<div class=\"vector-menu-content\">\\n\\t\\t<ul class=\"vector-menu-content-list\"><li id=\"n-help\"><a href=\"/wiki/Help:Contents\" title=\"Guidance on how to use and edit Wikipedia\">Help</a></li><li id=\"n-introduction\"><a href=\"/wiki/Help:Introduction\" title=\"Learn how to edit Wikipedia\">Learn to edit</a></li><li id=\"n-portal\"><a href=\"/wiki/Wikipedia:Community_portal\" title=\"The hub for editors\">Community portal</a></li><li id=\"n-recentchanges\"><a href=\"/wiki/Special:RecentChanges\" title=\"A list of recent changes to Wikipedia [r]\" accesskey=\"r\">Recent changes</a></li><li id=\"n-upload\"><a href=\"/wiki/Wikipedia:File_Upload_Wizard\" title=\"Add images or other media for use on Wikipedia\">Upload file</a></li></ul>\\n\\t\\t\\n\\t</div>\\n</nav>\\n<!-- Please do not use role attribute as CSS selector, it is deprecated. -->\\n<nav id=\"p-tb\" class=\"mw-portlet mw-portlet-tb vector-menu vector-menu-portal portal\" aria-labelledby=\"p-tb-label\" role=\"navigation\" \\n\\t >\\n\\t<h3 id=\"p-tb-label\" class=\"vector-menu-heading\">\\n\\t\\t<span>Tools</span>\\n\\t</h3>\\n\\t<div class=\"vector-menu-content\">\\n\\t\\t<ul class=\"vector-menu-content-list\"><li id=\"t-whatlinkshere\"><a href=\"/wiki/Special:WhatLinksHere/Main_Page\" title=\"List of all English Wikipedia pages containing links to this page [j]\" accesskey=\"j\">What links here</a></li><li id=\"t-recentchangeslinked\"><a href=\"/wiki/Special:RecentChangesLinked/Main_Page\" rel=\"nofollow\" title=\"Recent changes in pages linked from this page [k]\" accesskey=\"k\">Related changes</a></li><li id=\"t-upload\"><a href=\"/wiki/Wikipedia:File_Upload_Wizard\" title=\"Upload files [u]\" accesskey=\"u\">Upload file</a></li><li id=\"t-specialpages\"><a href=\"/wiki/Special:SpecialPages\" title=\"A list of all special pages [q]\" accesskey=\"q\">Special pages</a></li><li id=\"t-permalink\"><a href=\"/w/index.php?title=Main_Page&amp;oldid=1004593520\" title=\"Permanent link to this revision of this page\">Permanent link</a></li><li id=\"t-info\"><a href=\"/w/index.php?title=Main_Page&amp;action=info\" title=\"More information about this page\">Page information</a></li><li id=\"t-cite\"><a href=\"/w/index.php?title=Special:CiteThisPage&amp;page=Main_Page&amp;id=1004593520&amp;wpFormIdentifier=titleform\" title=\"Information on how to cite this page\">Cite this page</a></li><li id=\"t-wikibase\"><a href=\"https://www.wikidata.org/wiki/Special:EntityPage/Q5296\" title=\"Structured data on this page hosted by Wikidata [g]\" accesskey=\"g\">Wikidata item</a></li></ul>\\n\\t\\t\\n\\t</div>\\n</nav>\\n<!-- Please do not use role attribute as CSS selector, it is deprecated. -->\\n<nav id=\"p-coll-print_export\" class=\"mw-portlet mw-portlet-coll-print_export vector-menu vector-menu-portal portal\" aria-labelledby=\"p-coll-print_export-label\" role=\"navigation\" \\n\\t >\\n\\t<h3 id=\"p-coll-print_export-label\" class=\"vector-menu-heading\">\\n\\t\\t<span>Print/export</span>\\n\\t</h3>\\n\\t<div class=\"vector-menu-content\">\\n\\t\\t<ul class=\"vector-menu-content-list\"><li id=\"coll-download-as-rl\"><a href=\"/w/index.php?title=Special:DownloadAsPdf&amp;page=Main_Page&amp;action=show-download-screen\" title=\"Download this page as a PDF file\">Download as PDF</a></li><li id=\"t-print\"><a href=\"/w/index.php?title=Main_Page&amp;printable=yes\" title=\"Printable version of this page [p]\" accesskey=\"p\">Printable version</a></li></ul>\\n\\t\\t\\n\\t</div>\\n</nav>\\n<!-- Please do not use role attribute as CSS selector, it is deprecated. -->\\n<nav id=\"p-wikibase-otherprojects\" class=\"mw-portlet mw-portlet-wikibase-otherprojects vector-menu vector-menu-portal portal\" aria-labelledby=\"p-wikibase-otherprojects-label\" role=\"navigation\" \\n\\t >\\n\\t<h3 id=\"p-wikibase-otherprojects-label\" class=\"vector-menu-heading\">\\n\\t\\t<span>In other projects</span>\\n\\t</h3>\\n\\t<div class=\"vector-menu-content\">\\n\\t\\t<ul class=\"vector-menu-content-list\"><li class=\"wb-otherproject-link wb-otherproject-commons\"><a href=\"https://commons.wikimedia.org/wiki/Main_Page\" hreflang=\"en\">Wikimedia Commons</a></li><li class=\"wb-otherproject-link wb-otherproject-mediawiki\"><a href=\"https://www.mediawiki.org/wiki/MediaWiki\" hreflang=\"en\">MediaWiki</a></li><li class=\"wb-otherproject-link wb-otherproject-meta\"><a href=\"https://meta.wikimedia.org/wiki/Main_Page\" hreflang=\"en\">Meta-Wiki</a></li><li class=\"wb-otherproject-link wb-otherproject-sources\"><a href=\"https://wikisource.org/wiki/Main_Page\" hreflang=\"en\">Multilingual Wikisource</a></li><li class=\"wb-otherproject-link wb-otherproject-species\"><a href=\"https://species.wikimedia.org/wiki/Main_Page\" hreflang=\"en\">Wikispecies</a></li><li class=\"wb-otherproject-link wb-otherproject-wikibooks\"><a href=\"https://en.wikibooks.org/wiki/Main_Page\" hreflang=\"en\">Wikibooks</a></li><li class=\"wb-otherproject-link wb-otherproject-wikidata\"><a href=\"https://www.wikidata.org/wiki/Wikidata:Main_Page\" hreflang=\"en\">Wikidata</a></li><li class=\"wb-otherproject-link wb-otherproject-wikimania\"><a href=\"https://wikimania.wikimedia.org/wiki/Wikimania\" hreflang=\"en\">Wikimania</a></li><li class=\"wb-otherproject-link wb-otherproject-wikinews\"><a href=\"https://en.wikinews.org/wiki/Main_Page\" hreflang=\"en\">Wikinews</a></li><li class=\"wb-otherproject-link wb-otherproject-wikiquote\"><a href=\"https://en.wikiquote.org/wiki/Main_Page\" hreflang=\"en\">Wikiquote</a></li><li class=\"wb-otherproject-link wb-otherproject-wikisource\"><a href=\"https://en.wikisource.org/wiki/Main_Page\" hreflang=\"en\">Wikisource</a></li><li class=\"wb-otherproject-link wb-otherproject-wikiversity\"><a href=\"https://en.wikiversity.org/wiki/Wikiversity:Main_Page\" hreflang=\"en\">Wikiversity</a></li><li class=\"wb-otherproject-link wb-otherproject-wikivoyage\"><a href=\"https://en.wikivoyage.org/wiki/Main_Page\" hreflang=\"en\">Wikivoyage</a></li><li class=\"wb-otherproject-link wb-otherproject-wiktionary\"><a href=\"https://en.wiktionary.org/wiki/Wiktionary:Main_Page\" hreflang=\"en\">Wiktionary</a></li></ul>\\n\\t\\t\\n\\t</div>\\n</nav>\\n\\n\\t<!-- Please do not use role attribute as CSS selector, it is deprecated. -->\\n<nav id=\"p-lang\" class=\"mw-portlet mw-portlet-lang vector-menu vector-menu-portal portal\" aria-labelledby=\"p-lang-label\" role=\"navigation\" \\n\\t >\\n\\t<h3 id=\"p-lang-label\" class=\"vector-menu-heading\">\\n\\t\\t<span>Languages</span>\\n\\t</h3>\\n\\t<div class=\"vector-menu-content\">\\n\\t\\t<ul class=\"vector-menu-content-list\"><li class=\"interlanguage-link interwiki-ar\"><a href=\"https://ar.wikipedia.org/wiki/\" title=\"Arabic\" lang=\"ar\" hreflang=\"ar\" class=\"interlanguage-link-target\">\\xd8\\xa7\\xd9\\x84\\xd8\\xb9\\xd8\\xb1\\xd8\\xa8\\xd9\\x8a\\xd8\\xa9</a></li><li class=\"interlanguage-link interwiki-bn\"><a href=\"https://bn.wikipedia.org/wiki/\" title=\"Bangla\" lang=\"bn\" hreflang=\"bn\" class=\"interlanguage-link-target\">\\xe0\\xa6\\xac\\xe0\\xa6\\xbe\\xe0\\xa6\\x82\\xe0\\xa6\\xb2\\xe0\\xa6\\xbe</a></li><li class=\"interlanguage-link interwiki-bg\"><a href=\"https://bg.wikipedia.org/wiki/\" title=\"Bulgarian\" lang=\"bg\" hreflang=\"bg\" class=\"interlanguage-link-target\">\\xd0\\x91\\xd1\\x8a\\xd0\\xbb\\xd0\\xb3\\xd0\\xb0\\xd1\\x80\\xd1\\x81\\xd0\\xba\\xd0\\xb8</a></li><li class=\"interlanguage-link interwiki-bs\"><a href=\"https://bs.wikipedia.org/wiki/\" title=\"Bosnian\" lang=\"bs\" hreflang=\"bs\" class=\"interlanguage-link-target\">Bosanski</a></li><li class=\"interlanguage-link interwiki-ca\"><a href=\"https://ca.wikipedia.org/wiki/\" title=\"Catalan\" lang=\"ca\" hreflang=\"ca\" class=\"interlanguage-link-target\">Catal\\xc3\\xa0</a></li><li class=\"interlanguage-link interwiki-cs\"><a href=\"https://cs.wikipedia.org/wiki/\" title=\"Czech\" lang=\"cs\" hreflang=\"cs\" class=\"interlanguage-link-target\">\\xc4\\x8ce\\xc5\\xa1tina</a></li><li class=\"interlanguage-link interwiki-da\"><a href=\"https://da.wikipedia.org/wiki/\" title=\"Danish\" lang=\"da\" hreflang=\"da\" class=\"interlanguage-link-target\">Dansk</a></li><li class=\"interlanguage-link interwiki-de\"><a href=\"https://de.wikipedia.org/wiki/\" title=\"German\" lang=\"de\" hreflang=\"de\" class=\"interlanguage-link-target\">Deutsch</a></li><li class=\"interlanguage-link interwiki-et\"><a href=\"https://et.wikipedia.org/wiki/\" title=\"Estonian\" lang=\"et\" hreflang=\"et\" class=\"interlanguage-link-target\">Eesti</a></li><li class=\"interlanguage-link interwiki-el\"><a href=\"https://el.wikipedia.org/wiki/\" title=\"Greek\" lang=\"el\" hreflang=\"el\" class=\"interlanguage-link-target\">\\xce\\x95\\xce\\xbb\\xce\\xbb\\xce\\xb7\\xce\\xbd\\xce\\xb9\\xce\\xba\\xce\\xac</a></li><li class=\"interlanguage-link interwiki-es\"><a href=\"https://es.wikipedia.org/wiki/\" title=\"Spanish\" lang=\"es\" hreflang=\"es\" class=\"interlanguage-link-target\">Espa\\xc3\\xb1ol</a></li><li class=\"interlanguage-link interwiki-eo\"><a href=\"https://eo.wikipedia.org/wiki/\" title=\"Esperanto\" lang=\"eo\" hreflang=\"eo\" class=\"interlanguage-link-target\">Esperanto</a></li><li class=\"interlanguage-link interwiki-eu\"><a href=\"https://eu.wikipedia.org/wiki/\" title=\"Basque\" lang=\"eu\" hreflang=\"eu\" class=\"interlanguage-link-target\">Euskara</a></li><li class=\"interlanguage-link interwiki-fa\"><a href=\"https://fa.wikipedia.org/wiki/\" title=\"Persian\" lang=\"fa\" hreflang=\"fa\" class=\"interlanguage-link-target\">\\xd9\\x81\\xd8\\xa7\\xd8\\xb1\\xd8\\xb3\\xdb\\x8c</a></li><li class=\"interlanguage-link interwiki-fr\"><a href=\"https://fr.wikipedia.org/wiki/\" title=\"French\" lang=\"fr\" hreflang=\"fr\" class=\"interlanguage-link-target\">Fran\\xc3\\xa7ais</a></li><li class=\"interlanguage-link interwiki-gl\"><a href=\"https://gl.wikipedia.org/wiki/\" title=\"Galician\" lang=\"gl\" hreflang=\"gl\" class=\"interlanguage-link-target\">Galego</a></li><li class=\"interlanguage-link interwiki-ko\"><a href=\"https://ko.wikipedia.org/wiki/\" title=\"Korean\" lang=\"ko\" hreflang=\"ko\" class=\"interlanguage-link-target\">\\xed\\x95\\x9c\\xea\\xb5\\xad\\xec\\x96\\xb4</a></li><li class=\"interlanguage-link interwiki-hr\"><a href=\"https://hr.wikipedia.org/wiki/\" title=\"Croatian\" lang=\"hr\" hreflang=\"hr\" class=\"interlanguage-link-target\">Hrvatski</a></li><li class=\"interlanguage-link interwiki-id\"><a href=\"https://id.wikipedia.org/wiki/\" title=\"Indonesian\" lang=\"id\" hreflang=\"id\" class=\"interlanguage-link-target\">Bahasa Indonesia</a></li><li class=\"interlanguage-link interwiki-it\"><a href=\"https://it.wikipedia.org/wiki/\" title=\"Italian\" lang=\"it\" hreflang=\"it\" class=\"interlanguage-link-target\">Italiano</a></li><li class=\"interlanguage-link interwiki-he\"><a href=\"https://he.wikipedia.org/wiki/\" title=\"Hebrew\" lang=\"he\" hreflang=\"he\" class=\"interlanguage-link-target\">\\xd7\\xa2\\xd7\\x91\\xd7\\xa8\\xd7\\x99\\xd7\\xaa</a></li><li class=\"interlanguage-link interwiki-ka\"><a href=\"https://ka.wikipedia.org/wiki/\" title=\"Georgian\" lang=\"ka\" hreflang=\"ka\" class=\"interlanguage-link-target\">\\xe1\\x83\\xa5\\xe1\\x83\\x90\\xe1\\x83\\xa0\\xe1\\x83\\x97\\xe1\\x83\\xa3\\xe1\\x83\\x9a\\xe1\\x83\\x98</a></li><li class=\"interlanguage-link interwiki-lv\"><a href=\"https://lv.wikipedia.org/wiki/\" title=\"Latvian\" lang=\"lv\" hreflang=\"lv\" class=\"interlanguage-link-target\">Latvie\\xc5\\xa1u</a></li><li class=\"interlanguage-link interwiki-lt\"><a href=\"https://lt.wikipedia.org/wiki/\" title=\"Lithuanian\" lang=\"lt\" hreflang=\"lt\" class=\"interlanguage-link-target\">Lietuvi\\xc5\\xb3</a></li><li class=\"interlanguage-link interwiki-hu\"><a href=\"https://hu.wikipedia.org/wiki/\" title=\"Hungarian\" lang=\"hu\" hreflang=\"hu\" class=\"interlanguage-link-target\">Magyar</a></li><li class=\"interlanguage-link interwiki-mk\"><a href=\"https://mk.wikipedia.org/wiki/\" title=\"Macedonian\" lang=\"mk\" hreflang=\"mk\" class=\"interlanguage-link-target\">\\xd0\\x9c\\xd0\\xb0\\xd0\\xba\\xd0\\xb5\\xd0\\xb4\\xd0\\xbe\\xd0\\xbd\\xd1\\x81\\xd0\\xba\\xd0\\xb8</a></li><li class=\"interlanguage-link interwiki-ms\"><a href=\"https://ms.wikipedia.org/wiki/\" title=\"Malay\" lang=\"ms\" hreflang=\"ms\" class=\"interlanguage-link-target\">Bahasa Melayu</a></li><li class=\"interlanguage-link interwiki-nl\"><a href=\"https://nl.wikipedia.org/wiki/\" title=\"Dutch\" lang=\"nl\" hreflang=\"nl\" class=\"interlanguage-link-target\">Nederlands</a></li><li class=\"interlanguage-link interwiki-ja\"><a href=\"https://ja.wikipedia.org/wiki/\" title=\"Japanese\" lang=\"ja\" hreflang=\"ja\" class=\"interlanguage-link-target\">\\xe6\\x97\\xa5\\xe6\\x9c\\xac\\xe8\\xaa\\x9e</a></li><li class=\"interlanguage-link interwiki-no\"><a href=\"https://no.wikipedia.org/wiki/\" title=\"Norwegian Bokm\\xc3\\xa5l\" lang=\"nb\" hreflang=\"nb\" class=\"interlanguage-link-target\">Norsk bokm\\xc3\\xa5l</a></li><li class=\"interlanguage-link interwiki-nn\"><a href=\"https://nn.wikipedia.org/wiki/\" title=\"Norwegian Nynorsk\" lang=\"nn\" hreflang=\"nn\" class=\"interlanguage-link-target\">Norsk nynorsk</a></li><li class=\"interlanguage-link interwiki-pl\"><a href=\"https://pl.wikipedia.org/wiki/\" title=\"Polish\" lang=\"pl\" hreflang=\"pl\" class=\"interlanguage-link-target\">Polski</a></li><li class=\"interlanguage-link interwiki-pt\"><a href=\"https://pt.wikipedia.org/wiki/\" title=\"Portuguese\" lang=\"pt\" hreflang=\"pt\" class=\"interlanguage-link-target\">Portugu\\xc3\\xaas</a></li><li class=\"interlanguage-link interwiki-ro\"><a href=\"https://ro.wikipedia.org/wiki/\" title=\"Romanian\" lang=\"ro\" hreflang=\"ro\" class=\"interlanguage-link-target\">Rom\\xc3\\xa2n\\xc4\\x83</a></li><li class=\"interlanguage-link interwiki-ru\"><a href=\"https://ru.wikipedia.org/wiki/\" title=\"Russian\" lang=\"ru\" hreflang=\"ru\" class=\"interlanguage-link-target\">\\xd0\\xa0\\xd1\\x83\\xd1\\x81\\xd1\\x81\\xd0\\xba\\xd0\\xb8\\xd0\\xb9</a></li><li class=\"interlanguage-link interwiki-simple\"><a href=\"https://simple.wikipedia.org/wiki/\" title=\"Simple English\" lang=\"en-simple\" hreflang=\"en-simple\" class=\"interlanguage-link-target\">Simple English</a></li><li class=\"interlanguage-link interwiki-sk\"><a href=\"https://sk.wikipedia.org/wiki/\" title=\"Slovak\" lang=\"sk\" hreflang=\"sk\" class=\"interlanguage-link-target\">Sloven\\xc4\\x8dina</a></li><li class=\"interlanguage-link interwiki-sl\"><a href=\"https://sl.wikipedia.org/wiki/\" title=\"Slovenian\" lang=\"sl\" hreflang=\"sl\" class=\"interlanguage-link-target\">Sloven\\xc5\\xa1\\xc4\\x8dina</a></li><li class=\"interlanguage-link interwiki-sr\"><a href=\"https://sr.wikipedia.org/wiki/\" title=\"Serbian\" lang=\"sr\" hreflang=\"sr\" class=\"interlanguage-link-target\">\\xd0\\xa1\\xd1\\x80\\xd0\\xbf\\xd1\\x81\\xd0\\xba\\xd0\\xb8 / srpski</a></li><li class=\"interlanguage-link interwiki-sh\"><a href=\"https://sh.wikipedia.org/wiki/\" title=\"Serbo-Croatian\" lang=\"sh\" hreflang=\"sh\" class=\"interlanguage-link-target\">Srpskohrvatski / \\xd1\\x81\\xd1\\x80\\xd0\\xbf\\xd1\\x81\\xd0\\xba\\xd0\\xbe\\xd1\\x85\\xd1\\x80\\xd0\\xb2\\xd0\\xb0\\xd1\\x82\\xd1\\x81\\xd0\\xba\\xd0\\xb8</a></li><li class=\"interlanguage-link interwiki-fi\"><a href=\"https://fi.wikipedia.org/wiki/\" title=\"Finnish\" lang=\"fi\" hreflang=\"fi\" class=\"interlanguage-link-target\">Suomi</a></li><li class=\"interlanguage-link interwiki-sv\"><a href=\"https://sv.wikipedia.org/wiki/\" title=\"Swedish\" lang=\"sv\" hreflang=\"sv\" class=\"interlanguage-link-target\">Svenska</a></li><li class=\"interlanguage-link interwiki-th\"><a href=\"https://th.wikipedia.org/wiki/\" title=\"Thai\" lang=\"th\" hreflang=\"th\" class=\"interlanguage-link-target\">\\xe0\\xb9\\x84\\xe0\\xb8\\x97\\xe0\\xb8\\xa2</a></li><li class=\"interlanguage-link interwiki-tr\"><a href=\"https://tr.wikipedia.org/wiki/\" title=\"Turkish\" lang=\"tr\" hreflang=\"tr\" class=\"interlanguage-link-target\">T\\xc3\\xbcrk\\xc3\\xa7e</a></li><li class=\"interlanguage-link interwiki-uk\"><a href=\"https://uk.wikipedia.org/wiki/\" title=\"Ukrainian\" lang=\"uk\" hreflang=\"uk\" class=\"interlanguage-link-target\">\\xd0\\xa3\\xd0\\xba\\xd1\\x80\\xd0\\xb0\\xd1\\x97\\xd0\\xbd\\xd1\\x81\\xd1\\x8c\\xd0\\xba\\xd0\\xb0</a></li><li class=\"interlanguage-link interwiki-vi\"><a href=\"https://vi.wikipedia.org/wiki/\" title=\"Vietnamese\" lang=\"vi\" hreflang=\"vi\" class=\"interlanguage-link-target\">Ti\\xe1\\xba\\xbfng Vi\\xe1\\xbb\\x87t</a></li><li class=\"interlanguage-link interwiki-zh\"><a href=\"https://zh.wikipedia.org/wiki/\" title=\"Chinese\" lang=\"zh\" hreflang=\"zh\" class=\"interlanguage-link-target\">\\xe4\\xb8\\xad\\xe6\\x96\\x87</a></li></ul>\\n\\t\\t\\n\\t</div>\\n</nav>\\n\\n</div>\\n\\n</div>\\n<footer id=\"footer\" class=\"mw-footer\" role=\"contentinfo\" >\\n\\t<ul id=\"footer-info\" >\\n\\t<li id=\"footer-info-lastmod\"> This page was last edited on 3 February 2021, at 11:11<span class=\"anonymous-show\">&#160;(UTC)</span>.</li>\\n\\t<li id=\"footer-info-copyright\">Text is available under the <a rel=\"license\" href=\"//en.wikipedia.org/wiki/Wikipedia:Text_of_Creative_Commons_Attribution-ShareAlike_3.0_Unported_License\">Creative Commons Attribution-ShareAlike License</a><a rel=\"license\" href=\"//creativecommons.org/licenses/by-sa/3.0/\" style=\"display:none;\"></a>;\\nadditional terms may apply.  By using this site, you agree to the <a href=\"//foundation.wikimedia.org/wiki/Terms_of_Use\">Terms of Use</a> and <a href=\"//foundation.wikimedia.org/wiki/Privacy_policy\">Privacy Policy</a>. Wikipedia\\xc2\\xae is a registered trademark of the <a href=\"//www.wikimediafoundation.org/\">Wikimedia Foundation, Inc.</a>, a non-profit organization.</li>\\n</ul>\\n\\n\\t<ul id=\"footer-places\" >\\n\\t<li id=\"footer-places-privacy\"><a href=\"https://foundation.wikimedia.org/wiki/Privacy_policy\" class=\"extiw\" title=\"wmf:Privacy policy\">Privacy policy</a></li>\\n\\t<li id=\"footer-places-about\"><a href=\"/wiki/Wikipedia:About\" title=\"Wikipedia:About\">About Wikipedia</a></li>\\n\\t<li id=\"footer-places-disclaimer\"><a href=\"/wiki/Wikipedia:General_disclaimer\" title=\"Wikipedia:General disclaimer\">Disclaimers</a></li>\\n\\t<li id=\"footer-places-contact\"><a href=\"//en.wikipedia.org/wiki/Wikipedia:Contact_us\">Contact Wikipedia</a></li>\\n\\t<li id=\"footer-places-mobileview\"><a href=\"//en.m.wikipedia.org/w/index.php?title=Main_Page&amp;mobileaction=toggle_view_mobile\" class=\"noprint stopMobileRedirectToggle\">Mobile view</a></li>\\n\\t<li id=\"footer-places-developers\"><a href=\"https://www.mediawiki.org/wiki/Special:MyLanguage/How_to_contribute\">Developers</a></li>\\n\\t<li id=\"footer-places-statslink\"><a href=\"https://stats.wikimedia.org/#/en.wikipedia.org\">Statistics</a></li>\\n\\t<li id=\"footer-places-cookiestatement\"><a href=\"https://foundation.wikimedia.org/wiki/Cookie_statement\">Cookie statement</a></li>\\n</ul>\\n\\n\\t<ul id=\"footer-icons\" class=\"noprint\">\\n\\t<li id=\"footer-copyrightico\"><a href=\"https://wikimediafoundation.org/\"><img src=\"/static/images/footer/wikimedia-button.png\" srcset=\"/static/images/footer/wikimedia-button-1.5x.png 1.5x, /static/images/footer/wikimedia-button-2x.png 2x\" width=\"88\" height=\"31\" alt=\"Wikimedia Foundation\" loading=\"lazy\" /></a></li>\\n\\t<li id=\"footer-poweredbyico\"><a href=\"https://www.mediawiki.org/\"><img src=\"/static/images/footer/poweredby_mediawiki_88x31.png\" alt=\"Powered by MediaWiki\" srcset=\"/static/images/footer/poweredby_mediawiki_132x47.png 1.5x, /static/images/footer/poweredby_mediawiki_176x62.png 2x\" width=\"88\" height=\"31\" loading=\"lazy\"/></a></li>\\n</ul>\\n\\n\\t<div style=\"clear: both;\"></div>\\n</footer>\\n\\n\\n<script>(RLQ=window.RLQ||[]).push(function(){mw.config.set({\"wgPageParseReport\":{\"limitreport\":{\"cputime\":\"0.484\",\"walltime\":\"0.653\",\"ppvisitednodes\":{\"value\":4265,\"limit\":1000000},\"postexpandincludesize\":{\"value\":122419,\"limit\":2097152},\"templateargumentsize\":{\"value\":7848,\"limit\":2097152},\"expansiondepth\":{\"value\":21,\"limit\":40},\"expensivefunctioncount\":{\"value\":17,\"limit\":500},\"unstrip-depth\":{\"value\":0,\"limit\":20},\"unstrip-size\":{\"value\":5370,\"limit\":5000000},\"entityaccesscount\":{\"value\":0,\"limit\":400},\"timingprofile\":[\"100.00%  444.491      1 -total\",\" 33.42%  148.570      9 Template:Main_page_image\",\" 27.20%  120.881      1 Wikipedia:Main_Page/Tomorrow\",\" 23.95%  106.466      1 Wikipedia:Today\\'s_featured_article/March_22,_2021\",\" 20.11%   89.383      9 Template:Str_number/trim\",\" 18.20%   80.891     27 Template:If_empty\",\" 15.06%   66.942      2 Template:Main_page_image/TFA\",\" 11.16%   49.595      2 Template:Wikipedia_languages\",\" 10.88%   48.377      1 Wikipedia:Selected_anniversaries/March_22\",\"  9.48%   42.136      1 Template:Did_you_know/Queue/5\"]},\"scribunto\":{\"limitreport-timeusage\":{\"value\":\"0.088\",\"limit\":\"10.000\"},\"limitreport-memusage\":{\"value\":2668939,\"limit\":52428800}},\"cachereport\":{\"origin\":\"mw1310\",\"timestamp\":\"20210322023334\",\"ttl\":3600,\"transientcontent\":true}}});});</script>\\n<script type=\"application/ld+json\">{\"@context\":\"https:\\\\/\\\\/schema.org\",\"@type\":\"Article\",\"name\":\"Main Page\",\"url\":\"https:\\\\/\\\\/en.wikipedia.org\\\\/wiki\\\\/Main_Page\",\"sameAs\":\"http:\\\\/\\\\/www.wikidata.org\\\\/entity\\\\/Q5296\",\"mainEntity\":\"http:\\\\/\\\\/www.wikidata.org\\\\/entity\\\\/Q5296\",\"author\":{\"@type\":\"Organization\",\"name\":\"Contributors to Wikimedia projects\"},\"publisher\":{\"@type\":\"Organization\",\"name\":\"Wikimedia Foundation, Inc.\",\"logo\":{\"@type\":\"ImageObject\",\"url\":\"https:\\\\/\\\\/www.wikimedia.org\\\\/static\\\\/images\\\\/wmf-hor-googpub.png\"}},\"datePublished\":\"2002-01-26T15:28:12Z\",\"dateModified\":\"2021-02-03T11:11:30Z\",\"image\":\"https:\\\\/\\\\/upload.wikimedia.org\\\\/wikipedia\\\\/commons\\\\/1\\\\/17\\\\/HMS_Princess_Royal_LOC_18244u.jpg\",\"headline\":\"main page of a Wikimedia project (common for Wikipedia, Wiktionary and other projects)\"}</script>\\n<script>(RLQ=window.RLQ||[]).push(function(){mw.config.set({\"wgBackendResponseTime\":206,\"wgHostname\":\"mw1267\"});});</script>\\n</body></html>'"
      ]
     },
     "execution_count": 4,
     "metadata": {},
     "output_type": "execute_result"
    }
   ],
   "source": [
    "X.content"
   ]
  },
  {
   "cell_type": "code",
   "execution_count": 5,
   "metadata": {},
   "outputs": [
    {
     "data": {
      "text/plain": [
       "<!DOCTYPE html>\n",
       "\n",
       "<html class=\"client-nojs\" dir=\"ltr\" lang=\"en\">\n",
       "<head>\n",
       "<meta charset=\"utf-8\"/>\n",
       "<title>Wikipedia, the free encyclopedia</title>\n",
       "<script>document.documentElement.className=\"client-js\";RLCONF={\"wgBreakFrames\":!1,\"wgSeparatorTransformTable\":[\"\",\"\"],\"wgDigitTransformTable\":[\"\",\"\"],\"wgDefaultDateFormat\":\"dmy\",\"wgMonthNames\":[\"\",\"January\",\"February\",\"March\",\"April\",\"May\",\"June\",\"July\",\"August\",\"September\",\"October\",\"November\",\"December\"],\"wgRequestId\":\"e826c12f-53d3-4777-8213-51db0c03119e\",\"wgCSPNonce\":!1,\"wgCanonicalNamespace\":\"\",\"wgCanonicalSpecialPageName\":!1,\"wgNamespaceNumber\":0,\"wgPageName\":\"Main_Page\",\"wgTitle\":\"Main Page\",\"wgCurRevisionId\":1004593520,\"wgRevisionId\":1004593520,\"wgArticleId\":15580374,\"wgIsArticle\":!0,\"wgIsRedirect\":!1,\"wgAction\":\"view\",\"wgUserName\":null,\"wgUserGroups\":[\"*\"],\"wgCategories\":[],\"wgPageContentLanguage\":\"en\",\"wgPageContentModel\":\"wikitext\",\"wgRelevantPageName\":\"Main_Page\",\"wgRelevantArticleId\":15580374,\"wgIsProbablyEditable\":!1,\"wgRelevantPageIsProbablyEditable\":!1,\"wgRestrictionEdit\":[\"sysop\"],\"wgRestrictionMove\":[\"sysop\"],\"wgIsMainPage\":!0,\"wgMediaViewerOnClick\":!0\n",
       ",\"wgMediaViewerEnabledByDefault\":!0,\"wgPopupsReferencePreviews\":!1,\"wgPopupsReferencePreviewsBeta\":!0,\"wgPopupsConflictsWithNavPopupGadget\":!1,\"wgPopupsConflictsWithRefTooltipsGadget\":!0,\"wgVisualEditor\":{\"pageLanguageCode\":\"en\",\"pageLanguageDir\":\"ltr\",\"pageVariantFallbacks\":\"en\"},\"wgMFDisplayWikibaseDescriptions\":{\"search\":!0,\"nearby\":!0,\"watchlist\":!0,\"tagline\":!1},\"wgWMESchemaEditAttemptStepOversample\":!1,\"wgULSCurrentAutonym\":\"English\",\"wgNoticeProject\":\"wikipedia\",\"wgCentralAuthMobileDomain\":!1,\"wgEditSubmitButtonLabelPublish\":!0,\"wgULSPosition\":\"interlanguage\",\"wgWikibaseItemId\":\"Q5296\"};RLSTATE={\"ext.globalCssJs.user.styles\":\"ready\",\"site.styles\":\"ready\",\"noscript\":\"ready\",\"user.styles\":\"ready\",\"ext.globalCssJs.user\":\"ready\",\"user\":\"ready\",\"user.options\":\"loading\",\"skins.vector.styles.legacy\":\"ready\",\"ext.visualEditor.desktopArticleTarget.noscript\":\"ready\",\"ext.uls.interlanguage\":\"ready\",\"ext.wikimediaBadges\":\"ready\"};RLPAGEMODULES=[\"site\",\n",
       "\"mediawiki.page.ready\",\"skins.vector.legacy.js\",\"ext.gadget.ReferenceTooltips\",\"ext.gadget.charinsert\",\"ext.gadget.extra-toolbar-buttons\",\"ext.gadget.refToolbar\",\"ext.gadget.switcher\",\"ext.centralauth.centralautologin\",\"mmv.head\",\"mmv.bootstrap.autostart\",\"ext.popups\",\"ext.visualEditor.desktopArticleTarget.init\",\"ext.visualEditor.targetLoader\",\"ext.eventLogging\",\"ext.wikimediaEvents\",\"ext.navigationTiming\",\"ext.uls.interface\",\"ext.cx.eventlogging.campaigns\",\"ext.centralNotice.geoIP\",\"ext.centralNotice.startUp\"];</script>\n",
       "<script>(RLQ=window.RLQ||[]).push(function(){mw.loader.implement(\"user.options@1hzgi\",function($,jQuery,require,module){/*@nomin*/mw.user.tokens.set({\"patrolToken\":\"+\\\\\",\"watchToken\":\"+\\\\\",\"csrfToken\":\"+\\\\\"});\n",
       "});});</script>\n",
       "<link href=\"/w/load.php?lang=en&amp;modules=ext.uls.interlanguage%7Cext.visualEditor.desktopArticleTarget.noscript%7Cext.wikimediaBadges%7Cskins.vector.styles.legacy&amp;only=styles&amp;skin=vector\" rel=\"stylesheet\"/>\n",
       "<script async=\"\" src=\"/w/load.php?lang=en&amp;modules=startup&amp;only=scripts&amp;raw=1&amp;skin=vector\"></script>\n",
       "<meta content=\"\" name=\"ResourceLoaderDynamicStyles\"/>\n",
       "<link href=\"/w/load.php?lang=en&amp;modules=site.styles&amp;only=styles&amp;skin=vector\" rel=\"stylesheet\"/>\n",
       "<meta content=\"MediaWiki 1.36.0-wmf.35\" name=\"generator\"/>\n",
       "<meta content=\"origin\" name=\"referrer\"/>\n",
       "<meta content=\"origin-when-crossorigin\" name=\"referrer\"/>\n",
       "<meta content=\"origin-when-cross-origin\" name=\"referrer\"/>\n",
       "<meta content=\"https://upload.wikimedia.org/wikipedia/commons/thumb/1/17/HMS_Princess_Royal_LOC_18244u.jpg/1200px-HMS_Princess_Royal_LOC_18244u.jpg\" property=\"og:image\"/>\n",
       "<meta content=\"Wikipedia, the free encyclopedia\" property=\"og:title\"/>\n",
       "<meta content=\"website\" property=\"og:type\"/>\n",
       "<link href=\"//upload.wikimedia.org\" rel=\"preconnect\"/>\n",
       "<link href=\"//en.m.wikipedia.org/wiki/Main_Page\" media=\"only screen and (max-width: 720px)\" rel=\"alternate\"/>\n",
       "<link href=\"/w/api.php?action=featuredfeed&amp;feed=potd&amp;feedformat=atom\" rel=\"alternate\" title=\"Wikipedia picture of the day feed\" type=\"application/atom+xml\"/>\n",
       "<link href=\"/w/api.php?action=featuredfeed&amp;feed=featured&amp;feedformat=atom\" rel=\"alternate\" title=\"Wikipedia featured articles feed\" type=\"application/atom+xml\"/>\n",
       "<link href=\"/w/api.php?action=featuredfeed&amp;feed=onthisday&amp;feedformat=atom\" rel=\"alternate\" title='Wikipedia \"On this day...\" feed' type=\"application/atom+xml\"/>\n",
       "<link href=\"/static/apple-touch/wikipedia.png\" rel=\"apple-touch-icon\"/>\n",
       "<link href=\"/static/favicon/wikipedia.ico\" rel=\"shortcut icon\"/>\n",
       "<link href=\"/w/opensearch_desc.php\" rel=\"search\" title=\"Wikipedia (en)\" type=\"application/opensearchdescription+xml\"/>\n",
       "<link href=\"//en.wikipedia.org/w/api.php?action=rsd\" rel=\"EditURI\" type=\"application/rsd+xml\"/>\n",
       "<link href=\"//creativecommons.org/licenses/by-sa/3.0/\" rel=\"license\"/>\n",
       "<link href=\"https://en.wikipedia.org/wiki/Main_Page\" rel=\"canonical\"/>\n",
       "<link href=\"//login.wikimedia.org\" rel=\"dns-prefetch\"/>\n",
       "<link href=\"//meta.wikimedia.org\" rel=\"dns-prefetch\"/>\n",
       "</head>\n",
       "<body class=\"mediawiki ltr sitedir-ltr mw-hide-empty-elt ns-0 ns-subject page-Main_Page rootpage-Main_Page skin-vector action-view skin-vector-legacy\"><div class=\"noprint\" id=\"mw-page-base\"></div>\n",
       "<div class=\"noprint\" id=\"mw-head-base\"></div>\n",
       "<div class=\"mw-body\" id=\"content\" role=\"main\">\n",
       "<a id=\"top\"></a>\n",
       "<div class=\"mw-body-content\" id=\"siteNotice\"><!-- CentralNotice --></div>\n",
       "<div class=\"mw-indicators mw-body-content\">\n",
       "</div>\n",
       "<h1 class=\"firstHeading\" id=\"firstHeading\">Main Page</h1>\n",
       "<div class=\"mw-body-content\" id=\"bodyContent\">\n",
       "<div class=\"noprint\" id=\"siteSub\">From Wikipedia, the free encyclopedia</div>\n",
       "<div id=\"contentSub\"></div>\n",
       "<div id=\"contentSub2\"></div>\n",
       "<div id=\"jump-to-nav\"></div>\n",
       "<a class=\"mw-jump-link\" href=\"#mw-head\">Jump to navigation</a>\n",
       "<a class=\"mw-jump-link\" href=\"#searchInput\">Jump to search</a>\n",
       "<div class=\"mw-content-ltr\" dir=\"ltr\" id=\"mw-content-text\" lang=\"en\"><div class=\"mw-parser-output\"><style data-mw-deduplicate=\"TemplateStyles:r1004580458\">.mw-parser-output #mp-topbanner{position:relative;box-sizing:border-box;min-width:47em;border-color:#ddd;background-color:#f9f9f9;white-space:nowrap}.mw-parser-output .mp-bordered,.mw-parser-output .mp-h2,body.skin-timeless .mw-parser-output .mp-h2{border-width:1px;border-style:solid}.mw-parser-output #mp-topbanner,.mw-parser-output .mp-h2,.mw-parser-output #mp-left{color:#000}.mw-parser-output #mp-welcomecount{margin:0.4em;width:22em;text-align:center}.mw-parser-output #mp-welcome{font-size:162%;padding:0.1em}.mw-parser-output #mp-free{font-size:95%}.mw-parser-output #articlecount{font-size:85%}.mw-parser-output #mp-portals{position:absolute;right:-1em;top:50%;margin-top:-2.4em;width:38%;min-width:25em;font-size:95%}.mw-parser-output #mp-portals li{position:absolute;left:0;top:0}.mw-parser-output #mp-portals .portal-hmid{left:33%}.mw-parser-output #mp-portals .portal-hright{left:66%}.mw-parser-output #mp-portals .portal-vmid{top:1.6em}.mw-parser-output #mp-portals .portal-vbot{top:3.2em}.mw-parser-output #mp-portals li:last-child{font-weight:bold}.mw-parser-output #mp-banner{margin-top:4px;padding:0.5em;background-color:#fffaf5;border-color:#f2e0ce}.mw-parser-output .mp-h2,body.skin-timeless .mw-parser-output .mp-h2{margin:0.5em;padding:0.2em 0.4em;font-size:120%;font-weight:bold;font-family:inherit}.mw-parser-output h2.mp-h2::after{border:none}.mw-parser-output .mp-later{font-size:85%;font-weight:normal}.mw-parser-output #mp-upper{width:100%;margin-top:4px;margin-bottom:0;border-spacing:0;border-collapse:separate}.mw-parser-output #mp-upper .mid-table{border-color:transparent}.mw-parser-output #mp-left{width:55%;border-color:#cef2e0;background:#f5fffa}.mw-parser-output #mp-right{width:45%;border-color:#cedff2;background:#f5faff}.mw-parser-output #mp-left,.mw-parser-output #mp-right{padding:0;vertical-align:top}.mw-parser-output #mp-left .mp-h2{background:#cef2e0;border-color:#a3bfb1}.mw-parser-output #mp-right .mp-h2{background:#cedff2;border-color:#a3b0bf}.mw-parser-output #mp-tfa,.mw-parser-output #mp-dyk,.mw-parser-output #mp-itn,.mw-parser-output #mp-otd,.mw-parser-output #mp-other-lower>div{padding:0.1em 0.6em}.mw-parser-output #mp-dyk-h2,.mw-parser-output #mp-otd-h2{clear:both}.mw-parser-output #mp-middle{margin-top:4px;border-color:#f2cedd;background:#fff5fa}.mw-parser-output #mp-middle,.mw-parser-output #mp-lower,.mw-parser-output #mp-other-lower{overflow:auto}.mw-parser-output #mp-tfl-h2{background:#f2cedd;border-color:#bfa3af}.mw-parser-output #mp-tfl{padding:0.3em 0.7em}.mw-parser-output #mp-lower{margin-top:4px;border-color:#ddcef2;background:#faf5ff}.mw-parser-output #mp-tfp-h2{background:#ddcef2;border-color:#afa3bf}.mw-parser-output #mp-tfp{margin:0.1em 0.4em 0.6em}.mw-parser-output #mp-other-lower{padding:0;border-color:#e2e2e2;margin-top:4px}.mw-parser-output #mp-dyk,.mw-parser-output #mp-otd,.mw-parser-output #mp-other-lower{padding-bottom:0.5em}.mw-parser-output #mp-other-lower .mp-h2{background:#eee;border-color:#ddd;color:#222}@media(max-width:875px){body.skin--responsive .mw-parser-output #mp-welcomecount{width:auto}body.skin--responsive .mw-parser-output #mp-topbanner{min-width:0;white-space:normal}body.skin--responsive .mw-parser-output #mp-portals{position:static;width:auto;min-width:0;text-align:center;border-top:1px solid #ddd;padding:0.4em 0;margin:0 0.4em}body.skin--responsive .mw-parser-output #mp-portals li{position:static;display:inline;padding:0 5px;white-space:nowrap}body.skin--responsive .mw-parser-output table,body.skin--responsive .mw-parser-output tr,body.skin--responsive .mw-parser-output td,body.skin--responsive .mw-parser-output tbody{display:block!important;width:100%!important;box-sizing:border-box}body.skin--responsive .mw-parser-output #mp-tfp tr:first-child td:first-child a{text-align:center;display:table;margin:0 auto}}</style>\n",
       "<div class=\"mp-bordered\" id=\"mp-topbanner\">\n",
       "<div id=\"mp-welcomecount\">\n",
       "<div id=\"mp-welcome\">Welcome to <a href=\"/wiki/Wikipedia\" title=\"Wikipedia\">Wikipedia</a>,</div>\n",
       "<div id=\"mp-free\">the <a href=\"/wiki/Free_content\" title=\"Free content\">free</a> <a href=\"/wiki/Encyclopedia\" title=\"Encyclopedia\">encyclopedia</a> that <a href=\"/wiki/Help:Introduction_to_Wikipedia\" title=\"Help:Introduction to Wikipedia\">anyone can edit</a>.</div>\n",
       "<div id=\"articlecount\"><a href=\"/wiki/Special:Statistics\" title=\"Special:Statistics\">6,273,905</a> articles in <a href=\"/wiki/English_language\" title=\"English language\">English</a></div>\n",
       "</div>\n",
       "<ul id=\"mp-portals\">\n",
       "<li><a href=\"/wiki/Portal:The_arts\" title=\"Portal:The arts\">The arts</a></li>\n",
       "<li class=\"portal-vmid\"><a href=\"/wiki/Portal:Biography\" title=\"Portal:Biography\">Biography</a></li>\n",
       "<li class=\"portal-vbot\"><a href=\"/wiki/Portal:Geography\" title=\"Portal:Geography\">Geography</a></li>\n",
       "<li class=\"portal-hmid\"><a href=\"/wiki/Portal:History\" title=\"Portal:History\">History</a></li>\n",
       "<li class=\"portal-hmid portal-vmid\"><a href=\"/wiki/Portal:Mathematics\" title=\"Portal:Mathematics\">Mathematics</a></li>\n",
       "<li class=\"portal-hmid portal-vbot\"><a href=\"/wiki/Portal:Science\" title=\"Portal:Science\">Science</a></li>\n",
       "<li class=\"portal-hright\"><a href=\"/wiki/Portal:Society\" title=\"Portal:Society\">Society</a></li>\n",
       "<li class=\"portal-hright portal-vmid\"><a href=\"/wiki/Portal:Technology\" title=\"Portal:Technology\">Technology</a></li>\n",
       "<li class=\"portal-hright portal-vbot\"><a href=\"/wiki/Wikipedia:Contents/Portals\" title=\"Wikipedia:Contents/Portals\">All portals</a></li>\n",
       "</ul>\n",
       "</div>\n",
       "<table id=\"mp-upper\" role=\"presentation\">\n",
       "<tbody><tr>\n",
       "<td class=\"MainPageBG mp-bordered\" id=\"mp-left\">\n",
       "<h2 class=\"mp-h2\" id=\"mp-tfa-h2\"><span id=\"From_today.27s_featured_article\"></span><span class=\"mw-headline\" id=\"From_today's_featured_article\">From today's featured article</span></h2>\n",
       "<div id=\"mp-tfa\"><div id=\"mp-tfa-img\" style=\"float: left; margin: 0.5em 0.9em 0.4em 0em;\">\n",
       "<div class=\"thumbinner mp-thumb\" style=\"background: transparent; border: none; padding: 0; max-width: 196px;\">\n",
       "<a class=\"image\" href=\"/wiki/File:HMS_Princess_Royal_LOC_18244u.jpg\" title=\"HMS Princess Royal\"><img alt=\"HMS Princess Royal\" data-file-height=\"2723\" data-file-width=\"5340\" decoding=\"async\" height=\"100\" src=\"//upload.wikimedia.org/wikipedia/commons/thumb/1/17/HMS_Princess_Royal_LOC_18244u.jpg/196px-HMS_Princess_Royal_LOC_18244u.jpg\" srcset=\"//upload.wikimedia.org/wikipedia/commons/thumb/1/17/HMS_Princess_Royal_LOC_18244u.jpg/294px-HMS_Princess_Royal_LOC_18244u.jpg 1.5x, //upload.wikimedia.org/wikipedia/commons/thumb/1/17/HMS_Princess_Royal_LOC_18244u.jpg/392px-HMS_Princess_Royal_LOC_18244u.jpg 2x\" width=\"196\"/></a></div>\n",
       "</div>\n",
       "<p><b><a href=\"/wiki/HMS_Princess_Royal_(1911)\" title=\"HMS Princess Royal (1911)\">HMS <i>Princess Royal</i></a></b> was built for the British <a href=\"/wiki/Royal_Navy\" title=\"Royal Navy\">Royal Navy</a> before the <a href=\"/wiki/World_War_I\" title=\"World War I\">First World War</a> in response to the <a href=\"/wiki/Moltke-class_battlecruiser\" title=\"Moltke-class battlecruiser\"><i>Moltke</i>-class</a> battlecruisers of the <a href=\"/wiki/Imperial_German_Navy\" title=\"Imperial German Navy\">Imperial German Navy</a> and significantly improved on the speed, armament, and armour of earlier <a href=\"/wiki/Battlecruiser\" title=\"Battlecruiser\">battlecruisers</a>. <a href=\"/wiki/Keel_laying\" title=\"Keel laying\">Laid down</a> in 1912 and <a href=\"/wiki/Ship_commissioning\" title=\"Ship commissioning\">commissioned</a> in 1913, <i>Princess Royal</i> served in the <a href=\"/wiki/Battle_of_Heligoland_Bight_(1914)\" title=\"Battle of Heligoland Bight (1914)\">Battle of Heligoland Bight</a> a month after the war began. During the <a href=\"/wiki/Battle_of_Dogger_Bank_(1915)\" title=\"Battle of Dogger Bank (1915)\">Battle of Dogger Bank</a>, <i>Princess Royal</i> scored few hits, although one crippled the German <a href=\"/wiki/Armored_cruiser\" title=\"Armored cruiser\">armoured cruiser</a> <a href=\"/wiki/SMS_Bl%C3%BCcher\" title=\"SMS Blücher\"><i>Blücher</i></a>. Shortly afterward, she became the <a href=\"/wiki/Flagship\" title=\"Flagship\">flagship</a> of the 1st Battlecruiser <a href=\"/wiki/Squadron_(naval)\" title=\"Squadron (naval)\">Squadron</a>, under the command of Rear-Admiral <a href=\"/wiki/Osmond_Brock\" title=\"Osmond Brock\">Osmond Brock</a>. <i>Princess Royal</i> was moderately damaged during the <a href=\"/wiki/Battle_of_Jutland\" title=\"Battle of Jutland\">Battle of Jutland</a> and required a month and a half of repairs. Apart from providing distant support during the <a href=\"/wiki/Second_Battle_of_Heligoland_Bight\" title=\"Second Battle of Heligoland Bight\">Second Battle of Heligoland Bight</a> in 1917, the ship spent the rest of the war on uneventful patrols of the <a href=\"/wiki/North_Sea\" title=\"North Sea\">North Sea</a>. She was sold for <a href=\"/wiki/Ship_breaking\" title=\"Ship breaking\">breaking up</a> as <a href=\"/wiki/Scrap\" title=\"Scrap\">scrap</a> in 1922. <i>(<b><a href=\"/wiki/HMS_Princess_Royal_(1911)\" title=\"HMS Princess Royal (1911)\">This article</a></b> is part of a <a href=\"/wiki/Wikipedia:Featured_topics\" title=\"Wikipedia:Featured topics\">featured topic</a>: <b><a href=\"/wiki/Wikipedia:Featured_topics/Battlecruisers_of_the_world\" title=\"Wikipedia:Featured topics/Battlecruisers of the world\">Battlecruisers of the world</a></b>.)</i>\n",
       "</p>\n",
       "<div class=\"tfa-recent\" style=\"text-align: right;\">\n",
       "Recently featured: <div class=\"hlist hlist-separated inline\">\n",
       "<ul><li><a href=\"/wiki/Sirius\" title=\"Sirius\">Sirius</a></li>\n",
       "<li><a href=\"/wiki/Duke_and_Duchess_of_Windsor%27s_1937_tour_of_Germany\" title=\"Duke and Duchess of Windsor's 1937 tour of Germany\">Duke and Duchess of Windsor's 1937 tour of Germany</a></li>\n",
       "<li><a href=\"/wiki/University_of_Washington_station\" title=\"University of Washington station\">University of Washington station</a></li></ul>\n",
       "</div></div>\n",
       "<div class=\"tfa-footer hlist hlist-separated noprint\" style=\"text-align: right;\">\n",
       "<ul><li><b><a href=\"/wiki/Wikipedia:Today%27s_featured_article/March_2021\" title=\"Wikipedia:Today's featured article/March 2021\">Archive</a></b></li>\n",
       "<li><b><a class=\"extiw\" href=\"https://lists.wikimedia.org/mailman/listinfo/daily-article-l\" title=\"mail:daily-article-l\">By email</a></b></li>\n",
       "<li><b><a href=\"/wiki/Wikipedia:Featured_articles\" title=\"Wikipedia:Featured articles\">More featured articles</a></b></li></ul>\n",
       "</div></div>\n",
       "<h2 class=\"mp-h2\" id=\"mp-dyk-h2\"><span class=\"mw-headline\" id=\"Did_you_know_...\">Did you know ...</span></h2>\n",
       "<div id=\"mp-dyk\">\n",
       "<div class=\"dyk-img\" style=\"float: right; margin-left: 0.5em;\">\n",
       "<div class=\"thumbinner mp-thumb\" style=\"background: transparent; border: none; padding: 0; max-width: 127px;\">\n",
       "<a class=\"image\" href=\"/wiki/File:SammyByrdGoudeycard.jpg\" title=\"Sammy Byrd\"><img alt=\"Sammy Byrd\" data-file-height=\"386\" data-file-width=\"317\" decoding=\"async\" height=\"155\" src=\"//upload.wikimedia.org/wikipedia/commons/thumb/9/9a/SammyByrdGoudeycard.jpg/127px-SammyByrdGoudeycard.jpg\" srcset=\"//upload.wikimedia.org/wikipedia/commons/thumb/9/9a/SammyByrdGoudeycard.jpg/191px-SammyByrdGoudeycard.jpg 1.5x, //upload.wikimedia.org/wikipedia/commons/thumb/9/9a/SammyByrdGoudeycard.jpg/254px-SammyByrdGoudeycard.jpg 2x\" width=\"127\"/></a><div class=\"thumbcaption\" style=\"padding: 0.25em 0; word-wrap: break-word;\">Sammy Byrd</div></div>\n",
       "</div>\n",
       "<ul><li>... that <b><a href=\"/wiki/Sammy_Byrd\" title=\"Sammy Byrd\">Sammy Byrd</a></b> <i>(pictured)</i> is the only person to play in both a <a href=\"/wiki/World_Series\" title=\"World Series\">World Series</a> and a <a href=\"/wiki/Masters_Tournament\" title=\"Masters Tournament\">Masters Tournament</a>?</li>\n",
       "<li>... that the music styles in the <b><a href=\"/wiki/MewithoutYou_discography\" title=\"MewithoutYou discography\">discography of mewithoutYou</a></b> range from screamed post-hardcore vocals to acoustic campfire songs?</li>\n",
       "<li>... that <b><a href=\"/wiki/Eliza_Pottie\" title=\"Eliza Pottie\">Eliza Pottie</a></b> was one of a small group of women who founded the first <a href=\"/wiki/YWCA\" title=\"YWCA\">Young Women's Christian Association</a> branch in Sydney?</li>\n",
       "<li>... that at the <b><a href=\"/wiki/2021_Welsh_Open_(snooker)\" title=\"2021 Welsh Open (snooker)\">2021 Welsh Open</a></b>, <a href=\"/wiki/Jordan_Brown_(snooker_player)\" title=\"Jordan Brown (snooker player)\">Jordan Brown</a> was the lowest-ranked snooker player to win a <a href=\"/wiki/Snooker_world_rankings\" title=\"Snooker world rankings\">ranking event</a> since 1993?</li>\n",
       "<li>... that <b><a href=\"/wiki/Andrew_Logan_(surgeon)\" title=\"Andrew Logan (surgeon)\">Andrew Logan</a></b> assisted at the first <a href=\"/wiki/Pneumonectomy\" title=\"Pneumonectomy\">pneumonectomy</a> in the UK and performed the country's first <a href=\"/wiki/Lung_transplantation\" title=\"Lung transplantation\">lung transplant</a>?</li>\n",
       "<li>... that the 1938 film <i><b><a href=\"/wiki/Gangster%27s_Boy\" title=\"Gangster's Boy\">Gangster's Boy</a></b></i> starred silent-film actress <a href=\"/wiki/Betty_Blythe\" title=\"Betty Blythe\">Betty Blythe</a>, who took on roles that she liked despite a source saying that she was \"more or less retired\"?</li>\n",
       "<li>... that the baritone <b><a href=\"/wiki/Benjamin_Appl\" title=\"Benjamin Appl\">Benjamin Appl</a></b>, the last private student of <a href=\"/wiki/Dietrich_Fischer-Dieskau\" title=\"Dietrich Fischer-Dieskau\">Dietrich Fischer-Dieskau</a>, was named <i><a href=\"/wiki/Gramophone_(magazine)\" title=\"Gramophone (magazine)\">Gramophone</a></i><span class=\"nowrap\" style=\"padding-left:0.1em;\">'s</span> Young Artist of 2016?</li>\n",
       "<li>... that when commenting on her decision to depict <a href=\"/wiki/Achilles\" title=\"Achilles\">Achilles</a> and <a href=\"/wiki/Patroclus\" title=\"Patroclus\">Patroclus</a> as lovers in her novel <i><b><a href=\"/wiki/The_Song_of_Achilles\" title=\"The Song of Achilles\">The Song of Achilles</a></b></i>, author <a href=\"/wiki/Madeline_Miller\" title=\"Madeline Miller\">Madeline Miller</a> remarked: \"I stole it from <a href=\"/wiki/Plato\" title=\"Plato\">Plato</a>\"?</li></ul>\n",
       "<div class=\"dyk-footer hlist noprint\" style=\"margin-top: 0.5em; text-align: right;\">\n",
       "<ul><li><b><a href=\"/wiki/Wikipedia:Recent_additions\" title=\"Wikipedia:Recent additions\">Archive</a></b></li>\n",
       "<li><b><a href=\"/wiki/Help:Your_first_article\" title=\"Help:Your first article\">Start a new article</a></b></li>\n",
       "<li><b><a href=\"/wiki/Template_talk:Did_you_know\" title=\"Template talk:Did you know\">Nominate an article</a></b></li></ul>\n",
       "</div>\n",
       "</div>\n",
       "</td>\n",
       "<td class=\"mp-bordered mid-table\">\n",
       "</td>\n",
       "<td class=\"MainPageBG mp-bordered\" id=\"mp-right\">\n",
       "<h2 class=\"mp-h2\" id=\"mp-itn-h2\"><span class=\"mw-headline\" id=\"In_the_news\">In the news</span></h2>\n",
       "<div id=\"mp-itn\"><div class=\"itn-img\" role=\"figure\" style=\"float: right; margin-left: 0.5em; margin-top: 0.2em;\">\n",
       "<div class=\"thumbinner mp-thumb\" style=\"background: transparent; border: none; padding: 0; max-width: 129px;\">\n",
       "<a class=\"image\" href=\"/wiki/File:Samia_Suluhu_Hassan_in_May_2017.jpg\" title=\"Samia Suluhu in 2017\"><img alt=\"Samia Suluhu in 2017\" data-file-height=\"1763\" data-file-width=\"1492\" decoding=\"async\" height=\"152\" src=\"//upload.wikimedia.org/wikipedia/commons/thumb/7/70/Samia_Suluhu_Hassan_in_May_2017.jpg/129px-Samia_Suluhu_Hassan_in_May_2017.jpg\" srcset=\"//upload.wikimedia.org/wikipedia/commons/thumb/7/70/Samia_Suluhu_Hassan_in_May_2017.jpg/194px-Samia_Suluhu_Hassan_in_May_2017.jpg 1.5x, //upload.wikimedia.org/wikipedia/commons/thumb/7/70/Samia_Suluhu_Hassan_in_May_2017.jpg/258px-Samia_Suluhu_Hassan_in_May_2017.jpg 2x\" width=\"129\"/></a><div class=\"thumbcaption\" style=\"padding: 0.25em 0; word-wrap: break-word; text-align: left;\">Samia Suluhu</div></div>\n",
       "</div>\n",
       "<ul><li><b><a href=\"/wiki/Samia_Suluhu\" title=\"Samia Suluhu\">Samia Suluhu</a></b> <i>(pictured)</i> becomes the first female <a href=\"/wiki/President_of_Tanzania\" title=\"President of Tanzania\">president of Tanzania</a>, following the death of <b><a href=\"/wiki/John_Magufuli\" title=\"John Magufuli\">John Magufuli</a></b> at the age of 61.</li>\n",
       "<li>Mathematicians <b><a href=\"/wiki/Avi_Wigderson\" title=\"Avi Wigderson\">Avi Wigderson</a></b> and <b><a href=\"/wiki/L%C3%A1szl%C3%B3_Lov%C3%A1sz\" title=\"László Lovász\">László Lovász</a></b> share the <a href=\"/wiki/Abel_Prize\" title=\"Abel Prize\">Abel Prize</a> for their work in <a href=\"/wiki/Computational_complexity_theory\" title=\"Computational complexity theory\">complexity theory</a> and <a href=\"/wiki/Graph_theory\" title=\"Graph theory\">graph theory</a>.</li>\n",
       "<li>In <a href=\"/wiki/Sailing_(sport)\" title=\"Sailing (sport)\">sailing</a>, <b><a href=\"/wiki/2021_America%27s_Cup\" title=\"2021 America's Cup\">the America's Cup</a></b> concludes with <a href=\"/wiki/Team_New_Zealand\" title=\"Team New Zealand\">Team New Zealand</a> beating Italy's <a href=\"/wiki/Luna_Rossa_Challenge\" title=\"Luna Rossa Challenge\">Luna Rossa Challenge</a>.</li>\n",
       "<li>In the United States, <b><a href=\"/wiki/2021_Atlanta_spa_shootings\" title=\"2021 Atlanta spa shootings\">a series of mass shootings</a></b> at three <a href=\"/wiki/Massage_parlor\" title=\"Massage parlor\">massage parlors</a> in <a href=\"/wiki/Atlanta\" title=\"Atlanta\">Atlanta</a> leaves eight dead, including six women of Asian descent.</li></ul>\n",
       "<div class=\"itn-footer\" style=\"margin-top: 0.5em;\">\n",
       "<div><b><a href=\"/wiki/Portal:Current_events\" title=\"Portal:Current events\">Ongoing</a></b>: <div class=\"hlist hlist-separated inline\">\n",
       "<ul><li><a href=\"/wiki/COVID-19_pandemic\" title=\"COVID-19 pandemic\">COVID-19 pandemic</a></li>\n",
       "<li><a href=\"/wiki/2021_Myanmar_protests\" title=\"2021 Myanmar protests\">Myanmar protests</a></li></ul></div></div>\n",
       "<div><b><a href=\"/wiki/Deaths_in_2021\" title=\"Deaths in 2021\">Recent deaths</a></b>: <div class=\"hlist hlist-separated inline\">\n",
       "<ul><li><a href=\"/wiki/Elsa_Peretti\" title=\"Elsa Peretti\">Elsa Peretti</a></li>\n",
       "<li><a href=\"/wiki/Courtney_Blackman\" title=\"Courtney Blackman\">Courtney Blackman</a></li>\n",
       "<li><a href=\"/wiki/Ed_Armbrister\" title=\"Ed Armbrister\">Ed Armbrister</a></li>\n",
       "<li><a href=\"/wiki/Peter_Lorimer\" title=\"Peter Lorimer\">Peter Lorimer</a></li>\n",
       "<li><a href=\"/wiki/Clark_M._Blatteis\" title=\"Clark M. Blatteis\">Clark M. Blatteis</a></li>\n",
       "<li><a href=\"/wiki/Glynn_Lunney\" title=\"Glynn Lunney\">Glynn Lunney</a></li></ul></div></div></div>\n",
       "<div class=\"itn-footer hlist hlist-separated noprint\" style=\"text-align: right;\">\n",
       "<ul><li><b><a href=\"/wiki/Wikipedia:In_the_news/Candidates\" title=\"Wikipedia:In the news/Candidates\">Nominate an article</a></b></li></ul></div></div>\n",
       "<h2 class=\"mp-h2\" id=\"mp-otd-h2\"><span class=\"mw-headline\" id=\"On_this_day\">On this day</span></h2>\n",
       "<div id=\"mp-otd\">\n",
       "<p><b><a href=\"/wiki/March_22\" title=\"March 22\">March 22</a></b>: <b><a href=\"/wiki/World_Water_Day\" title=\"World Water Day\">World Water Day</a></b>\n",
       "</p>\n",
       "<div id=\"mp-otd-img\" style=\"float:right;margin-left:0.5em;\">\n",
       "<div class=\"thumbinner mp-thumb\" style=\"background: transparent; border: none; padding: 0; max-width: 117px;\">\n",
       "<a class=\"image\" href=\"/wiki/File:NCG-WilliamHolden.jpg\" title=\"William Woods Holden\"><img alt=\"William Woods Holden\" data-file-height=\"411\" data-file-width=\"287\" decoding=\"async\" height=\"168\" src=\"//upload.wikimedia.org/wikipedia/commons/thumb/8/86/NCG-WilliamHolden.jpg/117px-NCG-WilliamHolden.jpg\" srcset=\"//upload.wikimedia.org/wikipedia/commons/thumb/8/86/NCG-WilliamHolden.jpg/176px-NCG-WilliamHolden.jpg 1.5x, //upload.wikimedia.org/wikipedia/commons/thumb/8/86/NCG-WilliamHolden.jpg/234px-NCG-WilliamHolden.jpg 2x\" width=\"117\"/></a><div class=\"thumbcaption\" style=\"padding: 0.25em 0; word-wrap: break-word;\">William Woods Holden</div></div>\n",
       "</div>\n",
       "<ul><li><a href=\"/wiki/AD_106\" title=\"AD 106\">106</a> – The <b><a href=\"/wiki/Bostran_era\" title=\"Bostran era\">Bostran era</a></b>, the official era of the <a href=\"/wiki/Roman_province\" title=\"Roman province\">Roman province</a> of <a href=\"/wiki/Arabia_Petraea\" title=\"Arabia Petraea\">Arabia Petraea</a>, began.</li>\n",
       "<li><a href=\"/wiki/1638\" title=\"1638\">1638</a> – <b><a href=\"/wiki/Anne_Hutchinson\" title=\"Anne Hutchinson\">Anne Hutchinson</a></b> was expelled from the <a href=\"/wiki/Massachusetts_Bay_Colony\" title=\"Massachusetts Bay Colony\">Massachusetts Bay Colony</a> for her participation in the <a href=\"/wiki/Antinomian_Controversy\" title=\"Antinomian Controversy\">Antinomian Controversy</a>.</li>\n",
       "<li><a href=\"/wiki/1765\" title=\"1765\">1765</a> – The <a href=\"/wiki/Parliament_of_Great_Britain\" title=\"Parliament of Great Britain\">Parliament of Great Britain</a> passed the <b><a href=\"/wiki/Stamp_Act_1765\" title=\"Stamp Act 1765\">Stamp Act</a></b>, requiring that many printed materials in the <a href=\"/wiki/Thirteen_Colonies\" title=\"Thirteen Colonies\">Thirteen Colonies</a> in <a href=\"/wiki/British_America\" title=\"British America\">British America</a> carry a <a href=\"/wiki/Revenue_stamp\" title=\"Revenue stamp\">tax stamp</a>.</li>\n",
       "<li><a href=\"/wiki/1871\" title=\"1871\">1871</a> – <b><a href=\"/wiki/William_Woods_Holden\" title=\"William Woods Holden\">William Woods Holden</a></b> <i>(pictured)</i>, <a href=\"/wiki/Governor_of_North_Carolina\" title=\"Governor of North Carolina\">Governor of North Carolina</a>, became the first U.S. state governor to be removed from office through <a href=\"/wiki/Impeachment\" title=\"Impeachment\">impeachment</a>.</li>\n",
       "<li><a href=\"/wiki/2004\" title=\"2004\">2004</a> – Palestinian <a href=\"/wiki/Imam\" title=\"Imam\">imam</a> Sheikh <b><a href=\"/wiki/Ahmed_Yassin\" title=\"Ahmed Yassin\">Ahmed Yassin</a></b>, a founder and the spiritual leader of <a href=\"/wiki/Hamas\" title=\"Hamas\">Hamas</a>, was killed by an Israeli missile as he left early morning prayers.</li></ul>\n",
       "<div class=\"hlist hlist-separated\" style=\"margin-top: 0.5em;\"><ul><li><b><a href=\"/wiki/Anthony_van_Dyck\" title=\"Anthony van Dyck\">Anthony van Dyck</a></b>  (<abbr title=\"born\">b.</abbr> 1599)</li><li><b><a href=\"/wiki/Caroline_Norton\" title=\"Caroline Norton\">Caroline Norton</a></b>  (<abbr title=\"born\">b.</abbr> 1808)</li><li><b><a href=\"/wiki/Kenz%C5%8D_Tange\" title=\"Kenzō Tange\">Kenzō Tange</a></b>  (<abbr title=\"died\">d.</abbr> 2005)</li></ul></div>\n",
       "<div style=\"margin-top: 0.5em;\">\n",
       "More anniversaries: <div class=\"hlist hlist-separated inline nowraplinks\">\n",
       "<ul><li><a href=\"/wiki/March_21\" title=\"March 21\">March 21</a></li>\n",
       "<li><b><a href=\"/wiki/March_22\" title=\"March 22\">March 22</a></b></li>\n",
       "<li><a href=\"/wiki/March_23\" title=\"March 23\">March 23</a></li></ul>\n",
       "</div></div>\n",
       "<div class=\"otd-footer hlist hlist-separated noprint\" style=\"text-align: right;\">\n",
       "<ul><li><b><a href=\"/wiki/Wikipedia:Selected_anniversaries/March\" title=\"Wikipedia:Selected anniversaries/March\">Archive</a></b></li>\n",
       "<li><b><a class=\"extiw\" href=\"https://lists.wikimedia.org/mailman/listinfo/daily-article-l\" title=\"mail:daily-article-l\">By email</a></b></li>\n",
       "<li><b><a href=\"/wiki/List_of_days_of_the_year\" title=\"List of days of the year\">List of days of the year</a></b></li></ul>\n",
       "</div>\n",
       "</div>\n",
       "</td></tr></tbody></table>\n",
       "<div class=\"MainPageBG mp-bordered\" id=\"mp-middle\">\n",
       "<div id=\"mp-center\">\n",
       "<h2 class=\"mp-h2\" id=\"mp-tfl-h2\"><span id=\"From_today.27s_featured_list\"></span><span class=\"mw-headline\" id=\"From_today's_featured_list\">From today's featured list</span></h2>\n",
       "<div id=\"mp-tfl\"><div id=\"mp-tfl-img\" style=\"float:right;margin:0.5em 0 0.4em 0.9em;\"><div class=\"thumbinner mp-thumb\" style=\"background: transparent; border: none; padding: 0; max-width: 120px;\">\n",
       "<a class=\"image\" href=\"/wiki/File:Mary_Pickford_1916_2.jpg\" title=\"Mary Pickford\"><img alt=\"Mary Pickford\" data-file-height=\"947\" data-file-width=\"691\" decoding=\"async\" height=\"164\" src=\"//upload.wikimedia.org/wikipedia/commons/thumb/3/34/Mary_Pickford_1916_2.jpg/120px-Mary_Pickford_1916_2.jpg\" srcset=\"//upload.wikimedia.org/wikipedia/commons/thumb/3/34/Mary_Pickford_1916_2.jpg/180px-Mary_Pickford_1916_2.jpg 1.5x, //upload.wikimedia.org/wikipedia/commons/thumb/3/34/Mary_Pickford_1916_2.jpg/240px-Mary_Pickford_1916_2.jpg 2x\" width=\"120\"/></a><div class=\"thumbcaption\" style=\"padding: 0.25em 0; word-wrap: break-word;\">Mary Pickford</div></div>\n",
       "</div>\n",
       "<p>Canadian-American motion-picture actress <a href=\"/wiki/Mary_Pickford\" title=\"Mary Pickford\">Mary Pickford</a> started <b><a href=\"/wiki/Mary_Pickford_filmography\" title=\"Mary Pickford filmography\">her film career</a></b> in the United States in 1909, having began acting on stage in 1900. During the <a href=\"/wiki/Silent_film\" title=\"Silent film\">silent-film</a> era, she became one of the first great celebrities of the cinema and a <a href=\"/wiki/Pop_icon\" title=\"Pop icon\">popular icon</a> known to the public as \"America's Sweetheart\". Initially with the <a href=\"/wiki/Biograph_Company\" title=\"Biograph Company\">Biograph Company</a>, she moved to the <a href=\"/wiki/Independent_Moving_Pictures\" title=\"Independent Moving Pictures\">Independent Motion Picture Company</a> in 1911, then briefly to the Majestic Film Company later that same year, followed by a return to Biograph in 1912. After appearing in over 150 short films during her years with these studios, she began working in features with <a href=\"/wiki/Adolph_Zukor\" title=\"Adolph Zukor\">Zukor</a>'s <a href=\"/wiki/Famous_Players_Film_Company\" title=\"Famous Players Film Company\">Famous Players Film Company</a>, a studio that eventually became part of <a href=\"/wiki/Paramount_Pictures\" title=\"Paramount Pictures\">Paramount Pictures</a>. By 1916, Pickford's popularity had reached the point that she was awarded a contract making her a partner with Zukor and allowing her to produce her own films. Following the release of <i><a href=\"/wiki/Secrets_(1933_film)\" title=\"Secrets (1933 film)\">Secrets</a></i> (1933), Pickford retired from acting in motion pictures, but remained active as a producer for several years afterwards. (<b><a href=\"/wiki/Mary_Pickford_filmography\" title=\"Mary Pickford filmography\">Full list...</a></b>)\n",
       "</p>\n",
       "<div class=\"tfl-recent\" style=\"text-align: right;\">\n",
       "Recently featured: <div class=\"hlist hlist-separated inline\">\n",
       "<ul><li><a href=\"/wiki/DNA_and_RNA_codon_tables\" title=\"DNA and RNA codon tables\">DNA and RNA codon tables</a></li>\n",
       "<li><a href=\"/wiki/List_of_songs_recorded_by_Billie_Eilish\" title=\"List of songs recorded by Billie Eilish\">Songs recorded by Billie Eilish</a></li>\n",
       "<li><a href=\"/wiki/List_of_stupas_in_Nepal\" title=\"List of stupas in Nepal\">Stupas in Nepal</a></li></ul>\n",
       "</div></div>\n",
       "<div class=\"tfl-footer hlist hlist-separated noprint\" style=\"text-align: right;\">\n",
       "<ul><li><b><a href=\"/wiki/Wikipedia:Today%27s_featured_list/March_2021\" title=\"Wikipedia:Today's featured list/March 2021\">Archive</a></b></li>\n",
       "<li><b><a href=\"/wiki/Wikipedia:Featured_lists\" title=\"Wikipedia:Featured lists\">More featured lists</a></b></li></ul>\n",
       "</div></div>\n",
       "</div>\n",
       "</div>\n",
       "<div class=\"MainPageBG mp-bordered\" id=\"mp-lower\">\n",
       "<div id=\"mp-bottom\">\n",
       "<h2 class=\"mp-h2\" id=\"mp-tfp-h2\"><span id=\"Today.27s_featured_picture\"></span><span class=\"mw-headline\" id=\"Today's_featured_picture\">Today's featured picture</span></h2>\n",
       "<div id=\"mp-tfp\">\n",
       "<table role=\"presentation\" style=\"margin:0 3px 3px; width:100%; box-sizing:border-box; text-align:left; background-color:transparent; border-collapse:collapse;\">\n",
       "<tbody><tr>\n",
       "<td style=\"padding:0 0.9em 0 0; width:280px;\"><a class=\"image\" href=\"/wiki/File:Ab%C5%AB_l-Hasan_Ban%C4%ABsadr_IMG_2044_edit.jpg\" title=\"Abolhassan Banisadr\"><img alt=\"Abolhassan Banisadr\" data-file-height=\"3339\" data-file-width=\"2294\" decoding=\"async\" height=\"408\" src=\"//upload.wikimedia.org/wikipedia/commons/thumb/f/f2/Ab%C5%AB_l-Hasan_Ban%C4%ABsadr_IMG_2044_edit.jpg/280px-Ab%C5%AB_l-Hasan_Ban%C4%ABsadr_IMG_2044_edit.jpg\" srcset=\"//upload.wikimedia.org/wikipedia/commons/thumb/f/f2/Ab%C5%AB_l-Hasan_Ban%C4%ABsadr_IMG_2044_edit.jpg/420px-Ab%C5%AB_l-Hasan_Ban%C4%ABsadr_IMG_2044_edit.jpg 1.5x, //upload.wikimedia.org/wikipedia/commons/thumb/f/f2/Ab%C5%AB_l-Hasan_Ban%C4%ABsadr_IMG_2044_edit.jpg/560px-Ab%C5%AB_l-Hasan_Ban%C4%ABsadr_IMG_2044_edit.jpg 2x\" width=\"280\"/></a>\n",
       "</td>\n",
       "<td style=\"padding:0 6px 0 0\">\n",
       "<p><b><a href=\"/wiki/Abolhassan_Banisadr\" title=\"Abolhassan Banisadr\">Abolhassan Banisadr</a></b> (born 22 March 1933) is an Iranian politician. He was the first <a href=\"/wiki/President_of_Iran\" title=\"President of Iran\">president of Iran</a> after the 1979 <a href=\"/wiki/Iranian_Revolution\" title=\"Iranian Revolution\">Iranian Revolution</a> abolished the <a href=\"/wiki/Pahlavi_dynasty\" title=\"Pahlavi dynasty\">Pahlavi dynasty</a>, serving from 4 February 1980 until his impeachment by the <a href=\"/wiki/Islamic_Consultative_Assembly\" title=\"Islamic Consultative Assembly\">Islamic Consultative Assembly</a>, the Iranian parliament, on 20 June 1981. Prior to his presidency, he was the <a href=\"/wiki/Ministry_of_Foreign_Affairs_(Iran)\" title=\"Ministry of Foreign Affairs (Iran)\">Minister of Foreign Affairs</a> in <a href=\"/wiki/Interim_Government_of_Iran\" title=\"Interim Government of Iran\">the interim government</a>. Following Banisadr's exile in 1981, he has resided for many years in France, where he co-founded the <a href=\"/wiki/National_Council_of_Resistance_of_Iran\" title=\"National Council of Resistance of Iran\">National Council of Resistance of Iran</a>.\n",
       "</p>\n",
       "<p style=\"text-align:left;\"><small>Photograph credit: <a href=\"/wiki/User:Christoph_Braun\" title=\"User:Christoph Braun\">Christoph Braun</a></small></p>\n",
       "<div class=\"potd-recent\" style=\"text-align:right;\">\n",
       "Recently featured: <div class=\"hlist hlist-separated inline\">\n",
       "<ul><li><a href=\"/wiki/Template:POTD/2021-03-21\" title=\"Template:POTD/2021-03-21\"><i>Vision of St. John on Patmos</i></a></li>\n",
       "<li><a href=\"/wiki/Template:POTD/2021-03-20\" title=\"Template:POTD/2021-03-20\">Emily Carr</a></li>\n",
       "<li><a href=\"/wiki/Template:POTD/2021-03-19\" title=\"Template:POTD/2021-03-19\">Francis B. Spinola</a></li></ul>\n",
       "</div></div>\n",
       "<div class=\"potd-footer hlist hlist-separated noprint\" style=\"text-align:right;\">\n",
       "<ul><li><b><a href=\"/wiki/Wikipedia:Picture_of_the_day/Archive\" title=\"Wikipedia:Picture of the day/Archive\">Archive</a></b></li>\n",
       "<li><b><a href=\"/wiki/Wikipedia:Featured_pictures\" title=\"Wikipedia:Featured pictures\">More featured pictures</a></b></li></ul>\n",
       "</div>\n",
       "</td></tr></tbody></table></div>\n",
       "</div>\n",
       "</div>\n",
       "<div class=\"mp-bordered\" id=\"mp-other-lower\">\n",
       "<h2 class=\"mp-h2\" id=\"mp-other\"><span class=\"mw-headline\" id=\"Other_areas_of_Wikipedia\">Other areas of Wikipedia</span></h2>\n",
       "<div id=\"mp-other-content\">\n",
       "<ul><li><b><a href=\"/wiki/Wikipedia:Community_portal\" title=\"Wikipedia:Community portal\">Community portal</a></b> – Bulletin board, projects, resources and activities covering a wide range of Wikipedia areas.</li>\n",
       "<li><b><a href=\"/wiki/Wikipedia:Help_desk\" title=\"Wikipedia:Help desk\">Help desk</a></b> – Ask questions about using Wikipedia.</li>\n",
       "<li><b><a href=\"/wiki/Wikipedia:Local_Embassy\" title=\"Wikipedia:Local Embassy\">Local embassy</a></b> – For Wikipedia-related communication in languages other than English.</li>\n",
       "<li><b><a href=\"/wiki/Wikipedia:Reference_desk\" title=\"Wikipedia:Reference desk\">Reference desk</a></b> – Serving as virtual librarians, Wikipedia volunteers tackle your questions on a wide range of subjects.</li>\n",
       "<li><b><a href=\"/wiki/Wikipedia:News\" title=\"Wikipedia:News\">Site news</a></b> – Announcements, updates, articles and press releases on Wikipedia and the Wikimedia Foundation.</li>\n",
       "<li><b><a href=\"/wiki/Wikipedia:Village_pump\" title=\"Wikipedia:Village pump\">Village pump</a></b> – For discussions about Wikipedia itself, including areas for technical issues and policies.</li></ul>\n",
       "</div>\n",
       "<h2 class=\"mp-h2\" id=\"mp-sister\"><span id=\"Wikipedia.27s_sister_projects\"></span><span class=\"mw-headline\" id=\"Wikipedia's_sister_projects\">Wikipedia's sister projects</span></h2>\n",
       "<div id=\"mp-sister-content\"><style data-mw-deduplicate=\"TemplateStyles:r1007624485\">.mw-parser-output #sister-projects-list{display:flex;flex-wrap:wrap}.mw-parser-output #sister-projects-list li{display:inline-block}.mw-parser-output #sister-projects-list li span{font-weight:bold}.mw-parser-output #sister-projects-list li>div{display:inline-block;vertical-align:middle;padding:6px 4px}.mw-parser-output #sister-projects-list li>div:first-child{text-align:center}@media(min-width:360px){.mw-parser-output #sister-projects-list li{width:33%;min-width:20em;white-space:nowrap;flex:1 0 25%}.mw-parser-output #sister-projects-list li>div:first-child{min-width:50px}}</style>\n",
       "<p>Wikipedia is hosted by the <a href=\"/wiki/Wikimedia_Foundation\" title=\"Wikimedia Foundation\">Wikimedia Foundation</a>, a non-profit organization that also hosts a range of other <a class=\"extiw\" href=\"https://wikimediafoundation.org/our-work/wikimedia-projects/\" title=\"foundationsite:our-work/wikimedia-projects/\">projects</a>:\n",
       "</p>\n",
       "<div class=\"plainlist\">\n",
       "<ul id=\"sister-projects-list\">\n",
       "<li>\n",
       "<div><a href=\"https://commons.wikimedia.org/wiki/\" title=\"Commons\"><img alt=\"\" data-file-height=\"1376\" data-file-width=\"1024\" decoding=\"async\" height=\"42\" src=\"//upload.wikimedia.org/wikipedia/en/thumb/4/4a/Commons-logo.svg/31px-Commons-logo.svg.png\" srcset=\"//upload.wikimedia.org/wikipedia/en/thumb/4/4a/Commons-logo.svg/47px-Commons-logo.svg.png 1.5x, //upload.wikimedia.org/wikipedia/en/thumb/4/4a/Commons-logo.svg/62px-Commons-logo.svg.png 2x\" width=\"31\"/></a></div>\n",
       "<div><span><a class=\"extiw\" href=\"https://commons.wikimedia.org/wiki/\" title=\"c:\">Commons</a></span><br/>Free media repository</div>\n",
       "</li>\n",
       "<li>\n",
       "<div><a href=\"https://www.mediawiki.org/wiki/\" title=\"MediaWiki\"><img alt=\"\" data-file-height=\"102\" data-file-width=\"135\" decoding=\"async\" height=\"26\" src=\"//upload.wikimedia.org/wikipedia/commons/thumb/3/3d/Mediawiki-logo.png/35px-Mediawiki-logo.png\" srcset=\"//upload.wikimedia.org/wikipedia/commons/thumb/3/3d/Mediawiki-logo.png/53px-Mediawiki-logo.png 1.5x, //upload.wikimedia.org/wikipedia/commons/thumb/3/3d/Mediawiki-logo.png/70px-Mediawiki-logo.png 2x\" width=\"35\"/></a></div>\n",
       "<div><span><a class=\"extiw\" href=\"https://www.mediawiki.org/wiki/\" title=\"mw:\">MediaWiki</a></span><br/>Wiki software development</div>\n",
       "</li>\n",
       "<li>\n",
       "<div><a href=\"https://meta.wikimedia.org/wiki/\" title=\"Meta-Wiki\"><img alt=\"\" data-file-height=\"900\" data-file-width=\"900\" decoding=\"async\" height=\"35\" src=\"//upload.wikimedia.org/wikipedia/commons/thumb/7/75/Wikimedia_Community_Logo.svg/35px-Wikimedia_Community_Logo.svg.png\" srcset=\"//upload.wikimedia.org/wikipedia/commons/thumb/7/75/Wikimedia_Community_Logo.svg/53px-Wikimedia_Community_Logo.svg.png 1.5x, //upload.wikimedia.org/wikipedia/commons/thumb/7/75/Wikimedia_Community_Logo.svg/70px-Wikimedia_Community_Logo.svg.png 2x\" width=\"35\"/></a></div>\n",
       "<div><span><a class=\"extiw\" href=\"https://meta.wikimedia.org/wiki/\" title=\"m:\">Meta-Wiki</a></span><br/>Wikimedia project coordination</div>\n",
       "</li>\n",
       "<li>\n",
       "<div><a href=\"https://en.wikibooks.org/wiki/\" title=\"Wikibooks\"><img alt=\"\" data-file-height=\"300\" data-file-width=\"300\" decoding=\"async\" height=\"35\" src=\"//upload.wikimedia.org/wikipedia/commons/thumb/f/fa/Wikibooks-logo.svg/35px-Wikibooks-logo.svg.png\" srcset=\"//upload.wikimedia.org/wikipedia/commons/thumb/f/fa/Wikibooks-logo.svg/53px-Wikibooks-logo.svg.png 1.5x, //upload.wikimedia.org/wikipedia/commons/thumb/f/fa/Wikibooks-logo.svg/70px-Wikibooks-logo.svg.png 2x\" width=\"35\"/></a></div>\n",
       "<div><span><a class=\"extiw\" href=\"https://en.wikibooks.org/wiki/\" title=\"b:\">Wikibooks</a></span><br/>Free textbooks and manuals</div>\n",
       "</li>\n",
       "<li>\n",
       "<div><a href=\"https://www.wikidata.org/wiki/\" title=\"Wikidata\"><img alt=\"\" data-file-height=\"590\" data-file-width=\"1050\" decoding=\"async\" height=\"26\" src=\"//upload.wikimedia.org/wikipedia/commons/thumb/f/ff/Wikidata-logo.svg/47px-Wikidata-logo.svg.png\" srcset=\"//upload.wikimedia.org/wikipedia/commons/thumb/f/ff/Wikidata-logo.svg/71px-Wikidata-logo.svg.png 1.5x, //upload.wikimedia.org/wikipedia/commons/thumb/f/ff/Wikidata-logo.svg/94px-Wikidata-logo.svg.png 2x\" width=\"47\"/></a></div>\n",
       "<div><span><a class=\"extiw\" href=\"https://www.wikidata.org/wiki/\" title=\"d:\">Wikidata</a></span><br/>Free knowledge base</div>\n",
       "</li>\n",
       "<li>\n",
       "<div><a href=\"https://en.wikinews.org/wiki/\" title=\"Wikinews\"><img alt=\"\" data-file-height=\"415\" data-file-width=\"759\" decoding=\"async\" height=\"28\" src=\"//upload.wikimedia.org/wikipedia/commons/thumb/2/24/Wikinews-logo.svg/51px-Wikinews-logo.svg.png\" srcset=\"//upload.wikimedia.org/wikipedia/commons/thumb/2/24/Wikinews-logo.svg/77px-Wikinews-logo.svg.png 1.5x, //upload.wikimedia.org/wikipedia/commons/thumb/2/24/Wikinews-logo.svg/102px-Wikinews-logo.svg.png 2x\" width=\"51\"/></a></div>\n",
       "<div><span><a class=\"extiw\" href=\"https://en.wikinews.org/wiki/\" title=\"n:\">Wikinews</a></span><br/>Free-content news</div>\n",
       "</li>\n",
       "<li>\n",
       "<div><a href=\"https://en.wikiquote.org/wiki/\" title=\"Wikiquote\"><img alt=\"\" data-file-height=\"355\" data-file-width=\"300\" decoding=\"async\" height=\"41\" src=\"//upload.wikimedia.org/wikipedia/commons/thumb/f/fa/Wikiquote-logo.svg/35px-Wikiquote-logo.svg.png\" srcset=\"//upload.wikimedia.org/wikipedia/commons/thumb/f/fa/Wikiquote-logo.svg/53px-Wikiquote-logo.svg.png 1.5x, //upload.wikimedia.org/wikipedia/commons/thumb/f/fa/Wikiquote-logo.svg/70px-Wikiquote-logo.svg.png 2x\" width=\"35\"/></a></div>\n",
       "<div><span><a class=\"extiw\" href=\"https://en.wikiquote.org/wiki/\" title=\"q:\">Wikiquote</a></span><br/>Collection of quotations</div>\n",
       "</li>\n",
       "<li>\n",
       "<div><a href=\"https://en.wikisource.org/wiki/\" title=\"Wikisource\"><img alt=\"\" data-file-height=\"430\" data-file-width=\"410\" decoding=\"async\" height=\"37\" src=\"//upload.wikimedia.org/wikipedia/commons/thumb/4/4c/Wikisource-logo.svg/35px-Wikisource-logo.svg.png\" srcset=\"//upload.wikimedia.org/wikipedia/commons/thumb/4/4c/Wikisource-logo.svg/53px-Wikisource-logo.svg.png 1.5x, //upload.wikimedia.org/wikipedia/commons/thumb/4/4c/Wikisource-logo.svg/70px-Wikisource-logo.svg.png 2x\" width=\"35\"/></a></div>\n",
       "<div><span><a class=\"extiw\" href=\"https://en.wikisource.org/wiki/\" title=\"s:\">Wikisource</a></span><br/>Free-content library</div>\n",
       "</li>\n",
       "<li>\n",
       "<div><a href=\"https://species.wikimedia.org/wiki/\" title=\"Wikispecies\"><img alt=\"\" data-file-height=\"1103\" data-file-width=\"941\" decoding=\"async\" height=\"41\" src=\"//upload.wikimedia.org/wikipedia/commons/thumb/d/df/Wikispecies-logo.svg/35px-Wikispecies-logo.svg.png\" srcset=\"//upload.wikimedia.org/wikipedia/commons/thumb/d/df/Wikispecies-logo.svg/53px-Wikispecies-logo.svg.png 1.5x, //upload.wikimedia.org/wikipedia/commons/thumb/d/df/Wikispecies-logo.svg/70px-Wikispecies-logo.svg.png 2x\" width=\"35\"/></a></div>\n",
       "<div><span><a class=\"extiw\" href=\"https://species.wikimedia.org/wiki/\" title=\"species:\">Wikispecies</a></span><br/>Directory of species</div>\n",
       "</li>\n",
       "<li>\n",
       "<div><a href=\"https://en.wikiversity.org/wiki/\" title=\"Wikiversity\"><img alt=\"\" data-file-height=\"512\" data-file-width=\"626\" decoding=\"async\" height=\"34\" src=\"//upload.wikimedia.org/wikipedia/commons/thumb/0/0b/Wikiversity_logo_2017.svg/41px-Wikiversity_logo_2017.svg.png\" srcset=\"//upload.wikimedia.org/wikipedia/commons/thumb/0/0b/Wikiversity_logo_2017.svg/62px-Wikiversity_logo_2017.svg.png 1.5x, //upload.wikimedia.org/wikipedia/commons/thumb/0/0b/Wikiversity_logo_2017.svg/82px-Wikiversity_logo_2017.svg.png 2x\" width=\"41\"/></a></div>\n",
       "<div><span><a class=\"extiw\" href=\"https://en.wikiversity.org/wiki/\" title=\"v:\">Wikiversity</a></span><br/>Free learning tools</div>\n",
       "</li>\n",
       "<li>\n",
       "<div><a href=\"https://en.wikivoyage.org/wiki/\" title=\"Wikivoyage\"><img alt=\"\" data-file-height=\"193\" data-file-width=\"193\" decoding=\"async\" height=\"35\" src=\"//upload.wikimedia.org/wikipedia/commons/thumb/d/dd/Wikivoyage-Logo-v3-icon.svg/35px-Wikivoyage-Logo-v3-icon.svg.png\" srcset=\"//upload.wikimedia.org/wikipedia/commons/thumb/d/dd/Wikivoyage-Logo-v3-icon.svg/53px-Wikivoyage-Logo-v3-icon.svg.png 1.5x, //upload.wikimedia.org/wikipedia/commons/thumb/d/dd/Wikivoyage-Logo-v3-icon.svg/70px-Wikivoyage-Logo-v3-icon.svg.png 2x\" width=\"35\"/></a></div>\n",
       "<div><span><a class=\"extiw\" href=\"https://en.wikivoyage.org/wiki/\" title=\"voy:\">Wikivoyage</a></span><br/>Free travel guide</div>\n",
       "</li>\n",
       "<li>\n",
       "<div><a href=\"https://en.wiktionary.org/wiki/\" title=\"Wiktionary\"><img alt=\"\" data-file-height=\"391\" data-file-width=\"391\" decoding=\"async\" height=\"35\" src=\"//upload.wikimedia.org/wikipedia/en/thumb/0/06/Wiktionary-logo-v2.svg/35px-Wiktionary-logo-v2.svg.png\" srcset=\"//upload.wikimedia.org/wikipedia/en/thumb/0/06/Wiktionary-logo-v2.svg/53px-Wiktionary-logo-v2.svg.png 1.5x, //upload.wikimedia.org/wikipedia/en/thumb/0/06/Wiktionary-logo-v2.svg/70px-Wiktionary-logo-v2.svg.png 2x\" width=\"35\"/></a></div>\n",
       "<div><span><a class=\"extiw\" href=\"https://en.wiktionary.org/wiki/\" title=\"wikt:\">Wiktionary</a></span><br/>Dictionary and thesaurus</div>\n",
       "</li>\n",
       "</ul>\n",
       "</div></div>\n",
       "<h2 class=\"mp-h2\" id=\"mp-lang\"><span class=\"mw-headline\" id=\"Wikipedia_languages\">Wikipedia languages</span></h2>\n",
       "<div><style data-mw-deduplicate=\"TemplateStyles:r997272951\">.mw-parser-output .wikipedia-languages-complete{font-weight:bold}.mw-parser-output .wikipedia-languages ul{margin-left:0}.mw-parser-output .wikipedia-languages ul a{white-space:nowrap}.mw-parser-output .wikipedia-languages>ul{list-style:none;text-align:center;clear:both}.mw-parser-output .wikipedia-languages-count-container{width:90%;display:flex;justify-content:center;padding-top:1em;margin:0 auto}.mw-parser-output .wikipedia-languages-prettybars{width:100%;height:1px;margin:0.5em 0;background-color:#c8ccd1;flex-shrink:1;align-self:center}.mw-parser-output .wikipedia-languages-count{padding:0 1em;white-space:nowrap}</style>\n",
       "<div class=\"wikipedia-languages nourlexpansion\">\n",
       "<p>This Wikipedia is written in <a href=\"/wiki/English_language\" title=\"English language\">English</a>. Many <a class=\"extiw\" href=\"https://meta.wikimedia.org/wiki/List_of_Wikipedias\" title=\"meta:List of Wikipedias\">other Wikipedias are available</a>; some of the largest are listed below.\n",
       "</p>\n",
       "<ul class=\"plainlinks\">\n",
       "<li>\n",
       "<div class=\"wikipedia-languages-count-container\">\n",
       "<div class=\"wikipedia-languages-prettybars\"></div>\n",
       "<div class=\"wikipedia-languages-count\" role=\"heading\">1,000,000+ articles</div>\n",
       "<div class=\"wikipedia-languages-prettybars\"></div>\n",
       "</div>\n",
       "<ul class=\"wikipedia-languages-langs hlist hlist-separated inline\">\n",
       "<li><a class=\"external text\" href=\"https://ar.wikipedia.org/wiki/\"><span class=\"autonym\" lang=\"ar\" title=\"Arabic (ar:)\">العربية</span></a></li>\n",
       "<li><a class=\"external text\" href=\"https://de.wikipedia.org/wiki/\"><span class=\"autonym\" lang=\"de\" title=\"German (de:)\">Deutsch</span></a></li>\n",
       "<li><a class=\"external text\" href=\"https://es.wikipedia.org/wiki/\"><span class=\"autonym\" lang=\"es\" title=\"Spanish (es:)\">Español</span></a></li>\n",
       "<li><a class=\"external text\" href=\"https://fr.wikipedia.org/wiki/\"><span class=\"autonym\" lang=\"fr\" title=\"French (fr:)\">Français</span></a></li>\n",
       "<li><a class=\"external text\" href=\"https://it.wikipedia.org/wiki/\"><span class=\"autonym\" lang=\"it\" title=\"Italian (it:)\">Italiano</span></a></li>\n",
       "<li><a class=\"external text\" href=\"https://nl.wikipedia.org/wiki/\"><span class=\"autonym\" lang=\"nl\" title=\"Dutch (nl:)\">Nederlands</span></a></li>\n",
       "<li><a class=\"external text\" href=\"https://ja.wikipedia.org/wiki/\"><span class=\"autonym\" lang=\"ja\" title=\"Japanese (ja:)\">日本語</span></a></li>\n",
       "<li><a class=\"external text\" href=\"https://pl.wikipedia.org/wiki/\"><span class=\"autonym\" lang=\"pl\" title=\"Polish (pl:)\">Polski</span></a></li>\n",
       "<li><a class=\"external text\" href=\"https://pt.wikipedia.org/wiki/\"><span class=\"autonym\" lang=\"pt\" title=\"Portuguese (pt:)\">Português</span></a></li>\n",
       "<li><a class=\"external text\" href=\"https://ru.wikipedia.org/wiki/\"><span class=\"autonym\" lang=\"ru\" title=\"Russian (ru:)\">Русский</span></a></li>\n",
       "<li><a class=\"external text\" href=\"https://sv.wikipedia.org/wiki/\"><span class=\"autonym\" lang=\"sv\" title=\"Swedish (sv:)\">Svenska</span></a></li>\n",
       "<li><a class=\"external text\" href=\"https://uk.wikipedia.org/wiki/\"><span class=\"autonym\" lang=\"uk\" title=\"Ukrainian (uk:)\">Українська</span></a></li>\n",
       "<li><a class=\"external text\" href=\"https://vi.wikipedia.org/wiki/\"><span class=\"autonym\" lang=\"vi\" title=\"Vietnamese (vi:)\">Tiếng Việt</span></a></li>\n",
       "<li><a class=\"external text\" href=\"https://zh.wikipedia.org/wiki/\"><span class=\"autonym\" lang=\"zh\" title=\"Chinese (zh:)\">中文</span></a></li>\n",
       "</ul>\n",
       "</li>\n",
       "<li>\n",
       "<div class=\"wikipedia-languages-count-container\">\n",
       "<div class=\"wikipedia-languages-prettybars\"></div>\n",
       "<div class=\"wikipedia-languages-count\" role=\"heading\">250,000+ articles</div>\n",
       "<div class=\"wikipedia-languages-prettybars\"></div>\n",
       "</div>\n",
       "<ul class=\"wikipedia-languages-langs hlist hlist-separated inline\">\n",
       "<li><a class=\"external text\" href=\"https://id.wikipedia.org/wiki/\"><span class=\"autonym\" lang=\"id\" title=\"Indonesian (id:)\">Bahasa Indonesia</span></a></li>\n",
       "<li><a class=\"external text\" href=\"https://ms.wikipedia.org/wiki/\"><span class=\"autonym\" lang=\"ms\" title=\"Malay (ms:)\">Bahasa Melayu</span></a></li>\n",
       "<li><a class=\"external text\" href=\"https://zh-min-nan.wikipedia.org/wiki/\"><span class=\"autonym\" lang=\"nan\" title=\"Min Nan Chinese (nan:)\">Bân-lâm-gú</span></a></li>\n",
       "<li><a class=\"external text\" href=\"https://bg.wikipedia.org/wiki/\"><span class=\"autonym\" lang=\"bg\" title=\"Bulgarian (bg:)\">Български</span></a></li>\n",
       "<li><a class=\"external text\" href=\"https://ca.wikipedia.org/wiki/\"><span class=\"autonym\" lang=\"ca\" title=\"Catalan (ca:)\">Català</span></a></li>\n",
       "<li><a class=\"external text\" href=\"https://cs.wikipedia.org/wiki/\"><span class=\"autonym\" lang=\"cs\" title=\"Czech (cs:)\">Čeština</span></a></li>\n",
       "<li><a class=\"external text\" href=\"https://da.wikipedia.org/wiki/\"><span class=\"autonym\" lang=\"da\" title=\"Danish (da:)\">Dansk</span></a></li>\n",
       "<li><a class=\"external text\" href=\"https://eo.wikipedia.org/wiki/\"><span class=\"autonym\" lang=\"eo\" title=\"Esperanto (eo:)\">Esperanto</span></a></li>\n",
       "<li><a class=\"external text\" href=\"https://eu.wikipedia.org/wiki/\"><span class=\"autonym\" lang=\"eu\" title=\"Basque (eu:)\">Euskara</span></a></li>\n",
       "<li><a class=\"external text\" href=\"https://fa.wikipedia.org/wiki/\"><span class=\"autonym\" lang=\"fa\" title=\"Persian (fa:)\">فارسی</span></a>‎</li>\n",
       "<li><a class=\"external text\" href=\"https://he.wikipedia.org/wiki/\"><span class=\"autonym\" lang=\"he\" title=\"Hebrew (he:)\">עברית</span></a></li>\n",
       "<li><a class=\"external text\" href=\"https://ko.wikipedia.org/wiki/\"><span class=\"autonym\" lang=\"ko\" title=\"Korean (ko:)\">한국어</span></a></li>\n",
       "<li><a class=\"external text\" href=\"https://hu.wikipedia.org/wiki/\"><span class=\"autonym\" lang=\"hu\" title=\"Hungarian (hu:)\">Magyar</span></a></li>\n",
       "<li><a class=\"external text\" href=\"https://no.wikipedia.org/wiki/\"><span class=\"autonym\" lang=\"no\" title=\"Norwegian (no:)\">Norsk Bokmål</span></a></li>\n",
       "<li><a class=\"external text\" href=\"https://ro.wikipedia.org/wiki/\"><span class=\"autonym\" lang=\"ro\" title=\"Romanian (ro:)\">Română</span></a></li>\n",
       "<li><a class=\"external text\" href=\"https://sr.wikipedia.org/wiki/\"><span class=\"autonym\" lang=\"sr\" title=\"Serbian (sr:)\">Srpski</span></a></li>\n",
       "<li><a class=\"external text\" href=\"https://sh.wikipedia.org/wiki/\"><span class=\"autonym\" lang=\"sh\" title=\"Serbo-Croatian (sh:)\">Srpskohrvatski</span></a></li>\n",
       "<li><a class=\"external text\" href=\"https://fi.wikipedia.org/wiki/\"><span class=\"autonym\" lang=\"fi\" title=\"Finnish (fi:)\">Suomi</span></a></li>\n",
       "<li><a class=\"external text\" href=\"https://tr.wikipedia.org/wiki/\"><span class=\"autonym\" lang=\"tr\" title=\"Turkish (tr:)\">Türkçe</span></a></li>\n",
       "</ul>\n",
       "</li>\n",
       "<li>\n",
       "<div class=\"wikipedia-languages-count-container\">\n",
       "<div class=\"wikipedia-languages-prettybars\"></div>\n",
       "<div class=\"wikipedia-languages-count\" role=\"heading\">50,000+ articles</div>\n",
       "<div class=\"wikipedia-languages-prettybars\"></div>\n",
       "</div>\n",
       "<ul class=\"wikipedia-languages-langs hlist hlist-separated inline\">\n",
       "<li><a class=\"external text\" href=\"https://ast.wikipedia.org/wiki/\"><span class=\"autonym\" lang=\"ast\" title=\"Asturian (ast:)\">Asturianu</span></a></li>\n",
       "<li><a class=\"external text\" href=\"https://bs.wikipedia.org/wiki/\"><span class=\"autonym\" lang=\"bs\" title=\"Bosnian (bs:)\">Bosanski</span></a></li>\n",
       "<li><a class=\"external text\" href=\"https://et.wikipedia.org/wiki/\"><span class=\"autonym\" lang=\"et\" title=\"Estonian (et:)\">Eesti</span></a></li>\n",
       "<li><a class=\"external text\" href=\"https://el.wikipedia.org/wiki/\"><span class=\"autonym\" lang=\"el\" title=\"Greek (el:)\">Ελληνικά</span></a></li>\n",
       "<li><a class=\"external text\" href=\"https://simple.wikipedia.org/wiki/\"><span class=\"autonym\" lang=\"simple\" title=\"Simple English (simple:)\">Simple English</span></a></li>\n",
       "<li><a class=\"external text\" href=\"https://gl.wikipedia.org/wiki/\"><span class=\"autonym\" lang=\"gl\" title=\"Galician (gl:)\">Galego</span></a></li>\n",
       "<li><a class=\"external text\" href=\"https://hr.wikipedia.org/wiki/\"><span class=\"autonym\" lang=\"hr\" title=\"Croatian (hr:)\">Hrvatski</span></a></li>\n",
       "<li><a class=\"external text\" href=\"https://lv.wikipedia.org/wiki/\"><span class=\"autonym\" lang=\"lv\" title=\"Latvian (lv:)\">Latviešu</span></a></li>\n",
       "<li><a class=\"external text\" href=\"https://lt.wikipedia.org/wiki/\"><span class=\"autonym\" lang=\"lt\" title=\"Lithuanian (lt:)\">Lietuvių</span></a></li>\n",
       "<li><a class=\"external text\" href=\"https://ml.wikipedia.org/wiki/\"><span class=\"autonym\" lang=\"ml\" title=\"Malayalam (ml:)\">മലയാളം</span></a></li>\n",
       "<li><a class=\"external text\" href=\"https://mk.wikipedia.org/wiki/\"><span class=\"autonym\" lang=\"mk\" title=\"Macedonian (mk:)\">Македонски</span></a></li>\n",
       "<li><a class=\"external text\" href=\"https://nn.wikipedia.org/wiki/\"><span class=\"autonym\" lang=\"nn\" title=\"Norwegian Nynorsk (nn:)\">Norsk nynorsk</span></a></li>\n",
       "<li><a class=\"external text\" href=\"https://sk.wikipedia.org/wiki/\"><span class=\"autonym\" lang=\"sk\" title=\"Slovak (sk:)\">Slovenčina</span></a></li>\n",
       "<li><a class=\"external text\" href=\"https://sl.wikipedia.org/wiki/\"><span class=\"autonym\" lang=\"sl\" title=\"Slovenian (sl:)\">Slovenščina</span></a></li>\n",
       "<li><a class=\"external text\" href=\"https://th.wikipedia.org/wiki/\"><span class=\"autonym\" lang=\"th\" title=\"Thai (th:)\">ไทย</span></a></li>\n",
       "</ul>\n",
       "</li>\n",
       "</ul>\n",
       "</div></div>\n",
       "</div>\n",
       "<!-- \n",
       "NewPP limit report\n",
       "Parsed by mw1310\n",
       "Cached time: 20210322023334\n",
       "Cache expiry: 3600\n",
       "Dynamic content: true\n",
       "Complications: []\n",
       "CPU time usage: 0.484 seconds\n",
       "Real time usage: 0.653 seconds\n",
       "Preprocessor visited node count: 4265/1000000\n",
       "Post‐expand include size: 122419/2097152 bytes\n",
       "Template argument size: 7848/2097152 bytes\n",
       "Highest expansion depth: 21/40\n",
       "Expensive parser function count: 17/500\n",
       "Unstrip recursion depth: 0/20\n",
       "Unstrip post‐expand size: 5370/5000000 bytes\n",
       "Lua time usage: 0.088/10.000 seconds\n",
       "Lua memory usage: 2668939/52428800 bytes\n",
       "Number of Wikibase entities loaded: 0/400\n",
       "-->\n",
       "<!--\n",
       "Transclusion expansion time report (%,ms,calls,template)\n",
       "100.00%  444.491      1 -total\n",
       " 33.42%  148.570      9 Template:Main_page_image\n",
       " 27.20%  120.881      1 Wikipedia:Main_Page/Tomorrow\n",
       " 23.95%  106.466      1 Wikipedia:Today's_featured_article/March_22,_2021\n",
       " 20.11%   89.383      9 Template:Str_number/trim\n",
       " 18.20%   80.891     27 Template:If_empty\n",
       " 15.06%   66.942      2 Template:Main_page_image/TFA\n",
       " 11.16%   49.595      2 Template:Wikipedia_languages\n",
       " 10.88%   48.377      1 Wikipedia:Selected_anniversaries/March_22\n",
       "  9.48%   42.136      1 Template:Did_you_know/Queue/5\n",
       "-->\n",
       "<!-- Saved in parser cache with key enwiki:pcache:idhash:15580374-0!canonical and timestamp 20210322023334 and revision id 1004593520. Serialized with JSON.\n",
       " -->\n",
       "</div><noscript><img alt=\"\" height=\"1\" src=\"//en.wikipedia.org/wiki/Special:CentralAutoLogin/start?type=1x1\" style=\"border: none; position: absolute;\" title=\"\" width=\"1\"/></noscript>\n",
       "<div class=\"printfooter\">Retrieved from \"<a dir=\"ltr\" href=\"https://en.wikipedia.org/w/index.php?title=Main_Page&amp;oldid=1004593520\">https://en.wikipedia.org/w/index.php?title=Main_Page&amp;oldid=1004593520</a>\"</div></div>\n",
       "<div class=\"catlinks catlinks-allhidden\" data-mw=\"interface\" id=\"catlinks\"></div>\n",
       "</div>\n",
       "</div>\n",
       "<div id=\"mw-data-after-content\">\n",
       "<div class=\"read-more-container\"></div>\n",
       "</div>\n",
       "<div id=\"mw-navigation\">\n",
       "<h2>Navigation menu</h2>\n",
       "<div id=\"mw-head\">\n",
       "<!-- Please do not use role attribute as CSS selector, it is deprecated. -->\n",
       "<nav aria-labelledby=\"p-personal-label\" class=\"mw-portlet mw-portlet-personal vector-menu\" id=\"p-personal\" role=\"navigation\">\n",
       "<h3 class=\"vector-menu-heading\" id=\"p-personal-label\">\n",
       "<span>Personal tools</span>\n",
       "</h3>\n",
       "<div class=\"vector-menu-content\">\n",
       "<ul class=\"vector-menu-content-list\"><li id=\"pt-anonuserpage\">Not logged in</li><li id=\"pt-anontalk\"><a accesskey=\"n\" href=\"/wiki/Special:MyTalk\" title=\"Discussion about edits from this IP address [n]\">Talk</a></li><li id=\"pt-anoncontribs\"><a accesskey=\"y\" href=\"/wiki/Special:MyContributions\" title=\"A list of edits made from this IP address [y]\">Contributions</a></li><li id=\"pt-createaccount\"><a href=\"/w/index.php?title=Special:CreateAccount&amp;returnto=Main+Page\" title=\"You are encouraged to create an account and log in; however, it is not mandatory\">Create account</a></li><li id=\"pt-login\"><a accesskey=\"o\" href=\"/w/index.php?title=Special:UserLogin&amp;returnto=Main+Page\" title=\"You're encouraged to log in; however, it's not mandatory. [o]\">Log in</a></li></ul>\n",
       "</div>\n",
       "</nav>\n",
       "<div id=\"left-navigation\">\n",
       "<!-- Please do not use role attribute as CSS selector, it is deprecated. -->\n",
       "<nav aria-labelledby=\"p-namespaces-label\" class=\"mw-portlet mw-portlet-namespaces vector-menu vector-menu-tabs\" id=\"p-namespaces\" role=\"navigation\">\n",
       "<h3 class=\"vector-menu-heading\" id=\"p-namespaces-label\">\n",
       "<span>Namespaces</span>\n",
       "</h3>\n",
       "<div class=\"vector-menu-content\">\n",
       "<ul class=\"vector-menu-content-list\"><li class=\"selected\" id=\"ca-nstab-main\"><a accesskey=\"c\" href=\"/wiki/Main_Page\" title=\"View the content page [c]\">Main Page</a></li><li id=\"ca-talk\"><a accesskey=\"t\" href=\"/wiki/Talk:Main_Page\" rel=\"discussion\" title=\"Discuss improvements to the content page [t]\">Talk</a></li></ul>\n",
       "</div>\n",
       "</nav>\n",
       "<!-- Please do not use role attribute as CSS selector, it is deprecated. -->\n",
       "<nav aria-labelledby=\"p-variants-label\" class=\"mw-portlet mw-portlet-variants emptyPortlet vector-menu vector-menu-dropdown\" id=\"p-variants\" role=\"navigation\">\n",
       "<input aria-labelledby=\"p-variants-label\" class=\"vector-menu-checkbox\" type=\"checkbox\"/>\n",
       "<h3 class=\"vector-menu-heading\" id=\"p-variants-label\">\n",
       "<span>Variants</span>\n",
       "</h3>\n",
       "<div class=\"vector-menu-content\">\n",
       "<ul class=\"vector-menu-content-list\"></ul>\n",
       "</div>\n",
       "</nav>\n",
       "</div>\n",
       "<div id=\"right-navigation\">\n",
       "<!-- Please do not use role attribute as CSS selector, it is deprecated. -->\n",
       "<nav aria-labelledby=\"p-views-label\" class=\"mw-portlet mw-portlet-views vector-menu vector-menu-tabs\" id=\"p-views\" role=\"navigation\">\n",
       "<h3 class=\"vector-menu-heading\" id=\"p-views-label\">\n",
       "<span>Views</span>\n",
       "</h3>\n",
       "<div class=\"vector-menu-content\">\n",
       "<ul class=\"vector-menu-content-list\"><li class=\"selected\" id=\"ca-view\"><a href=\"/wiki/Main_Page\">Read</a></li><li id=\"ca-viewsource\"><a accesskey=\"e\" href=\"/w/index.php?title=Main_Page&amp;action=edit\" title=\"This page is protected.\n",
       "You can view its source [e]\">View source</a></li><li id=\"ca-history\"><a accesskey=\"h\" href=\"/w/index.php?title=Main_Page&amp;action=history\" title=\"Past revisions of this page [h]\">View history</a></li></ul>\n",
       "</div>\n",
       "</nav>\n",
       "<!-- Please do not use role attribute as CSS selector, it is deprecated. -->\n",
       "<nav aria-labelledby=\"p-cactions-label\" class=\"mw-portlet mw-portlet-cactions emptyPortlet vector-menu vector-menu-dropdown\" id=\"p-cactions\" role=\"navigation\">\n",
       "<input aria-labelledby=\"p-cactions-label\" class=\"vector-menu-checkbox\" type=\"checkbox\"/>\n",
       "<h3 class=\"vector-menu-heading\" id=\"p-cactions-label\">\n",
       "<span>More</span>\n",
       "</h3>\n",
       "<div class=\"vector-menu-content\">\n",
       "<ul class=\"vector-menu-content-list\"></ul>\n",
       "</div>\n",
       "</nav>\n",
       "<div id=\"p-search\" role=\"search\">\n",
       "<h3>\n",
       "<label for=\"searchInput\">Search</label>\n",
       "</h3>\n",
       "<form action=\"/w/index.php\" id=\"searchform\">\n",
       "<div data-search-loc=\"header-navigation\" id=\"simpleSearch\">\n",
       "<input accesskey=\"f\" autocapitalize=\"sentences\" id=\"searchInput\" name=\"search\" placeholder=\"Search Wikipedia\" title=\"Search Wikipedia [f]\" type=\"search\"/>\n",
       "<input name=\"title\" type=\"hidden\" value=\"Special:Search\"/>\n",
       "<input class=\"searchButton mw-fallbackSearchButton\" id=\"mw-searchButton\" name=\"fulltext\" title=\"Search Wikipedia for this text\" type=\"submit\" value=\"Search\"/>\n",
       "<input class=\"searchButton\" id=\"searchButton\" name=\"go\" title=\"Go to a page with this exact name if it exists\" type=\"submit\" value=\"Go\"/>\n",
       "</div>\n",
       "</form>\n",
       "</div>\n",
       "</div>\n",
       "</div>\n",
       "<div id=\"mw-panel\">\n",
       "<div id=\"p-logo\" role=\"banner\">\n",
       "<a class=\"mw-wiki-logo\" href=\"/wiki/Main_Page\" title=\"Visit the main page\"></a>\n",
       "</div>\n",
       "<!-- Please do not use role attribute as CSS selector, it is deprecated. -->\n",
       "<nav aria-labelledby=\"p-navigation-label\" class=\"mw-portlet mw-portlet-navigation vector-menu vector-menu-portal portal\" id=\"p-navigation\" role=\"navigation\">\n",
       "<h3 class=\"vector-menu-heading\" id=\"p-navigation-label\">\n",
       "<span>Navigation</span>\n",
       "</h3>\n",
       "<div class=\"vector-menu-content\">\n",
       "<ul class=\"vector-menu-content-list\"><li id=\"n-mainpage-description\"><a accesskey=\"z\" href=\"/wiki/Main_Page\" title=\"Visit the main page [z]\">Main page</a></li><li id=\"n-contents\"><a href=\"/wiki/Wikipedia:Contents\" title=\"Guides to browsing Wikipedia\">Contents</a></li><li id=\"n-currentevents\"><a href=\"/wiki/Portal:Current_events\" title=\"Articles related to current events\">Current events</a></li><li id=\"n-randompage\"><a accesskey=\"x\" href=\"/wiki/Special:Random\" title=\"Visit a randomly selected article [x]\">Random article</a></li><li id=\"n-aboutsite\"><a href=\"/wiki/Wikipedia:About\" title=\"Learn about Wikipedia and how it works\">About Wikipedia</a></li><li id=\"n-contactpage\"><a href=\"//en.wikipedia.org/wiki/Wikipedia:Contact_us\" title=\"How to contact Wikipedia\">Contact us</a></li><li id=\"n-sitesupport\"><a href=\"https://donate.wikimedia.org/wiki/Special:FundraiserRedirector?utm_source=donate&amp;utm_medium=sidebar&amp;utm_campaign=C13_en.wikipedia.org&amp;uselang=en\" title=\"Support us by donating to the Wikimedia Foundation\">Donate</a></li></ul>\n",
       "</div>\n",
       "</nav>\n",
       "<!-- Please do not use role attribute as CSS selector, it is deprecated. -->\n",
       "<nav aria-labelledby=\"p-interaction-label\" class=\"mw-portlet mw-portlet-interaction vector-menu vector-menu-portal portal\" id=\"p-interaction\" role=\"navigation\">\n",
       "<h3 class=\"vector-menu-heading\" id=\"p-interaction-label\">\n",
       "<span>Contribute</span>\n",
       "</h3>\n",
       "<div class=\"vector-menu-content\">\n",
       "<ul class=\"vector-menu-content-list\"><li id=\"n-help\"><a href=\"/wiki/Help:Contents\" title=\"Guidance on how to use and edit Wikipedia\">Help</a></li><li id=\"n-introduction\"><a href=\"/wiki/Help:Introduction\" title=\"Learn how to edit Wikipedia\">Learn to edit</a></li><li id=\"n-portal\"><a href=\"/wiki/Wikipedia:Community_portal\" title=\"The hub for editors\">Community portal</a></li><li id=\"n-recentchanges\"><a accesskey=\"r\" href=\"/wiki/Special:RecentChanges\" title=\"A list of recent changes to Wikipedia [r]\">Recent changes</a></li><li id=\"n-upload\"><a href=\"/wiki/Wikipedia:File_Upload_Wizard\" title=\"Add images or other media for use on Wikipedia\">Upload file</a></li></ul>\n",
       "</div>\n",
       "</nav>\n",
       "<!-- Please do not use role attribute as CSS selector, it is deprecated. -->\n",
       "<nav aria-labelledby=\"p-tb-label\" class=\"mw-portlet mw-portlet-tb vector-menu vector-menu-portal portal\" id=\"p-tb\" role=\"navigation\">\n",
       "<h3 class=\"vector-menu-heading\" id=\"p-tb-label\">\n",
       "<span>Tools</span>\n",
       "</h3>\n",
       "<div class=\"vector-menu-content\">\n",
       "<ul class=\"vector-menu-content-list\"><li id=\"t-whatlinkshere\"><a accesskey=\"j\" href=\"/wiki/Special:WhatLinksHere/Main_Page\" title=\"List of all English Wikipedia pages containing links to this page [j]\">What links here</a></li><li id=\"t-recentchangeslinked\"><a accesskey=\"k\" href=\"/wiki/Special:RecentChangesLinked/Main_Page\" rel=\"nofollow\" title=\"Recent changes in pages linked from this page [k]\">Related changes</a></li><li id=\"t-upload\"><a accesskey=\"u\" href=\"/wiki/Wikipedia:File_Upload_Wizard\" title=\"Upload files [u]\">Upload file</a></li><li id=\"t-specialpages\"><a accesskey=\"q\" href=\"/wiki/Special:SpecialPages\" title=\"A list of all special pages [q]\">Special pages</a></li><li id=\"t-permalink\"><a href=\"/w/index.php?title=Main_Page&amp;oldid=1004593520\" title=\"Permanent link to this revision of this page\">Permanent link</a></li><li id=\"t-info\"><a href=\"/w/index.php?title=Main_Page&amp;action=info\" title=\"More information about this page\">Page information</a></li><li id=\"t-cite\"><a href=\"/w/index.php?title=Special:CiteThisPage&amp;page=Main_Page&amp;id=1004593520&amp;wpFormIdentifier=titleform\" title=\"Information on how to cite this page\">Cite this page</a></li><li id=\"t-wikibase\"><a accesskey=\"g\" href=\"https://www.wikidata.org/wiki/Special:EntityPage/Q5296\" title=\"Structured data on this page hosted by Wikidata [g]\">Wikidata item</a></li></ul>\n",
       "</div>\n",
       "</nav>\n",
       "<!-- Please do not use role attribute as CSS selector, it is deprecated. -->\n",
       "<nav aria-labelledby=\"p-coll-print_export-label\" class=\"mw-portlet mw-portlet-coll-print_export vector-menu vector-menu-portal portal\" id=\"p-coll-print_export\" role=\"navigation\">\n",
       "<h3 class=\"vector-menu-heading\" id=\"p-coll-print_export-label\">\n",
       "<span>Print/export</span>\n",
       "</h3>\n",
       "<div class=\"vector-menu-content\">\n",
       "<ul class=\"vector-menu-content-list\"><li id=\"coll-download-as-rl\"><a href=\"/w/index.php?title=Special:DownloadAsPdf&amp;page=Main_Page&amp;action=show-download-screen\" title=\"Download this page as a PDF file\">Download as PDF</a></li><li id=\"t-print\"><a accesskey=\"p\" href=\"/w/index.php?title=Main_Page&amp;printable=yes\" title=\"Printable version of this page [p]\">Printable version</a></li></ul>\n",
       "</div>\n",
       "</nav>\n",
       "<!-- Please do not use role attribute as CSS selector, it is deprecated. -->\n",
       "<nav aria-labelledby=\"p-wikibase-otherprojects-label\" class=\"mw-portlet mw-portlet-wikibase-otherprojects vector-menu vector-menu-portal portal\" id=\"p-wikibase-otherprojects\" role=\"navigation\">\n",
       "<h3 class=\"vector-menu-heading\" id=\"p-wikibase-otherprojects-label\">\n",
       "<span>In other projects</span>\n",
       "</h3>\n",
       "<div class=\"vector-menu-content\">\n",
       "<ul class=\"vector-menu-content-list\"><li class=\"wb-otherproject-link wb-otherproject-commons\"><a href=\"https://commons.wikimedia.org/wiki/Main_Page\" hreflang=\"en\">Wikimedia Commons</a></li><li class=\"wb-otherproject-link wb-otherproject-mediawiki\"><a href=\"https://www.mediawiki.org/wiki/MediaWiki\" hreflang=\"en\">MediaWiki</a></li><li class=\"wb-otherproject-link wb-otherproject-meta\"><a href=\"https://meta.wikimedia.org/wiki/Main_Page\" hreflang=\"en\">Meta-Wiki</a></li><li class=\"wb-otherproject-link wb-otherproject-sources\"><a href=\"https://wikisource.org/wiki/Main_Page\" hreflang=\"en\">Multilingual Wikisource</a></li><li class=\"wb-otherproject-link wb-otherproject-species\"><a href=\"https://species.wikimedia.org/wiki/Main_Page\" hreflang=\"en\">Wikispecies</a></li><li class=\"wb-otherproject-link wb-otherproject-wikibooks\"><a href=\"https://en.wikibooks.org/wiki/Main_Page\" hreflang=\"en\">Wikibooks</a></li><li class=\"wb-otherproject-link wb-otherproject-wikidata\"><a href=\"https://www.wikidata.org/wiki/Wikidata:Main_Page\" hreflang=\"en\">Wikidata</a></li><li class=\"wb-otherproject-link wb-otherproject-wikimania\"><a href=\"https://wikimania.wikimedia.org/wiki/Wikimania\" hreflang=\"en\">Wikimania</a></li><li class=\"wb-otherproject-link wb-otherproject-wikinews\"><a href=\"https://en.wikinews.org/wiki/Main_Page\" hreflang=\"en\">Wikinews</a></li><li class=\"wb-otherproject-link wb-otherproject-wikiquote\"><a href=\"https://en.wikiquote.org/wiki/Main_Page\" hreflang=\"en\">Wikiquote</a></li><li class=\"wb-otherproject-link wb-otherproject-wikisource\"><a href=\"https://en.wikisource.org/wiki/Main_Page\" hreflang=\"en\">Wikisource</a></li><li class=\"wb-otherproject-link wb-otherproject-wikiversity\"><a href=\"https://en.wikiversity.org/wiki/Wikiversity:Main_Page\" hreflang=\"en\">Wikiversity</a></li><li class=\"wb-otherproject-link wb-otherproject-wikivoyage\"><a href=\"https://en.wikivoyage.org/wiki/Main_Page\" hreflang=\"en\">Wikivoyage</a></li><li class=\"wb-otherproject-link wb-otherproject-wiktionary\"><a href=\"https://en.wiktionary.org/wiki/Wiktionary:Main_Page\" hreflang=\"en\">Wiktionary</a></li></ul>\n",
       "</div>\n",
       "</nav>\n",
       "<!-- Please do not use role attribute as CSS selector, it is deprecated. -->\n",
       "<nav aria-labelledby=\"p-lang-label\" class=\"mw-portlet mw-portlet-lang vector-menu vector-menu-portal portal\" id=\"p-lang\" role=\"navigation\">\n",
       "<h3 class=\"vector-menu-heading\" id=\"p-lang-label\">\n",
       "<span>Languages</span>\n",
       "</h3>\n",
       "<div class=\"vector-menu-content\">\n",
       "<ul class=\"vector-menu-content-list\"><li class=\"interlanguage-link interwiki-ar\"><a class=\"interlanguage-link-target\" href=\"https://ar.wikipedia.org/wiki/\" hreflang=\"ar\" lang=\"ar\" title=\"Arabic\">العربية</a></li><li class=\"interlanguage-link interwiki-bn\"><a class=\"interlanguage-link-target\" href=\"https://bn.wikipedia.org/wiki/\" hreflang=\"bn\" lang=\"bn\" title=\"Bangla\">বাংলা</a></li><li class=\"interlanguage-link interwiki-bg\"><a class=\"interlanguage-link-target\" href=\"https://bg.wikipedia.org/wiki/\" hreflang=\"bg\" lang=\"bg\" title=\"Bulgarian\">Български</a></li><li class=\"interlanguage-link interwiki-bs\"><a class=\"interlanguage-link-target\" href=\"https://bs.wikipedia.org/wiki/\" hreflang=\"bs\" lang=\"bs\" title=\"Bosnian\">Bosanski</a></li><li class=\"interlanguage-link interwiki-ca\"><a class=\"interlanguage-link-target\" href=\"https://ca.wikipedia.org/wiki/\" hreflang=\"ca\" lang=\"ca\" title=\"Catalan\">Català</a></li><li class=\"interlanguage-link interwiki-cs\"><a class=\"interlanguage-link-target\" href=\"https://cs.wikipedia.org/wiki/\" hreflang=\"cs\" lang=\"cs\" title=\"Czech\">Čeština</a></li><li class=\"interlanguage-link interwiki-da\"><a class=\"interlanguage-link-target\" href=\"https://da.wikipedia.org/wiki/\" hreflang=\"da\" lang=\"da\" title=\"Danish\">Dansk</a></li><li class=\"interlanguage-link interwiki-de\"><a class=\"interlanguage-link-target\" href=\"https://de.wikipedia.org/wiki/\" hreflang=\"de\" lang=\"de\" title=\"German\">Deutsch</a></li><li class=\"interlanguage-link interwiki-et\"><a class=\"interlanguage-link-target\" href=\"https://et.wikipedia.org/wiki/\" hreflang=\"et\" lang=\"et\" title=\"Estonian\">Eesti</a></li><li class=\"interlanguage-link interwiki-el\"><a class=\"interlanguage-link-target\" href=\"https://el.wikipedia.org/wiki/\" hreflang=\"el\" lang=\"el\" title=\"Greek\">Ελληνικά</a></li><li class=\"interlanguage-link interwiki-es\"><a class=\"interlanguage-link-target\" href=\"https://es.wikipedia.org/wiki/\" hreflang=\"es\" lang=\"es\" title=\"Spanish\">Español</a></li><li class=\"interlanguage-link interwiki-eo\"><a class=\"interlanguage-link-target\" href=\"https://eo.wikipedia.org/wiki/\" hreflang=\"eo\" lang=\"eo\" title=\"Esperanto\">Esperanto</a></li><li class=\"interlanguage-link interwiki-eu\"><a class=\"interlanguage-link-target\" href=\"https://eu.wikipedia.org/wiki/\" hreflang=\"eu\" lang=\"eu\" title=\"Basque\">Euskara</a></li><li class=\"interlanguage-link interwiki-fa\"><a class=\"interlanguage-link-target\" href=\"https://fa.wikipedia.org/wiki/\" hreflang=\"fa\" lang=\"fa\" title=\"Persian\">فارسی</a></li><li class=\"interlanguage-link interwiki-fr\"><a class=\"interlanguage-link-target\" href=\"https://fr.wikipedia.org/wiki/\" hreflang=\"fr\" lang=\"fr\" title=\"French\">Français</a></li><li class=\"interlanguage-link interwiki-gl\"><a class=\"interlanguage-link-target\" href=\"https://gl.wikipedia.org/wiki/\" hreflang=\"gl\" lang=\"gl\" title=\"Galician\">Galego</a></li><li class=\"interlanguage-link interwiki-ko\"><a class=\"interlanguage-link-target\" href=\"https://ko.wikipedia.org/wiki/\" hreflang=\"ko\" lang=\"ko\" title=\"Korean\">한국어</a></li><li class=\"interlanguage-link interwiki-hr\"><a class=\"interlanguage-link-target\" href=\"https://hr.wikipedia.org/wiki/\" hreflang=\"hr\" lang=\"hr\" title=\"Croatian\">Hrvatski</a></li><li class=\"interlanguage-link interwiki-id\"><a class=\"interlanguage-link-target\" href=\"https://id.wikipedia.org/wiki/\" hreflang=\"id\" lang=\"id\" title=\"Indonesian\">Bahasa Indonesia</a></li><li class=\"interlanguage-link interwiki-it\"><a class=\"interlanguage-link-target\" href=\"https://it.wikipedia.org/wiki/\" hreflang=\"it\" lang=\"it\" title=\"Italian\">Italiano</a></li><li class=\"interlanguage-link interwiki-he\"><a class=\"interlanguage-link-target\" href=\"https://he.wikipedia.org/wiki/\" hreflang=\"he\" lang=\"he\" title=\"Hebrew\">עברית</a></li><li class=\"interlanguage-link interwiki-ka\"><a class=\"interlanguage-link-target\" href=\"https://ka.wikipedia.org/wiki/\" hreflang=\"ka\" lang=\"ka\" title=\"Georgian\">ქართული</a></li><li class=\"interlanguage-link interwiki-lv\"><a class=\"interlanguage-link-target\" href=\"https://lv.wikipedia.org/wiki/\" hreflang=\"lv\" lang=\"lv\" title=\"Latvian\">Latviešu</a></li><li class=\"interlanguage-link interwiki-lt\"><a class=\"interlanguage-link-target\" href=\"https://lt.wikipedia.org/wiki/\" hreflang=\"lt\" lang=\"lt\" title=\"Lithuanian\">Lietuvių</a></li><li class=\"interlanguage-link interwiki-hu\"><a class=\"interlanguage-link-target\" href=\"https://hu.wikipedia.org/wiki/\" hreflang=\"hu\" lang=\"hu\" title=\"Hungarian\">Magyar</a></li><li class=\"interlanguage-link interwiki-mk\"><a class=\"interlanguage-link-target\" href=\"https://mk.wikipedia.org/wiki/\" hreflang=\"mk\" lang=\"mk\" title=\"Macedonian\">Македонски</a></li><li class=\"interlanguage-link interwiki-ms\"><a class=\"interlanguage-link-target\" href=\"https://ms.wikipedia.org/wiki/\" hreflang=\"ms\" lang=\"ms\" title=\"Malay\">Bahasa Melayu</a></li><li class=\"interlanguage-link interwiki-nl\"><a class=\"interlanguage-link-target\" href=\"https://nl.wikipedia.org/wiki/\" hreflang=\"nl\" lang=\"nl\" title=\"Dutch\">Nederlands</a></li><li class=\"interlanguage-link interwiki-ja\"><a class=\"interlanguage-link-target\" href=\"https://ja.wikipedia.org/wiki/\" hreflang=\"ja\" lang=\"ja\" title=\"Japanese\">日本語</a></li><li class=\"interlanguage-link interwiki-no\"><a class=\"interlanguage-link-target\" href=\"https://no.wikipedia.org/wiki/\" hreflang=\"nb\" lang=\"nb\" title=\"Norwegian Bokmål\">Norsk bokmål</a></li><li class=\"interlanguage-link interwiki-nn\"><a class=\"interlanguage-link-target\" href=\"https://nn.wikipedia.org/wiki/\" hreflang=\"nn\" lang=\"nn\" title=\"Norwegian Nynorsk\">Norsk nynorsk</a></li><li class=\"interlanguage-link interwiki-pl\"><a class=\"interlanguage-link-target\" href=\"https://pl.wikipedia.org/wiki/\" hreflang=\"pl\" lang=\"pl\" title=\"Polish\">Polski</a></li><li class=\"interlanguage-link interwiki-pt\"><a class=\"interlanguage-link-target\" href=\"https://pt.wikipedia.org/wiki/\" hreflang=\"pt\" lang=\"pt\" title=\"Portuguese\">Português</a></li><li class=\"interlanguage-link interwiki-ro\"><a class=\"interlanguage-link-target\" href=\"https://ro.wikipedia.org/wiki/\" hreflang=\"ro\" lang=\"ro\" title=\"Romanian\">Română</a></li><li class=\"interlanguage-link interwiki-ru\"><a class=\"interlanguage-link-target\" href=\"https://ru.wikipedia.org/wiki/\" hreflang=\"ru\" lang=\"ru\" title=\"Russian\">Русский</a></li><li class=\"interlanguage-link interwiki-simple\"><a class=\"interlanguage-link-target\" href=\"https://simple.wikipedia.org/wiki/\" hreflang=\"en-simple\" lang=\"en-simple\" title=\"Simple English\">Simple English</a></li><li class=\"interlanguage-link interwiki-sk\"><a class=\"interlanguage-link-target\" href=\"https://sk.wikipedia.org/wiki/\" hreflang=\"sk\" lang=\"sk\" title=\"Slovak\">Slovenčina</a></li><li class=\"interlanguage-link interwiki-sl\"><a class=\"interlanguage-link-target\" href=\"https://sl.wikipedia.org/wiki/\" hreflang=\"sl\" lang=\"sl\" title=\"Slovenian\">Slovenščina</a></li><li class=\"interlanguage-link interwiki-sr\"><a class=\"interlanguage-link-target\" href=\"https://sr.wikipedia.org/wiki/\" hreflang=\"sr\" lang=\"sr\" title=\"Serbian\">Српски / srpski</a></li><li class=\"interlanguage-link interwiki-sh\"><a class=\"interlanguage-link-target\" href=\"https://sh.wikipedia.org/wiki/\" hreflang=\"sh\" lang=\"sh\" title=\"Serbo-Croatian\">Srpskohrvatski / српскохрватски</a></li><li class=\"interlanguage-link interwiki-fi\"><a class=\"interlanguage-link-target\" href=\"https://fi.wikipedia.org/wiki/\" hreflang=\"fi\" lang=\"fi\" title=\"Finnish\">Suomi</a></li><li class=\"interlanguage-link interwiki-sv\"><a class=\"interlanguage-link-target\" href=\"https://sv.wikipedia.org/wiki/\" hreflang=\"sv\" lang=\"sv\" title=\"Swedish\">Svenska</a></li><li class=\"interlanguage-link interwiki-th\"><a class=\"interlanguage-link-target\" href=\"https://th.wikipedia.org/wiki/\" hreflang=\"th\" lang=\"th\" title=\"Thai\">ไทย</a></li><li class=\"interlanguage-link interwiki-tr\"><a class=\"interlanguage-link-target\" href=\"https://tr.wikipedia.org/wiki/\" hreflang=\"tr\" lang=\"tr\" title=\"Turkish\">Türkçe</a></li><li class=\"interlanguage-link interwiki-uk\"><a class=\"interlanguage-link-target\" href=\"https://uk.wikipedia.org/wiki/\" hreflang=\"uk\" lang=\"uk\" title=\"Ukrainian\">Українська</a></li><li class=\"interlanguage-link interwiki-vi\"><a class=\"interlanguage-link-target\" href=\"https://vi.wikipedia.org/wiki/\" hreflang=\"vi\" lang=\"vi\" title=\"Vietnamese\">Tiếng Việt</a></li><li class=\"interlanguage-link interwiki-zh\"><a class=\"interlanguage-link-target\" href=\"https://zh.wikipedia.org/wiki/\" hreflang=\"zh\" lang=\"zh\" title=\"Chinese\">中文</a></li></ul>\n",
       "</div>\n",
       "</nav>\n",
       "</div>\n",
       "</div>\n",
       "<footer class=\"mw-footer\" id=\"footer\" role=\"contentinfo\">\n",
       "<ul id=\"footer-info\">\n",
       "<li id=\"footer-info-lastmod\"> This page was last edited on 3 February 2021, at 11:11<span class=\"anonymous-show\"> (UTC)</span>.</li>\n",
       "<li id=\"footer-info-copyright\">Text is available under the <a href=\"//en.wikipedia.org/wiki/Wikipedia:Text_of_Creative_Commons_Attribution-ShareAlike_3.0_Unported_License\" rel=\"license\">Creative Commons Attribution-ShareAlike License</a><a href=\"//creativecommons.org/licenses/by-sa/3.0/\" rel=\"license\" style=\"display:none;\"></a>;\n",
       "additional terms may apply.  By using this site, you agree to the <a href=\"//foundation.wikimedia.org/wiki/Terms_of_Use\">Terms of Use</a> and <a href=\"//foundation.wikimedia.org/wiki/Privacy_policy\">Privacy Policy</a>. Wikipedia® is a registered trademark of the <a href=\"//www.wikimediafoundation.org/\">Wikimedia Foundation, Inc.</a>, a non-profit organization.</li>\n",
       "</ul>\n",
       "<ul id=\"footer-places\">\n",
       "<li id=\"footer-places-privacy\"><a class=\"extiw\" href=\"https://foundation.wikimedia.org/wiki/Privacy_policy\" title=\"wmf:Privacy policy\">Privacy policy</a></li>\n",
       "<li id=\"footer-places-about\"><a href=\"/wiki/Wikipedia:About\" title=\"Wikipedia:About\">About Wikipedia</a></li>\n",
       "<li id=\"footer-places-disclaimer\"><a href=\"/wiki/Wikipedia:General_disclaimer\" title=\"Wikipedia:General disclaimer\">Disclaimers</a></li>\n",
       "<li id=\"footer-places-contact\"><a href=\"//en.wikipedia.org/wiki/Wikipedia:Contact_us\">Contact Wikipedia</a></li>\n",
       "<li id=\"footer-places-mobileview\"><a class=\"noprint stopMobileRedirectToggle\" href=\"//en.m.wikipedia.org/w/index.php?title=Main_Page&amp;mobileaction=toggle_view_mobile\">Mobile view</a></li>\n",
       "<li id=\"footer-places-developers\"><a href=\"https://www.mediawiki.org/wiki/Special:MyLanguage/How_to_contribute\">Developers</a></li>\n",
       "<li id=\"footer-places-statslink\"><a href=\"https://stats.wikimedia.org/#/en.wikipedia.org\">Statistics</a></li>\n",
       "<li id=\"footer-places-cookiestatement\"><a href=\"https://foundation.wikimedia.org/wiki/Cookie_statement\">Cookie statement</a></li>\n",
       "</ul>\n",
       "<ul class=\"noprint\" id=\"footer-icons\">\n",
       "<li id=\"footer-copyrightico\"><a href=\"https://wikimediafoundation.org/\"><img alt=\"Wikimedia Foundation\" height=\"31\" loading=\"lazy\" src=\"/static/images/footer/wikimedia-button.png\" srcset=\"/static/images/footer/wikimedia-button-1.5x.png 1.5x, /static/images/footer/wikimedia-button-2x.png 2x\" width=\"88\"/></a></li>\n",
       "<li id=\"footer-poweredbyico\"><a href=\"https://www.mediawiki.org/\"><img alt=\"Powered by MediaWiki\" height=\"31\" loading=\"lazy\" src=\"/static/images/footer/poweredby_mediawiki_88x31.png\" srcset=\"/static/images/footer/poweredby_mediawiki_132x47.png 1.5x, /static/images/footer/poweredby_mediawiki_176x62.png 2x\" width=\"88\"/></a></li>\n",
       "</ul>\n",
       "<div style=\"clear: both;\"></div>\n",
       "</footer>\n",
       "<script>(RLQ=window.RLQ||[]).push(function(){mw.config.set({\"wgPageParseReport\":{\"limitreport\":{\"cputime\":\"0.484\",\"walltime\":\"0.653\",\"ppvisitednodes\":{\"value\":4265,\"limit\":1000000},\"postexpandincludesize\":{\"value\":122419,\"limit\":2097152},\"templateargumentsize\":{\"value\":7848,\"limit\":2097152},\"expansiondepth\":{\"value\":21,\"limit\":40},\"expensivefunctioncount\":{\"value\":17,\"limit\":500},\"unstrip-depth\":{\"value\":0,\"limit\":20},\"unstrip-size\":{\"value\":5370,\"limit\":5000000},\"entityaccesscount\":{\"value\":0,\"limit\":400},\"timingprofile\":[\"100.00%  444.491      1 -total\",\" 33.42%  148.570      9 Template:Main_page_image\",\" 27.20%  120.881      1 Wikipedia:Main_Page/Tomorrow\",\" 23.95%  106.466      1 Wikipedia:Today's_featured_article/March_22,_2021\",\" 20.11%   89.383      9 Template:Str_number/trim\",\" 18.20%   80.891     27 Template:If_empty\",\" 15.06%   66.942      2 Template:Main_page_image/TFA\",\" 11.16%   49.595      2 Template:Wikipedia_languages\",\" 10.88%   48.377      1 Wikipedia:Selected_anniversaries/March_22\",\"  9.48%   42.136      1 Template:Did_you_know/Queue/5\"]},\"scribunto\":{\"limitreport-timeusage\":{\"value\":\"0.088\",\"limit\":\"10.000\"},\"limitreport-memusage\":{\"value\":2668939,\"limit\":52428800}},\"cachereport\":{\"origin\":\"mw1310\",\"timestamp\":\"20210322023334\",\"ttl\":3600,\"transientcontent\":true}}});});</script>\n",
       "<script type=\"application/ld+json\">{\"@context\":\"https:\\/\\/schema.org\",\"@type\":\"Article\",\"name\":\"Main Page\",\"url\":\"https:\\/\\/en.wikipedia.org\\/wiki\\/Main_Page\",\"sameAs\":\"http:\\/\\/www.wikidata.org\\/entity\\/Q5296\",\"mainEntity\":\"http:\\/\\/www.wikidata.org\\/entity\\/Q5296\",\"author\":{\"@type\":\"Organization\",\"name\":\"Contributors to Wikimedia projects\"},\"publisher\":{\"@type\":\"Organization\",\"name\":\"Wikimedia Foundation, Inc.\",\"logo\":{\"@type\":\"ImageObject\",\"url\":\"https:\\/\\/www.wikimedia.org\\/static\\/images\\/wmf-hor-googpub.png\"}},\"datePublished\":\"2002-01-26T15:28:12Z\",\"dateModified\":\"2021-02-03T11:11:30Z\",\"image\":\"https:\\/\\/upload.wikimedia.org\\/wikipedia\\/commons\\/1\\/17\\/HMS_Princess_Royal_LOC_18244u.jpg\",\"headline\":\"main page of a Wikimedia project (common for Wikipedia, Wiktionary and other projects)\"}</script>\n",
       "<script>(RLQ=window.RLQ||[]).push(function(){mw.config.set({\"wgBackendResponseTime\":206,\"wgHostname\":\"mw1267\"});});</script>\n",
       "</body></html>"
      ]
     },
     "execution_count": 5,
     "metadata": {},
     "output_type": "execute_result"
    }
   ],
   "source": [
    "Y = BeautifulSoup(X.content,'html.parser')\n",
    "Y"
   ]
  },
  {
   "cell_type": "code",
   "execution_count": 6,
   "metadata": {},
   "outputs": [
    {
     "data": {
      "text/plain": [
       "[<h1 class=\"firstHeading\" id=\"firstHeading\">Main Page</h1>,\n",
       " <h2 class=\"mp-h2\" id=\"mp-tfa-h2\"><span id=\"From_today.27s_featured_article\"></span><span class=\"mw-headline\" id=\"From_today's_featured_article\">From today's featured article</span></h2>,\n",
       " <h2 class=\"mp-h2\" id=\"mp-dyk-h2\"><span class=\"mw-headline\" id=\"Did_you_know_...\">Did you know ...</span></h2>,\n",
       " <h2 class=\"mp-h2\" id=\"mp-itn-h2\"><span class=\"mw-headline\" id=\"In_the_news\">In the news</span></h2>,\n",
       " <h2 class=\"mp-h2\" id=\"mp-otd-h2\"><span class=\"mw-headline\" id=\"On_this_day\">On this day</span></h2>,\n",
       " <h2 class=\"mp-h2\" id=\"mp-tfl-h2\"><span id=\"From_today.27s_featured_list\"></span><span class=\"mw-headline\" id=\"From_today's_featured_list\">From today's featured list</span></h2>,\n",
       " <h2 class=\"mp-h2\" id=\"mp-tfp-h2\"><span id=\"Today.27s_featured_picture\"></span><span class=\"mw-headline\" id=\"Today's_featured_picture\">Today's featured picture</span></h2>,\n",
       " <h2 class=\"mp-h2\" id=\"mp-other\"><span class=\"mw-headline\" id=\"Other_areas_of_Wikipedia\">Other areas of Wikipedia</span></h2>,\n",
       " <h2 class=\"mp-h2\" id=\"mp-sister\"><span id=\"Wikipedia.27s_sister_projects\"></span><span class=\"mw-headline\" id=\"Wikipedia's_sister_projects\">Wikipedia's sister projects</span></h2>,\n",
       " <h2 class=\"mp-h2\" id=\"mp-lang\"><span class=\"mw-headline\" id=\"Wikipedia_languages\">Wikipedia languages</span></h2>,\n",
       " <h2>Navigation menu</h2>,\n",
       " <h3 class=\"vector-menu-heading\" id=\"p-personal-label\">\n",
       " <span>Personal tools</span>\n",
       " </h3>,\n",
       " <h3 class=\"vector-menu-heading\" id=\"p-namespaces-label\">\n",
       " <span>Namespaces</span>\n",
       " </h3>,\n",
       " <h3 class=\"vector-menu-heading\" id=\"p-variants-label\">\n",
       " <span>Variants</span>\n",
       " </h3>,\n",
       " <h3 class=\"vector-menu-heading\" id=\"p-views-label\">\n",
       " <span>Views</span>\n",
       " </h3>,\n",
       " <h3 class=\"vector-menu-heading\" id=\"p-cactions-label\">\n",
       " <span>More</span>\n",
       " </h3>,\n",
       " <h3>\n",
       " <label for=\"searchInput\">Search</label>\n",
       " </h3>,\n",
       " <h3 class=\"vector-menu-heading\" id=\"p-navigation-label\">\n",
       " <span>Navigation</span>\n",
       " </h3>,\n",
       " <h3 class=\"vector-menu-heading\" id=\"p-interaction-label\">\n",
       " <span>Contribute</span>\n",
       " </h3>,\n",
       " <h3 class=\"vector-menu-heading\" id=\"p-tb-label\">\n",
       " <span>Tools</span>\n",
       " </h3>,\n",
       " <h3 class=\"vector-menu-heading\" id=\"p-coll-print_export-label\">\n",
       " <span>Print/export</span>\n",
       " </h3>,\n",
       " <h3 class=\"vector-menu-heading\" id=\"p-wikibase-otherprojects-label\">\n",
       " <span>In other projects</span>\n",
       " </h3>,\n",
       " <h3 class=\"vector-menu-heading\" id=\"p-lang-label\">\n",
       " <span>Languages</span>\n",
       " </h3>]"
      ]
     },
     "execution_count": 6,
     "metadata": {},
     "output_type": "execute_result"
    }
   ],
   "source": [
    "Header = Y.find_all(['h1', 'h2','h3','h4','h5','h6'])\n",
    "Header"
   ]
  },
  {
   "cell_type": "code",
   "execution_count": 8,
   "metadata": {},
   "outputs": [
    {
     "data": {
      "text/plain": [
       "['Main Page',\n",
       " \"From today's featured article\",\n",
       " 'Did you know\\xa0...',\n",
       " 'In the news',\n",
       " 'On this day',\n",
       " \"From today's featured list\",\n",
       " \"Today's featured picture\",\n",
       " 'Other areas of Wikipedia',\n",
       " \"Wikipedia's sister projects\",\n",
       " 'Wikipedia languages',\n",
       " 'Navigation menu',\n",
       " 'Personal tools',\n",
       " 'Namespaces',\n",
       " 'Variants',\n",
       " 'Views',\n",
       " 'More',\n",
       " 'Search',\n",
       " 'Navigation',\n",
       " 'Contribute',\n",
       " 'Tools',\n",
       " 'Print/export',\n",
       " 'In other projects',\n",
       " 'Languages']"
      ]
     },
     "execution_count": 8,
     "metadata": {},
     "output_type": "execute_result"
    }
   ],
   "source": [
    "a = []\n",
    "for i in Header:\n",
    "    a.append(i.text.replace(\"\\n\",\"\"))\n",
    "a"
   ]
  },
  {
   "cell_type": "markdown",
   "metadata": {},
   "source": [
    "# 2.Write a python program to display IMDB’s Top rated 100 movies’ data(i.e.Name, IMDB rating, Year of release)and save it in form of a CSV file."
   ]
  },
  {
   "cell_type": "code",
   "execution_count": 9,
   "metadata": {},
   "outputs": [
    {
     "data": {
      "text/plain": [
       "(<Response [200]>, <Response [200]>)"
      ]
     },
     "execution_count": 9,
     "metadata": {},
     "output_type": "execute_result"
    }
   ],
   "source": [
    "IMDb = requests.get(\"https://www.imdb.com/search/title/?groups=top_100&sort=user_rating,desc\")\n",
    "IMDb1 = requests.get(\"https://www.imdb.com/search/title/?groups=top_100&sort=user_rating,desc&start=51&ref_=adv_nxt\")\n",
    "IMDb1, IMDb"
   ]
  },
  {
   "cell_type": "code",
   "execution_count": 10,
   "metadata": {},
   "outputs": [],
   "source": [
    "X1 = BeautifulSoup(IMDb.content,'html.parser')\n",
    "X2 = BeautifulSoup(IMDb1.content,'html.parser')"
   ]
  },
  {
   "cell_type": "code",
   "execution_count": 11,
   "metadata": {},
   "outputs": [],
   "source": [
    "Y1 = X1.find_all(['h3'], class_ = \"lister-item-header\")\n",
    "Movie_name = []\n",
    "\n",
    "for i in Y1:\n",
    "    Movie_name.append(i.text.replace(\"\\n\",\"\"))\n",
    "\n",
    "Y2 = X2.find_all(['h3'], class_ = \"lister-item-header\")\n",
    "for i in Y2:\n",
    "    Movie_name.append(i.text.replace(\"\\n\",\"\"))\n",
    "    \n",
    "Movie_name = [i.split('.')[1] for i in Movie_name]\n",
    "Movie_name = [i.split('(')[0] for i in Movie_name]"
   ]
  },
  {
   "cell_type": "code",
   "execution_count": 12,
   "metadata": {},
   "outputs": [
    {
     "data": {
      "text/plain": [
       "100"
      ]
     },
     "execution_count": 12,
     "metadata": {},
     "output_type": "execute_result"
    }
   ],
   "source": [
    "Z1 = X1.find_all(['div'], class_ = \"inline-block ratings-imdb-rating\")\n",
    "Z2 = X2.find_all(['div'], class_ = \"inline-block ratings-imdb-rating\")\n",
    "ratings = []\n",
    "\n",
    "for i in Z1:\n",
    "    ratings.append(i.get_text().replace('\\n',''))\n",
    "for i in Z2:\n",
    "    ratings.append(i.get_text().replace('\\n',''))    \n",
    "    \n",
    "len(ratings)"
   ]
  },
  {
   "cell_type": "code",
   "execution_count": 13,
   "metadata": {},
   "outputs": [],
   "source": [
    "x1 = X1.find_all(['span'], class_ = \"lister-item-year text-muted unbold\")\n",
    "x2 = X2.find_all(['span'], class_ = \"lister-item-year text-muted unbold\")\n",
    "\n",
    "year = []\n",
    "\n",
    "for i in x1:\n",
    "    year.append(i.text.replace(\"\\n\",\"\"))\n",
    "for i in x2:\n",
    "    year.append(i.text.replace(\"\\n\",\"\"))\n",
    "    \n",
    "year = [i.split('(')[-1] for i in year] \n",
    "year = [i.split(')')[0] for i in year]"
   ]
  },
  {
   "cell_type": "code",
   "execution_count": 15,
   "metadata": {},
   "outputs": [],
   "source": [
    "first_100_movies= {\"Name\":Movie_name, \"IMDB_rating\": ratings, \"Year\":year }\n",
    "import pandas as pd\n",
    "IMDB_first_100_movies = pd.DataFrame(first_100_movies)"
   ]
  },
  {
   "cell_type": "code",
   "execution_count": 16,
   "metadata": {},
   "outputs": [
    {
     "data": {
      "text/html": [
       "<div>\n",
       "<style scoped>\n",
       "    .dataframe tbody tr th:only-of-type {\n",
       "        vertical-align: middle;\n",
       "    }\n",
       "\n",
       "    .dataframe tbody tr th {\n",
       "        vertical-align: top;\n",
       "    }\n",
       "\n",
       "    .dataframe thead th {\n",
       "        text-align: right;\n",
       "    }\n",
       "</style>\n",
       "<table border=\"1\" class=\"dataframe\">\n",
       "  <thead>\n",
       "    <tr style=\"text-align: right;\">\n",
       "      <th></th>\n",
       "      <th>Name</th>\n",
       "      <th>IMDB_rating</th>\n",
       "      <th>Year</th>\n",
       "    </tr>\n",
       "  </thead>\n",
       "  <tbody>\n",
       "    <tr>\n",
       "      <th>0</th>\n",
       "      <td>The Shawshank Redemption</td>\n",
       "      <td>9.3</td>\n",
       "      <td>1994</td>\n",
       "    </tr>\n",
       "    <tr>\n",
       "      <th>1</th>\n",
       "      <td>The Godfather</td>\n",
       "      <td>9.2</td>\n",
       "      <td>1972</td>\n",
       "    </tr>\n",
       "    <tr>\n",
       "      <th>2</th>\n",
       "      <td>The Dark Knight</td>\n",
       "      <td>9.0</td>\n",
       "      <td>2008</td>\n",
       "    </tr>\n",
       "    <tr>\n",
       "      <th>3</th>\n",
       "      <td>The Godfather: Part II</td>\n",
       "      <td>9.0</td>\n",
       "      <td>1974</td>\n",
       "    </tr>\n",
       "    <tr>\n",
       "      <th>4</th>\n",
       "      <td>12 Angry Men</td>\n",
       "      <td>9.0</td>\n",
       "      <td>1957</td>\n",
       "    </tr>\n",
       "    <tr>\n",
       "      <th>...</th>\n",
       "      <td>...</td>\n",
       "      <td>...</td>\n",
       "      <td>...</td>\n",
       "    </tr>\n",
       "    <tr>\n",
       "      <th>95</th>\n",
       "      <td>Singin' in the Rain</td>\n",
       "      <td>8.3</td>\n",
       "      <td>1952</td>\n",
       "    </tr>\n",
       "    <tr>\n",
       "      <th>96</th>\n",
       "      <td>Ladri di biciclette</td>\n",
       "      <td>8.3</td>\n",
       "      <td>1948</td>\n",
       "    </tr>\n",
       "    <tr>\n",
       "      <th>97</th>\n",
       "      <td>Citizen Kane</td>\n",
       "      <td>8.3</td>\n",
       "      <td>1941</td>\n",
       "    </tr>\n",
       "    <tr>\n",
       "      <th>98</th>\n",
       "      <td>M - Eine Stadt sucht einen Mörder</td>\n",
       "      <td>8.3</td>\n",
       "      <td>1931</td>\n",
       "    </tr>\n",
       "    <tr>\n",
       "      <th>99</th>\n",
       "      <td>The Kid</td>\n",
       "      <td>8.3</td>\n",
       "      <td>1921</td>\n",
       "    </tr>\n",
       "  </tbody>\n",
       "</table>\n",
       "<p>100 rows × 3 columns</p>\n",
       "</div>"
      ],
      "text/plain": [
       "                                 Name IMDB_rating  Year\n",
       "0            The Shawshank Redemption         9.3  1994\n",
       "1                       The Godfather         9.2  1972\n",
       "2                     The Dark Knight         9.0  2008\n",
       "3              The Godfather: Part II         9.0  1974\n",
       "4                        12 Angry Men         9.0  1957\n",
       "..                                ...         ...   ...\n",
       "95                Singin' in the Rain         8.3  1952\n",
       "96                Ladri di biciclette         8.3  1948\n",
       "97                       Citizen Kane         8.3  1941\n",
       "98  M - Eine Stadt sucht einen Mörder         8.3  1931\n",
       "99                            The Kid         8.3  1921\n",
       "\n",
       "[100 rows x 3 columns]"
      ]
     },
     "execution_count": 16,
     "metadata": {},
     "output_type": "execute_result"
    }
   ],
   "source": [
    "IMDB_first_100_movies"
   ]
  },
  {
   "cell_type": "markdown",
   "metadata": {},
   "source": [
    "# 3.Write a python program to display IMDB’s Top rated 100 Indianmovies’ data (i.e. Name, IMDB rating, Year of release) and save it in form of a CSV file."
   ]
  },
  {
   "cell_type": "code",
   "execution_count": 17,
   "metadata": {},
   "outputs": [
    {
     "data": {
      "text/plain": [
       "<Response [200]>"
      ]
     },
     "execution_count": 17,
     "metadata": {},
     "output_type": "execute_result"
    }
   ],
   "source": [
    "indian_movies = requests.get(\"https://www.imdb.com/list/ls056092300/\")\n",
    "indian_movies"
   ]
  },
  {
   "cell_type": "code",
   "execution_count": 19,
   "metadata": {},
   "outputs": [],
   "source": [
    "a = BeautifulSoup(indian_movies.content,'html.parser')"
   ]
  },
  {
   "cell_type": "code",
   "execution_count": 20,
   "metadata": {},
   "outputs": [],
   "source": [
    "ind_movie = a.find_all(['h3'], class_ = \"lister-item-header\")\n",
    "ind_movie_fullname = []\n",
    "\n",
    "for i in ind_movie:\n",
    "    ind_movie_fullname.append(i.text.replace(\"\\n\",\"\"))\n",
    "  \n",
    "ind_movie_fullname = [i.split('.',1)[1] for i in ind_movie_fullname]\n",
    "ind_movie_name = [i.split('(')[0] for i in ind_movie_fullname]\n",
    "Year = [i.split('(')[-1] for i in ind_movie_fullname]\n",
    "Year = [i.split(')')[0] for i in Year]"
   ]
  },
  {
   "cell_type": "code",
   "execution_count": 22,
   "metadata": {},
   "outputs": [],
   "source": [
    "b = a.find_all(['div'], class_ = \"ipl-rating-star small\")\n",
    "ratings = []\n",
    "\n",
    "for i in b:\n",
    "    ratings.append(i.get_text().replace('\\n',''))"
   ]
  },
  {
   "cell_type": "code",
   "execution_count": 24,
   "metadata": {},
   "outputs": [
    {
     "data": {
      "text/html": [
       "<div>\n",
       "<style scoped>\n",
       "    .dataframe tbody tr th:only-of-type {\n",
       "        vertical-align: middle;\n",
       "    }\n",
       "\n",
       "    .dataframe tbody tr th {\n",
       "        vertical-align: top;\n",
       "    }\n",
       "\n",
       "    .dataframe thead th {\n",
       "        text-align: right;\n",
       "    }\n",
       "</style>\n",
       "<table border=\"1\" class=\"dataframe\">\n",
       "  <thead>\n",
       "    <tr style=\"text-align: right;\">\n",
       "      <th></th>\n",
       "      <th>Name</th>\n",
       "      <th>IMDB_rating</th>\n",
       "      <th>Year</th>\n",
       "    </tr>\n",
       "  </thead>\n",
       "  <tbody>\n",
       "    <tr>\n",
       "      <th>0</th>\n",
       "      <td>Ship of Theseus</td>\n",
       "      <td>8.1</td>\n",
       "      <td>2012</td>\n",
       "    </tr>\n",
       "    <tr>\n",
       "      <th>1</th>\n",
       "      <td>Iruvar</td>\n",
       "      <td>8.5</td>\n",
       "      <td>1997</td>\n",
       "    </tr>\n",
       "    <tr>\n",
       "      <th>2</th>\n",
       "      <td>Kaagaz Ke Phool</td>\n",
       "      <td>8</td>\n",
       "      <td>1959</td>\n",
       "    </tr>\n",
       "    <tr>\n",
       "      <th>3</th>\n",
       "      <td>Lagaan: Once Upon a Time in India</td>\n",
       "      <td>8.1</td>\n",
       "      <td>2001</td>\n",
       "    </tr>\n",
       "    <tr>\n",
       "      <th>4</th>\n",
       "      <td>Pather Panchali</td>\n",
       "      <td>8.6</td>\n",
       "      <td>1955</td>\n",
       "    </tr>\n",
       "    <tr>\n",
       "      <th>...</th>\n",
       "      <td>...</td>\n",
       "      <td>...</td>\n",
       "      <td>...</td>\n",
       "    </tr>\n",
       "    <tr>\n",
       "      <th>95</th>\n",
       "      <td>Apur Sansar</td>\n",
       "      <td>8.5</td>\n",
       "      <td>1959</td>\n",
       "    </tr>\n",
       "    <tr>\n",
       "      <th>96</th>\n",
       "      <td>Kanchivaram</td>\n",
       "      <td>8.1</td>\n",
       "      <td>2008</td>\n",
       "    </tr>\n",
       "    <tr>\n",
       "      <th>97</th>\n",
       "      <td>Monsoon Wedding</td>\n",
       "      <td>7.3</td>\n",
       "      <td>2001</td>\n",
       "    </tr>\n",
       "    <tr>\n",
       "      <th>98</th>\n",
       "      <td>Black</td>\n",
       "      <td>8.2</td>\n",
       "      <td>2005</td>\n",
       "    </tr>\n",
       "    <tr>\n",
       "      <th>99</th>\n",
       "      <td>Deewaar</td>\n",
       "      <td>8.1</td>\n",
       "      <td>1975</td>\n",
       "    </tr>\n",
       "  </tbody>\n",
       "</table>\n",
       "<p>100 rows × 3 columns</p>\n",
       "</div>"
      ],
      "text/plain": [
       "                                 Name IMDB_rating  Year\n",
       "0                     Ship of Theseus         8.1  2012\n",
       "1                              Iruvar         8.5  1997\n",
       "2                     Kaagaz Ke Phool           8  1959\n",
       "3   Lagaan: Once Upon a Time in India         8.1  2001\n",
       "4                     Pather Panchali         8.6  1955\n",
       "..                                ...         ...   ...\n",
       "95                        Apur Sansar         8.5  1959\n",
       "96                        Kanchivaram         8.1  2008\n",
       "97                    Monsoon Wedding         7.3  2001\n",
       "98                              Black         8.2  2005\n",
       "99                            Deewaar         8.1  1975\n",
       "\n",
       "[100 rows x 3 columns]"
      ]
     },
     "execution_count": 24,
     "metadata": {},
     "output_type": "execute_result"
    }
   ],
   "source": [
    "Top_100_Indianmovies=pd.DataFrame({\"Name\":ind_movie_name, \"IMDB_rating\": ratings, \"Year\": Year })\n",
    "Top_100_Indianmovies"
   ]
  },
  {
   "cell_type": "code",
   "execution_count": 25,
   "metadata": {},
   "outputs": [],
   "source": [
    "Top_100_Indianmovies.to_csv(\"Top_100_Indianmovies\")"
   ]
  },
  {
   "cell_type": "markdown",
   "metadata": {},
   "source": [
    "# 4.Write a python program to scrap book name, author name, genre and book review of any 5 books from ‘www.bookpage.com’"
   ]
  },
  {
   "cell_type": "code",
   "execution_count": 26,
   "metadata": {},
   "outputs": [
    {
     "data": {
      "text/plain": [
       "<Response [200]>"
      ]
     },
     "execution_count": 26,
     "metadata": {},
     "output_type": "execute_result"
    }
   ],
   "source": [
    "bookpage = requests.get(\"https://bookpage.com/reviews\")\n",
    "bookpage"
   ]
  },
  {
   "cell_type": "code",
   "execution_count": 27,
   "metadata": {},
   "outputs": [],
   "source": [
    "bookpage1 = BeautifulSoup(bookpage.content,'html.parser')"
   ]
  },
  {
   "cell_type": "code",
   "execution_count": 31,
   "metadata": {},
   "outputs": [],
   "source": [
    "abc = bookpage1.find_all(['h4'], class_ = \"italic\")\n",
    "book_name = []\n",
    "\n",
    "for i in abc:\n",
    "    book_name.append(i.text.replace(\"\\n\",\"\"))\n",
    "book_name= [i.split('★ ')[-1]for i in Book_name ]"
   ]
  },
  {
   "cell_type": "code",
   "execution_count": 32,
   "metadata": {},
   "outputs": [
    {
     "data": {
      "text/plain": [
       "['Just as I Am',\n",
       " 'Red Island House',\n",
       " 'Flight of the Diamond Smugglers',\n",
       " \"The One Thing You'd Save\",\n",
       " 'The Daughters of Kobani',\n",
       " \"The Zoologist's Guide to the Galaxy\",\n",
       " 'Rivals',\n",
       " 'Brother, Sister, Mother, Explorer ',\n",
       " 'The Sweet Taste of Muscadines',\n",
       " 'We Begin at the End']"
      ]
     },
     "execution_count": 32,
     "metadata": {},
     "output_type": "execute_result"
    }
   ],
   "source": [
    "book_name"
   ]
  },
  {
   "cell_type": "code",
   "execution_count": 33,
   "metadata": {},
   "outputs": [
    {
     "data": {
      "text/plain": [
       "['Cicely Tyson, Robin Miles',\n",
       " 'Andrea Lee',\n",
       " 'Matthew Gavin Frank',\n",
       " 'Linda Sue Park, Robert Sae-Heng',\n",
       " 'Gayle Tzemach Lemmon',\n",
       " 'Arik Kershenbaum',\n",
       " 'Tommy Greenwald',\n",
       " 'Jamie Figueroa',\n",
       " 'Pamela Terry',\n",
       " 'Chris Whitaker']"
      ]
     },
     "execution_count": 33,
     "metadata": {},
     "output_type": "execute_result"
    }
   ],
   "source": [
    "abc1 = bookpage1.find_all(['p'], class_ = \"sans bold\")\n",
    "author_name = []\n",
    "\n",
    "for i in abc1:\n",
    "    author_name.append(i.text.replace(\"\\n\",\"\"))\n",
    "author_name"
   ]
  },
  {
   "cell_type": "code",
   "execution_count": 35,
   "metadata": {},
   "outputs": [
    {
     "data": {
      "text/plain": [
       "['Audio / Nonfiction / Biography & Memoir',\n",
       " 'Fiction / Literary Fiction',\n",
       " 'Nonfiction / Memoir / Animals',\n",
       " \"Children's / Middle Grade\",\n",
       " 'Nonfiction / History / Middle Eastern History',\n",
       " 'Nonfiction / Science & Nature',\n",
       " \"Children's / Middle Grade\",\n",
       " 'Fiction / Literary Fiction',\n",
       " 'Fiction / Family Drama',\n",
       " 'Fiction / Crime Fiction']"
      ]
     },
     "execution_count": 35,
     "metadata": {},
     "output_type": "execute_result"
    }
   ],
   "source": [
    "abc2 = bookpage1.find_all(['p'], class_ = \"genre-links hidden-phone\")\n",
    "genre = []\n",
    "\n",
    "for i in abc2:\n",
    "    genre.append(i.text.replace(\"\\n\",\"\"))\n",
    "genre"
   ]
  },
  {
   "cell_type": "code",
   "execution_count": 36,
   "metadata": {},
   "outputs": [
    {
     "data": {
      "text/plain": [
       "['Narrator Robin Miles bringing the same warmth and depth of characterization to Cicely Tyson’s memoir as she did to Isabel Wilkerson’s Caste.',\n",
       " 'The stories of Andrea Lee’s Red Island House are vibrant and enchanting despite the current of dread that runs through the novel from the start.',\n",
       " \"Matthew Gavin Frank's Flight of the Diamond Smugglers is a fascinating exploration of the history of mining in South Africa, born of personal tragedy.\",\n",
       " 'In The One Thing You’d Save, a teacher named Ms. Chang invites her students to participate in a thought exercise. If their house caught fire, what one thing would they choose to save? Each child, along with Ms. Chang, considers, chooses and then explains their selection.\\xa0',\n",
       " 'The story of how young Kurdish women brought down terrorists from the Islamic State group finally gets told in The Daughters of Kobani.',\n",
       " 'Zoologist Arik Kershenbaum draws on a range of scientific disciplines to contemplate what characteristics extraterrestrial animals might possess.',\n",
       " 'In Rivals, Tommy Greenwald’s second novel set in the fictional town of Walthorne (after 2018’s Game Changer), having fun is immaterial when it comes to a high-pressure middle school basketball season between the Walthorne North Cougars and the Walthorne South Panthers. Everyone wants...',\n",
       " 'Ghosts hover over Jamie Figueroa’s debut, a lyrical contemplation of how we can never run away from our past.',\n",
       " 'Pamela Terry’s debut novel sometimes feels like a mashup of Fried Green Tomatoes and You Can’t Go Home Again with a sprinkling of William Faulkner.',\n",
       " 'Chris Whitaker combines a brisk pace, a solid California voice and perhaps a record-setting cuss count.']"
      ]
     },
     "execution_count": 36,
     "metadata": {},
     "output_type": "execute_result"
    }
   ],
   "source": [
    "abc3 = bookpage1.find_all(['p'], class_ = \"excerpt\")\n",
    "review = []\n",
    "\n",
    "for i in abc3:\n",
    "    review.append(i.text.replace(\"\\n\",\"\"))\n",
    "review"
   ]
  },
  {
   "cell_type": "code",
   "execution_count": 38,
   "metadata": {},
   "outputs": [
    {
     "data": {
      "text/html": [
       "<div>\n",
       "<style scoped>\n",
       "    .dataframe tbody tr th:only-of-type {\n",
       "        vertical-align: middle;\n",
       "    }\n",
       "\n",
       "    .dataframe tbody tr th {\n",
       "        vertical-align: top;\n",
       "    }\n",
       "\n",
       "    .dataframe thead th {\n",
       "        text-align: right;\n",
       "    }\n",
       "</style>\n",
       "<table border=\"1\" class=\"dataframe\">\n",
       "  <thead>\n",
       "    <tr style=\"text-align: right;\">\n",
       "      <th></th>\n",
       "      <th>Book_name</th>\n",
       "      <th>author_name</th>\n",
       "      <th>Genre</th>\n",
       "      <th>Short_review</th>\n",
       "    </tr>\n",
       "  </thead>\n",
       "  <tbody>\n",
       "    <tr>\n",
       "      <th>0</th>\n",
       "      <td>Just as I Am</td>\n",
       "      <td>Cicely Tyson, Robin Miles</td>\n",
       "      <td>Audio / Nonfiction / Biography &amp; Memoir</td>\n",
       "      <td>Narrator Robin Miles bringing the same warmth ...</td>\n",
       "    </tr>\n",
       "    <tr>\n",
       "      <th>1</th>\n",
       "      <td>Red Island House</td>\n",
       "      <td>Andrea Lee</td>\n",
       "      <td>Fiction / Literary Fiction</td>\n",
       "      <td>The stories of Andrea Lee’s Red Island House a...</td>\n",
       "    </tr>\n",
       "    <tr>\n",
       "      <th>2</th>\n",
       "      <td>Flight of the Diamond Smugglers</td>\n",
       "      <td>Matthew Gavin Frank</td>\n",
       "      <td>Nonfiction / Memoir / Animals</td>\n",
       "      <td>Matthew Gavin Frank's Flight of the Diamond Sm...</td>\n",
       "    </tr>\n",
       "    <tr>\n",
       "      <th>3</th>\n",
       "      <td>The One Thing You'd Save</td>\n",
       "      <td>Linda Sue Park, Robert Sae-Heng</td>\n",
       "      <td>Children's / Middle Grade</td>\n",
       "      <td>In The One Thing You’d Save, a teacher named M...</td>\n",
       "    </tr>\n",
       "    <tr>\n",
       "      <th>4</th>\n",
       "      <td>The Daughters of Kobani</td>\n",
       "      <td>Gayle Tzemach Lemmon</td>\n",
       "      <td>Nonfiction / History / Middle Eastern History</td>\n",
       "      <td>The story of how young Kurdish women brought d...</td>\n",
       "    </tr>\n",
       "  </tbody>\n",
       "</table>\n",
       "</div>"
      ],
      "text/plain": [
       "                         Book_name                      author_name  \\\n",
       "0                     Just as I Am        Cicely Tyson, Robin Miles   \n",
       "1                 Red Island House                       Andrea Lee   \n",
       "2  Flight of the Diamond Smugglers              Matthew Gavin Frank   \n",
       "3         The One Thing You'd Save  Linda Sue Park, Robert Sae-Heng   \n",
       "4          The Daughters of Kobani             Gayle Tzemach Lemmon   \n",
       "\n",
       "                                           Genre  \\\n",
       "0        Audio / Nonfiction / Biography & Memoir   \n",
       "1                     Fiction / Literary Fiction   \n",
       "2                  Nonfiction / Memoir / Animals   \n",
       "3                      Children's / Middle Grade   \n",
       "4  Nonfiction / History / Middle Eastern History   \n",
       "\n",
       "                                        Short_review  \n",
       "0  Narrator Robin Miles bringing the same warmth ...  \n",
       "1  The stories of Andrea Lee’s Red Island House a...  \n",
       "2  Matthew Gavin Frank's Flight of the Diamond Sm...  \n",
       "3  In The One Thing You’d Save, a teacher named M...  \n",
       "4  The story of how young Kurdish women brought d...  "
      ]
     },
     "execution_count": 38,
     "metadata": {},
     "output_type": "execute_result"
    }
   ],
   "source": [
    "bookpage_final = pd.DataFrame({\"Book_name\":Book_name[:5], \"author_name\": author_name[:5], \"Genre\":genre[:5], \"Short_review\": review[:5]})\n",
    "bookpage_final"
   ]
  },
  {
   "cell_type": "markdown",
   "metadata": {},
   "source": [
    "# 5.Write a python program to scrapecricket rankings from ‘www.icc-cricket.com’. You have to scrape:\n",
    "\n",
    "1 Top 10 ODI teams in men’s cricket along with the records for matches, points and rating.\n",
    "\n",
    "2 Top 10 ODI Batsmen in men along with the records of their team and rating.\n",
    "\n",
    "3 Top 10 ODI bowlers along with the records of their team and rating"
   ]
  },
  {
   "cell_type": "code",
   "execution_count": 39,
   "metadata": {},
   "outputs": [
    {
     "data": {
      "text/plain": [
       "<Response [200]>"
      ]
     },
     "execution_count": 39,
     "metadata": {},
     "output_type": "execute_result"
    }
   ],
   "source": [
    "cricket = requests.get(\"https://www.icc-cricket.com/rankings/mens/team-rankings/odi\")\n",
    "cricket"
   ]
  },
  {
   "cell_type": "code",
   "execution_count": 41,
   "metadata": {},
   "outputs": [],
   "source": [
    "cricket1 = BeautifulSoup(cricket.content,'html.parser')"
   ]
  },
  {
   "cell_type": "code",
   "execution_count": 43,
   "metadata": {},
   "outputs": [
    {
     "data": {
      "text/plain": [
       "['England',\n",
       " 'India',\n",
       " 'New Zealand',\n",
       " 'Australia',\n",
       " 'South Africa',\n",
       " 'Pakistan',\n",
       " 'Bangladesh',\n",
       " 'Sri Lanka',\n",
       " 'West Indies',\n",
       " 'Afghanistan']"
      ]
     },
     "execution_count": 43,
     "metadata": {},
     "output_type": "execute_result"
    }
   ],
   "source": [
    "cricket2 = cricket1.find_all(['span'], class_ = \"u-hide-phablet\")\n",
    "ODI_Team = []\n",
    "\n",
    "for i in cricket2:\n",
    "    ODI_Team.append(i.text.replace(\"\\n\",\"\"))\n",
    "ODI_Team= ODI_Team[:10]\n",
    "ODI_Team"
   ]
  },
  {
   "cell_type": "code",
   "execution_count": 44,
   "metadata": {},
   "outputs": [
    {
     "data": {
      "text/plain": [
       "['Team', 'Matches', 'Points', 'Rating']"
      ]
     },
     "execution_count": 44,
     "metadata": {},
     "output_type": "execute_result"
    }
   ],
   "source": [
    "p = cricket1.find_all(['span'], class_ = \"u-hide-mobile\")\n",
    "Title = []\n",
    "\n",
    "for i in p:\n",
    "    Title.append(i.text.replace(\"\\n\",\"\"))\n",
    "\n",
    "Title"
   ]
  },
  {
   "cell_type": "code",
   "execution_count": 45,
   "metadata": {},
   "outputs": [
    {
     "data": {
      "text/plain": [
       "['44']"
      ]
     },
     "execution_count": 45,
     "metadata": {},
     "output_type": "execute_result"
    }
   ],
   "source": [
    "q = cricket1.find_all(['td'], class_ = \"rankings-block__banner--matches\")\n",
    "Matches= []\n",
    "for i in q:\n",
    "    Matches.append(i.text.replace(\"\\n\",\"\"))\n",
    "\n",
    "Matches"
   ]
  },
  {
   "cell_type": "code",
   "execution_count": 46,
   "metadata": {},
   "outputs": [
    {
     "data": {
      "text/plain": [
       "['5,405']"
      ]
     },
     "execution_count": 46,
     "metadata": {},
     "output_type": "execute_result"
    }
   ],
   "source": [
    "r = cricket1.find_all(['td'], class_ = \"rankings-block__banner--points\")\n",
    "Points= []\n",
    "for i in r:\n",
    "    Points.append(i.text.replace(\"\\n\",\"\"))\n",
    "\n",
    "Points"
   ]
  },
  {
   "cell_type": "code",
   "execution_count": 47,
   "metadata": {},
   "outputs": [
    {
     "data": {
      "text/plain": [
       "['123']"
      ]
     },
     "execution_count": 47,
     "metadata": {},
     "output_type": "execute_result"
    }
   ],
   "source": [
    "s = cricket1.find_all(['td'], class_ = \"rankings-block__banner--rating u-text-right\")\n",
    "Ratings= []\n",
    "for i in s:\n",
    "    Ratings.append(i.text.replace(\"\\n\",\"\"))\n",
    "Ratings= [i.split('                            ')[1]for i in Ratings ]   \n",
    "Ratings"
   ]
  },
  {
   "cell_type": "code",
   "execution_count": 48,
   "metadata": {},
   "outputs": [],
   "source": [
    "t = cricket1.find_all(['td'], class_ = \"table-body__cell u-center-text\")\n",
    "Stats = []\n",
    "\n",
    "for i in t:\n",
    "    Stats.append(i.text.replace(\"\\n\",\"\"))"
   ]
  },
  {
   "cell_type": "code",
   "execution_count": 49,
   "metadata": {},
   "outputs": [],
   "source": [
    "for i in range(0,len(Stats)):\n",
    "    if i == 0 or  i/2 == i//2:\n",
    "        Matches.append(Stats[i])    \n",
    "    else:\n",
    "        Points.append(Stats[i])\n",
    "Points = Points[:10]\n",
    "Matches= Matches[:10]"
   ]
  },
  {
   "cell_type": "code",
   "execution_count": 51,
   "metadata": {},
   "outputs": [],
   "source": [
    "ODI_TOP_10 = pd.DataFrame({Title[0]:ODI_Team, Title[1]:Matches, Title[2]: Points})"
   ]
  },
  {
   "cell_type": "code",
   "execution_count": 52,
   "metadata": {},
   "outputs": [
    {
     "data": {
      "text/html": [
       "<div>\n",
       "<style scoped>\n",
       "    .dataframe tbody tr th:only-of-type {\n",
       "        vertical-align: middle;\n",
       "    }\n",
       "\n",
       "    .dataframe tbody tr th {\n",
       "        vertical-align: top;\n",
       "    }\n",
       "\n",
       "    .dataframe thead th {\n",
       "        text-align: right;\n",
       "    }\n",
       "</style>\n",
       "<table border=\"1\" class=\"dataframe\">\n",
       "  <thead>\n",
       "    <tr style=\"text-align: right;\">\n",
       "      <th></th>\n",
       "      <th>Team</th>\n",
       "      <th>Matches</th>\n",
       "      <th>Points</th>\n",
       "    </tr>\n",
       "  </thead>\n",
       "  <tbody>\n",
       "    <tr>\n",
       "      <th>0</th>\n",
       "      <td>England</td>\n",
       "      <td>44</td>\n",
       "      <td>5,405</td>\n",
       "    </tr>\n",
       "    <tr>\n",
       "      <th>1</th>\n",
       "      <td>India</td>\n",
       "      <td>52</td>\n",
       "      <td>6,102</td>\n",
       "    </tr>\n",
       "    <tr>\n",
       "      <th>2</th>\n",
       "      <td>New Zealand</td>\n",
       "      <td>33</td>\n",
       "      <td>3,857</td>\n",
       "    </tr>\n",
       "    <tr>\n",
       "      <th>3</th>\n",
       "      <td>Australia</td>\n",
       "      <td>39</td>\n",
       "      <td>4,344</td>\n",
       "    </tr>\n",
       "    <tr>\n",
       "      <th>4</th>\n",
       "      <td>South Africa</td>\n",
       "      <td>31</td>\n",
       "      <td>3,345</td>\n",
       "    </tr>\n",
       "    <tr>\n",
       "      <th>5</th>\n",
       "      <td>Pakistan</td>\n",
       "      <td>35</td>\n",
       "      <td>3,490</td>\n",
       "    </tr>\n",
       "    <tr>\n",
       "      <th>6</th>\n",
       "      <td>Bangladesh</td>\n",
       "      <td>38</td>\n",
       "      <td>3,432</td>\n",
       "    </tr>\n",
       "    <tr>\n",
       "      <th>7</th>\n",
       "      <td>Sri Lanka</td>\n",
       "      <td>42</td>\n",
       "      <td>3,372</td>\n",
       "    </tr>\n",
       "    <tr>\n",
       "      <th>8</th>\n",
       "      <td>West Indies</td>\n",
       "      <td>49</td>\n",
       "      <td>3,802</td>\n",
       "    </tr>\n",
       "    <tr>\n",
       "      <th>9</th>\n",
       "      <td>Afghanistan</td>\n",
       "      <td>31</td>\n",
       "      <td>1,844</td>\n",
       "    </tr>\n",
       "  </tbody>\n",
       "</table>\n",
       "</div>"
      ],
      "text/plain": [
       "           Team Matches Points\n",
       "0       England      44  5,405\n",
       "1         India      52  6,102\n",
       "2   New Zealand      33  3,857\n",
       "3     Australia      39  4,344\n",
       "4  South Africa      31  3,345\n",
       "5      Pakistan      35  3,490\n",
       "6    Bangladesh      38  3,432\n",
       "7     Sri Lanka      42  3,372\n",
       "8   West Indies      49  3,802\n",
       "9   Afghanistan      31  1,844"
      ]
     },
     "execution_count": 52,
     "metadata": {},
     "output_type": "execute_result"
    }
   ],
   "source": [
    "ODI_TOP_10"
   ]
  },
  {
   "cell_type": "code",
   "execution_count": 53,
   "metadata": {},
   "outputs": [
    {
     "data": {
      "text/plain": [
       "<Response [200]>"
      ]
     },
     "execution_count": 53,
     "metadata": {},
     "output_type": "execute_result"
    }
   ],
   "source": [
    "ICC_bat = requests.get(\"https://www.icc-cricket.com/rankings/mens/player-rankings/odi\")\n",
    "ICC_bat"
   ]
  },
  {
   "cell_type": "code",
   "execution_count": 54,
   "metadata": {},
   "outputs": [],
   "source": [
    "bat_soup = BeautifulSoup(ICC_bat.content,'html.parser')"
   ]
  },
  {
   "cell_type": "code",
   "execution_count": 55,
   "metadata": {},
   "outputs": [
    {
     "data": {
      "text/plain": [
       "['Virat Kohli',\n",
       " 'Trent Boult',\n",
       " 'Shakib Al Hasan',\n",
       " 'Virat Kohli',\n",
       " 'Trent Boult',\n",
       " 'Shakib Al Hasan']"
      ]
     },
     "execution_count": 55,
     "metadata": {},
     "output_type": "execute_result"
    }
   ],
   "source": [
    "name = bat_soup.find_all(['div'], class_ = \"rankings-block__banner--name\")\n",
    "banner_name = []\n",
    "\n",
    "for i in name:\n",
    "    banner_name.append(i.text.replace(\"\\n\",\"\"))\n",
    "banner_name"
   ]
  },
  {
   "cell_type": "code",
   "execution_count": 56,
   "metadata": {},
   "outputs": [
    {
     "data": {
      "text/plain": [
       "['IND', 'NZ', 'BAN', 'IND', 'NZ', 'BAN']"
      ]
     },
     "execution_count": 56,
     "metadata": {},
     "output_type": "execute_result"
    }
   ],
   "source": [
    "l = bat_soup.find_all(['div'], class_ = \"rankings-block__banner--nationality\")\n",
    "natt = []\n",
    "\n",
    "for i in l:\n",
    "    natt.append(i.text.replace(\"\\n\",\"\"))\n",
    "natt"
   ]
  },
  {
   "cell_type": "code",
   "execution_count": 57,
   "metadata": {},
   "outputs": [
    {
     "data": {
      "text/plain": [
       "['870', '722', '420', '870', '722', '420']"
      ]
     },
     "execution_count": 57,
     "metadata": {},
     "output_type": "execute_result"
    }
   ],
   "source": [
    "m = bat_soup.find_all(['div'], class_ = \"rankings-block__banner--rating\")\n",
    "ratt = []\n",
    "\n",
    "for i in m:\n",
    "    ratt.append(i.text.replace(\"\\n\",\"\"))\n",
    "ratt"
   ]
  },
  {
   "cell_type": "code",
   "execution_count": 58,
   "metadata": {},
   "outputs": [],
   "source": [
    "Batsman_name=[banner_name[0]]\n",
    "Batsman_nation = [natt[0]]\n",
    "Batsman_Rattings = [ratt[0]]\n",
    "Bowler_name = [banner_name[1]]\n",
    "Bowler_nation = [natt[1]]\n",
    "Bowler_Rattings = [ratt[1]]"
   ]
  },
  {
   "cell_type": "code",
   "execution_count": 59,
   "metadata": {},
   "outputs": [
    {
     "data": {
      "text/plain": [
       "['Rohit Sharma',\n",
       " 'Babar Azam',\n",
       " 'Ross Taylor',\n",
       " 'Aaron Finch',\n",
       " 'Francois du Plessis',\n",
       " 'David Warner',\n",
       " 'Shai Hope',\n",
       " 'Kane Williamson',\n",
       " 'Quinton de Kock',\n",
       " 'Mujeeb Ur Rahman',\n",
       " 'Jasprit Bumrah',\n",
       " 'Mehedi Hasan',\n",
       " 'Chris Woakes',\n",
       " 'Kagiso Rabada',\n",
       " 'Josh Hazlewood',\n",
       " 'Mustafizur Rahman',\n",
       " 'Mohammad Amir',\n",
       " 'Pat Cummins']"
      ]
     },
     "execution_count": 59,
     "metadata": {},
     "output_type": "execute_result"
    }
   ],
   "source": [
    "Name = bat_soup.find_all(['td'], class_ = \"table-body__cell name\")\n",
    "table_names = []\n",
    "for i in Name:\n",
    "    table_names.append(i.text.replace(\"\\n\",\"\"))\n",
    "table_names = table_names[:18]\n",
    "table_names"
   ]
  },
  {
   "cell_type": "code",
   "execution_count": 60,
   "metadata": {},
   "outputs": [],
   "source": [
    "l1 = bat_soup.find_all(['span'], class_ = \"table-body__logo-text\")\n",
    "Nat1 = []\n",
    "for i in l1:\n",
    "    Nat1.append(i.text.replace(\"\\n\",\"\"))\n",
    "Nat1 = Nat1[:18]"
   ]
  },
  {
   "cell_type": "code",
   "execution_count": 61,
   "metadata": {},
   "outputs": [
    {
     "data": {
      "text/plain": [
       "['842',\n",
       " '837',\n",
       " '818',\n",
       " '791',\n",
       " '790',\n",
       " '773',\n",
       " '773',\n",
       " '765',\n",
       " '755',\n",
       " '708',\n",
       " '700',\n",
       " '694',\n",
       " '675',\n",
       " '665',\n",
       " '660',\n",
       " '658',\n",
       " '647',\n",
       " '646']"
      ]
     },
     "execution_count": 61,
     "metadata": {},
     "output_type": "execute_result"
    }
   ],
   "source": [
    "m1 = bat_soup.find_all(['td'], class_ = \"table-body__cell u-text-right rating\")\n",
    "Rat1 = []\n",
    "for i in m1:\n",
    "    Rat1.append(i.text.replace(\"\\n\",\"\"))\n",
    "Rat1 = Rat1[:18]\n",
    "Rat1"
   ]
  },
  {
   "cell_type": "code",
   "execution_count": 62,
   "metadata": {},
   "outputs": [],
   "source": [
    "for i in table_names[0:9]:\n",
    "    Batsman_name.append(i)\n",
    "for i in Nat1[0:9]:\n",
    "    Batsman_nation.append(i)\n",
    "for i in Rat1[0:9]:\n",
    "    Batsman_Rattings.append(i)    \n",
    "for i in table_names[9:18]:\n",
    "    Bowler_name.append(i)\n",
    "for i in Nat1[9:18]:\n",
    "    Bowler_nation.append(i)\n",
    "for i in Rat1[9:18]:\n",
    "    Bowler_Rattings.append(i)"
   ]
  },
  {
   "cell_type": "code",
   "execution_count": 63,
   "metadata": {},
   "outputs": [],
   "source": [
    "ODI_TOP_10_Batsman = pd.DataFrame({\"Batsman_name\":Batsman_name, \"Batsman_nation\":Batsman_nation, \"Batsman_Rattings\": Batsman_Rattings})\n",
    "ODI_TOP_10_Bowler = pd.DataFrame({\"Bowler_name\":Bowler_name, \"Bowler_nation\":Bowler_nation, \"Bowler_Rattings\": Bowler_Rattings})"
   ]
  },
  {
   "cell_type": "code",
   "execution_count": 64,
   "metadata": {},
   "outputs": [
    {
     "data": {
      "text/html": [
       "<div>\n",
       "<style scoped>\n",
       "    .dataframe tbody tr th:only-of-type {\n",
       "        vertical-align: middle;\n",
       "    }\n",
       "\n",
       "    .dataframe tbody tr th {\n",
       "        vertical-align: top;\n",
       "    }\n",
       "\n",
       "    .dataframe thead th {\n",
       "        text-align: right;\n",
       "    }\n",
       "</style>\n",
       "<table border=\"1\" class=\"dataframe\">\n",
       "  <thead>\n",
       "    <tr style=\"text-align: right;\">\n",
       "      <th></th>\n",
       "      <th>Batsman_name</th>\n",
       "      <th>Batsman_nation</th>\n",
       "      <th>Batsman_Rattings</th>\n",
       "    </tr>\n",
       "  </thead>\n",
       "  <tbody>\n",
       "    <tr>\n",
       "      <th>0</th>\n",
       "      <td>Virat Kohli</td>\n",
       "      <td>IND</td>\n",
       "      <td>870</td>\n",
       "    </tr>\n",
       "    <tr>\n",
       "      <th>1</th>\n",
       "      <td>Rohit Sharma</td>\n",
       "      <td>IND</td>\n",
       "      <td>842</td>\n",
       "    </tr>\n",
       "    <tr>\n",
       "      <th>2</th>\n",
       "      <td>Babar Azam</td>\n",
       "      <td>PAK</td>\n",
       "      <td>837</td>\n",
       "    </tr>\n",
       "    <tr>\n",
       "      <th>3</th>\n",
       "      <td>Ross Taylor</td>\n",
       "      <td>NZ</td>\n",
       "      <td>818</td>\n",
       "    </tr>\n",
       "    <tr>\n",
       "      <th>4</th>\n",
       "      <td>Aaron Finch</td>\n",
       "      <td>AUS</td>\n",
       "      <td>791</td>\n",
       "    </tr>\n",
       "    <tr>\n",
       "      <th>5</th>\n",
       "      <td>Francois du Plessis</td>\n",
       "      <td>SA</td>\n",
       "      <td>790</td>\n",
       "    </tr>\n",
       "    <tr>\n",
       "      <th>6</th>\n",
       "      <td>David Warner</td>\n",
       "      <td>AUS</td>\n",
       "      <td>773</td>\n",
       "    </tr>\n",
       "    <tr>\n",
       "      <th>7</th>\n",
       "      <td>Shai Hope</td>\n",
       "      <td>WI</td>\n",
       "      <td>773</td>\n",
       "    </tr>\n",
       "    <tr>\n",
       "      <th>8</th>\n",
       "      <td>Kane Williamson</td>\n",
       "      <td>NZ</td>\n",
       "      <td>765</td>\n",
       "    </tr>\n",
       "    <tr>\n",
       "      <th>9</th>\n",
       "      <td>Quinton de Kock</td>\n",
       "      <td>SA</td>\n",
       "      <td>755</td>\n",
       "    </tr>\n",
       "  </tbody>\n",
       "</table>\n",
       "</div>"
      ],
      "text/plain": [
       "          Batsman_name Batsman_nation Batsman_Rattings\n",
       "0          Virat Kohli            IND              870\n",
       "1         Rohit Sharma            IND              842\n",
       "2           Babar Azam            PAK              837\n",
       "3          Ross Taylor             NZ              818\n",
       "4          Aaron Finch            AUS              791\n",
       "5  Francois du Plessis             SA              790\n",
       "6         David Warner            AUS              773\n",
       "7            Shai Hope             WI              773\n",
       "8      Kane Williamson             NZ              765\n",
       "9      Quinton de Kock             SA              755"
      ]
     },
     "execution_count": 64,
     "metadata": {},
     "output_type": "execute_result"
    }
   ],
   "source": [
    "ODI_TOP_10_Batsman"
   ]
  },
  {
   "cell_type": "code",
   "execution_count": 65,
   "metadata": {},
   "outputs": [
    {
     "data": {
      "text/html": [
       "<div>\n",
       "<style scoped>\n",
       "    .dataframe tbody tr th:only-of-type {\n",
       "        vertical-align: middle;\n",
       "    }\n",
       "\n",
       "    .dataframe tbody tr th {\n",
       "        vertical-align: top;\n",
       "    }\n",
       "\n",
       "    .dataframe thead th {\n",
       "        text-align: right;\n",
       "    }\n",
       "</style>\n",
       "<table border=\"1\" class=\"dataframe\">\n",
       "  <thead>\n",
       "    <tr style=\"text-align: right;\">\n",
       "      <th></th>\n",
       "      <th>Bowler_name</th>\n",
       "      <th>Bowler_nation</th>\n",
       "      <th>Bowler_Rattings</th>\n",
       "    </tr>\n",
       "  </thead>\n",
       "  <tbody>\n",
       "    <tr>\n",
       "      <th>0</th>\n",
       "      <td>Trent Boult</td>\n",
       "      <td>NZ</td>\n",
       "      <td>722</td>\n",
       "    </tr>\n",
       "    <tr>\n",
       "      <th>1</th>\n",
       "      <td>Mujeeb Ur Rahman</td>\n",
       "      <td>AFG</td>\n",
       "      <td>708</td>\n",
       "    </tr>\n",
       "    <tr>\n",
       "      <th>2</th>\n",
       "      <td>Jasprit Bumrah</td>\n",
       "      <td>IND</td>\n",
       "      <td>700</td>\n",
       "    </tr>\n",
       "    <tr>\n",
       "      <th>3</th>\n",
       "      <td>Mehedi Hasan</td>\n",
       "      <td>BAN</td>\n",
       "      <td>694</td>\n",
       "    </tr>\n",
       "    <tr>\n",
       "      <th>4</th>\n",
       "      <td>Chris Woakes</td>\n",
       "      <td>ENG</td>\n",
       "      <td>675</td>\n",
       "    </tr>\n",
       "    <tr>\n",
       "      <th>5</th>\n",
       "      <td>Kagiso Rabada</td>\n",
       "      <td>SA</td>\n",
       "      <td>665</td>\n",
       "    </tr>\n",
       "    <tr>\n",
       "      <th>6</th>\n",
       "      <td>Josh Hazlewood</td>\n",
       "      <td>AUS</td>\n",
       "      <td>660</td>\n",
       "    </tr>\n",
       "    <tr>\n",
       "      <th>7</th>\n",
       "      <td>Mustafizur Rahman</td>\n",
       "      <td>BAN</td>\n",
       "      <td>658</td>\n",
       "    </tr>\n",
       "    <tr>\n",
       "      <th>8</th>\n",
       "      <td>Mohammad Amir</td>\n",
       "      <td>PAK</td>\n",
       "      <td>647</td>\n",
       "    </tr>\n",
       "    <tr>\n",
       "      <th>9</th>\n",
       "      <td>Pat Cummins</td>\n",
       "      <td>AUS</td>\n",
       "      <td>646</td>\n",
       "    </tr>\n",
       "  </tbody>\n",
       "</table>\n",
       "</div>"
      ],
      "text/plain": [
       "         Bowler_name Bowler_nation Bowler_Rattings\n",
       "0        Trent Boult            NZ             722\n",
       "1   Mujeeb Ur Rahman           AFG             708\n",
       "2     Jasprit Bumrah           IND             700\n",
       "3       Mehedi Hasan           BAN             694\n",
       "4       Chris Woakes           ENG             675\n",
       "5      Kagiso Rabada            SA             665\n",
       "6     Josh Hazlewood           AUS             660\n",
       "7  Mustafizur Rahman           BAN             658\n",
       "8      Mohammad Amir           PAK             647\n",
       "9        Pat Cummins           AUS             646"
      ]
     },
     "execution_count": 65,
     "metadata": {},
     "output_type": "execute_result"
    }
   ],
   "source": [
    "ODI_TOP_10_Bowler"
   ]
  },
  {
   "cell_type": "markdown",
   "metadata": {},
   "source": [
    "# 7.Write a python program to scrape details of all the mobile phones under Rs. 20,000 listed on Amazon.in. The scraped data should include Product Name, Price, Image URL and Average Rating"
   ]
  },
  {
   "cell_type": "code",
   "execution_count": 86,
   "metadata": {},
   "outputs": [],
   "source": [
    "headers = {\n",
    "    \"User-Agent\" :\"Mozilla/5.0 (Windows NT 10.0; Win64; x64) AppleWebKit/537.36 (KHTML, like Gecko) Chrome/89.0.4389.90 Safari/537.36\"}\n",
    "\n",
    "head = {\"headers\":headers}"
   ]
  },
  {
   "cell_type": "code",
   "execution_count": 87,
   "metadata": {},
   "outputs": [],
   "source": [
    "link = \"https://www.amazon.in/s?k=phones+under+20000&rh=n%3A1389432031&ref=nb_sb_noss\""
   ]
  },
  {
   "cell_type": "code",
   "execution_count": 88,
   "metadata": {},
   "outputs": [
    {
     "data": {
      "text/plain": [
       "<Response [200]>"
      ]
     },
     "execution_count": 88,
     "metadata": {},
     "output_type": "execute_result"
    }
   ],
   "source": [
    "amazon = requests.get(link,{\"headers\":headers})\n",
    "amazon"
   ]
  },
  {
   "cell_type": "code",
   "execution_count": null,
   "metadata": {},
   "outputs": [],
   "source": [
    "for i in range(1,88):\n",
    "    exec(f\"URL_1_{i} = 'https://www.amazon.in/s?k=phones+under+20000&i=electronics&rh=n%3A1389432031&page={i}&qid=1616316117&ref=sr_pg_{i}'\")\n",
    "\n",
    "    exec(f\"Mob_20000_{i} = requests.get(URL_1_{i},head)\")\n",
    "    exec(f\"Mob20000_{i} = BeautifulSoup(Mob_20000_{i}.content,'html.parser')\")"
   ]
  },
  {
   "cell_type": "code",
   "execution_count": null,
   "metadata": {},
   "outputs": [],
   "source": [
    "xy = BeautifulSoup(amazon.content,'html.parser')\n",
    "prod = xy.find_all(['a'], class_ = 'a-link-normal a-text-normal')\n",
    "product= []\n",
    "for i in prod:\n",
    "    product.append(i.text.replace(\"\\n\",\"\"))"
   ]
  },
  {
   "cell_type": "code",
   "execution_count": null,
   "metadata": {},
   "outputs": [],
   "source": [
    "xy1 = xy.find_all(['span'], class_ = 'a-price-whole')\n",
    "price= []\n",
    "for i in xy1:\n",
    "    price.append(i.text.replace(\"\\n\",\"\"))"
   ]
  },
  {
   "cell_type": "code",
   "execution_count": null,
   "metadata": {},
   "outputs": [],
   "source": [
    "xy2 = xy.find_all(['span'], class_ = 'a-icon-alt')\n",
    "Rate= []\n",
    "for i in xy2:\n",
    "    Rate.append(i.text.replace(\"\\n\",\"\"))"
   ]
  },
  {
   "cell_type": "code",
   "execution_count": null,
   "metadata": {},
   "outputs": [],
   "source": [
    "xy3 = xy.find_all(['img'])\n",
    "Image= []\n",
    "for i in xy3:\n",
    "    Image.append(i.get(\"src\"))\n",
    "Image = Image[3:-8]"
   ]
  },
  {
   "cell_type": "code",
   "execution_count": null,
   "metadata": {},
   "outputs": [],
   "source": [
    "amazon_final = {\"product\": product[:23], \"Image\": Image[:23], \"Rate\": Rate[:23], \"price\": price[:23]}"
   ]
  },
  {
   "cell_type": "code",
   "execution_count": null,
   "metadata": {},
   "outputs": [],
   "source": [
    "Amazon_final = pd.DataFrame(amazon_final)"
   ]
  },
  {
   "cell_type": "code",
   "execution_count": null,
   "metadata": {},
   "outputs": [],
   "source": [
    "Amazon_final"
   ]
  },
  {
   "cell_type": "code",
   "execution_count": null,
   "metadata": {},
   "outputs": [],
   "source": []
  },
  {
   "cell_type": "code",
   "execution_count": null,
   "metadata": {},
   "outputs": [],
   "source": []
  },
  {
   "cell_type": "code",
   "execution_count": null,
   "metadata": {},
   "outputs": [],
   "source": []
  }
 ],
 "metadata": {
  "kernelspec": {
   "display_name": "Python 3",
   "language": "python",
   "name": "python3"
  },
  "language_info": {
   "codemirror_mode": {
    "name": "ipython",
    "version": 3
   },
   "file_extension": ".py",
   "mimetype": "text/x-python",
   "name": "python",
   "nbconvert_exporter": "python",
   "pygments_lexer": "ipython3",
   "version": "3.8.3"
  }
 },
 "nbformat": 4,
 "nbformat_minor": 4
}
